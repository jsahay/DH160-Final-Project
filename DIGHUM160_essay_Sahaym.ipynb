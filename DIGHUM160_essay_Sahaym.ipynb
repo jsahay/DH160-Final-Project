{
 "cells": [
  {
   "cell_type": "markdown",
   "metadata": {},
   "source": [
    "<img src=\"../../Img/backdrop-wh.png\" alt=\"Drawing\" style=\"width: 300px;\"/>\n",
    "\n",
    "<div style=\"display: block; width: 100%; height: 100px;\">\n",
    "\n",
    "<p style=\"float: left;\">\n",
    "    <span style=\"font-weight: bold; font-size: 20px;\">\n",
    "        DIGHUM160 - Critical Digital Humanities \n",
    "        <br />\n",
    "        Instructor: Tom van Nuenen<br />\n",
    "        Final Project\n",
    "    </span>\n",
    "</p>"
   ]
  },
  {
   "cell_type": "markdown",
   "metadata": {},
   "source": [
    "**Project title:** ```Memes, Discussion, and Worldviews: An Exploration of r/HistoryMemes```\n",
    "\n",
    "**Student name:** ```Jay Sahaym```\n",
    "\n",
    "Word limit: Between 2500 and 3000 words (excluding code cells, outputs, and references).\n"
   ]
  },
  {
   "cell_type": "code",
   "execution_count": 49,
   "metadata": {},
   "outputs": [],
   "source": [
    "import os\n",
    "import pandas as pd\n",
    "import spacy\n",
    "import nltk\n",
    "from nltk.corpus import stopwords\n",
    "import sklearn\n",
    "from sklearn.cluster import KMeans\n",
    "from sklearn.metrics import silhouette_score\n",
    "import string\n",
    "from gensim import corpora, models, similarities\n",
    "from gensim.models.coherencemodel import CoherenceModel\n",
    "from gensim.models.ldamodel import LdaModel\n",
    "import matplotlib.pyplot as plt\n",
    "from gensim.models import Word2Vec\n",
    "from gensim.test.utils import datapath, get_tmpfile\n",
    "from gensim.models import KeyedVectors\n",
    "from gensim.scripts.glove2word2vec import glove2word2vec\n",
    "from operator import itemgetter\n",
    "from scipy import spatial\n",
    "from nltk.sentiment.vader import SentimentIntensityAnalyzer\n",
    "import pyLDAvis\n",
    "import pyLDAvis.gensim_models as gensimvis\n",
    "import inflect\n",
    "import numpy as np\n",
    "import statistics\n",
    "import itertools\n",
    "from datetime import datetime\n",
    "import statistics\n",
    "import nltk.data\n",
    "from sklearn.manifold import TSNE\n",
    "import seaborn as sns"
   ]
  },
  {
   "cell_type": "code",
   "execution_count": 2,
   "metadata": {},
   "outputs": [],
   "source": [
    "nlp = spacy.load('en_core_web_sm')"
   ]
  },
  {
   "cell_type": "markdown",
   "metadata": {
    "jp-MarkdownHeadingCollapsed": true,
    "tags": []
   },
   "source": [
    "## Introduction\n",
    "\n",
    "Reddit is a platform with a wide variety of forums known as subreddits, each focused on a specific topic. One of the largest humor-based subreddits is r/HistoryMemes. This subreddit is devoted to posting jokes and memes about history and historical events. As a meme-based forum, humor is the dominant tone and style of comments and posts. However, the subject matter lends itself to more serious discussions on historical records and politics. User views are revealed through the language in their posts and comments. One would expect that an online forum, with potential contributors ostensibly coming from a wide range of backgrounds, would have a similarly broad spectrum of worldviews or political opinions. Anecdotally, however, this hypothesis is not well supported. Instead, there is evidence that a common perspective is created and perpetuated through participation in the subreddit.\n",
    "\n",
    "<table><tr>\n",
    "<td> <img src=\"figures/civilwarmeme.png\" width=\"400\" /> Figure 1.a: Meme about the Civil War</td>\n",
    "<td> <img src=\"figures/typicalthread.png\" width=\"400\" /> Figure 1.b: Typical comment thread under Figure 1.a  </td>\n",
    "<td> <img src=\"figures/controversialcomm.png\" width=\"400\" />\n",
    "Figure 1.c: Downvoted thread under 1.a</td>\n",
    "</tr></table>\n",
    "\n",
    "In other forms of discourse, the public opinions of the American Civil War can be contentious. For example, states such as Idaho, Texas, and Louisiana have all had bills that limited education about slavery progress through state legislatures with significant support. However, the vast majority of the comment threads under Figure 1.a, one of the highest upvoted posts in the subreddit, all support the same historical view depicted in Figure 1.b, which claims that the Civil War was caused by the southern states' desire to maintain the system of slavery. Dissenting opinions are downvoted and therefore ignored by the vast majority of users, as seen in Figure 1.c. This post is just one example of the subreddit's promotion of a specific interpretation of historical events.\n",
    "\n",
    "### Positionality/Previous Knowledge/Assumptions\n",
    "Through my previous interactions with the community, I have observed that the memes and jokes generally address widely known topics, specifically Western military history. I have especially noticed that both World Wars and the United States are very often referenced in posts on the subreddit. This observation is likely a reflection of the skewed user demographics (Western and younger) of Reddit as a whole; users make jokes based on what they know best, which is mostly what they have been taught in their school system. Fitting a meme-based subreddit, the language is heavily influenced by internet culture (e.g., “based”, “UNO reverse”) and for the most part somewhat juvenile. However, I noticed that there were two main types of comments: those that were or related to jokes and memes and those that were more focused on the actual historical event mentioned in the post. The latter type tended to be formal and in some cases academic, but also had some biases that could be interesting to explore. The subreddit rules, enforced by moderators, ban antagonistic comments that one might expect from a history-based subreddit. From a cursory glance, the subreddit seems to have limited antagonistic conflicts, though there are jokes shared at the expense of specific countries/cultures depending on the post. In general, I would claim that the redditors that specifically frequent r/HistoryMemes tend to be liberal or leftist in their political affiliation.\n",
    "\n",
    "### Research Questions\n",
    "This project will attempt to describe the key elements of the shared culture of the subreddit using several different computational methods. Following the discovery of these points, I will identify the many ways in which the culture is created and perpetuated through the analysis of several posts and comments. Another avenue of exploration will be to look at the biases of comments. There are two main types of comments: jokes or memes and more serious historical discussion. Jokes and memes are worth analyzing for bias, but the more formal historical debates will likely be of more relevance. Using the worldview characteristics observed from language analysis, I will try to construct an image of the average r/HistoryMemes user to get a better understanding of the factors that contribute to the shared historical and political narrative of the subreddit.\n",
    "\n",
    "### Dataset Information\n",
    "The dataset I have chosen to use for this project is a CSV file containing the comments from the subreddit r/HistoryMemes. The comments contain the majority of interactions that actual users of Reddit have with the subreddit. Comment sections are where the discussions involving multiple users occur. Therefore, the comments would be the most responsible in promoting a shared worldview if there is one. Comments are also nicely categorized by Reddit itself. The upvote system provides a clear metric for how the subreddit approves of a comment, whereas a particularly controversial post, i.e. one that engenders heated discussion, may have a high score due to a desire for user interaction in the comments of that post.\n",
    "\n",
    "While it would have added another dimension to the paper, subreddit post data was not able to be used in the context of the project. The largest stumbling block was the lack of text in each post. This is a feature of r/HistoryMemes that was unsurprisingly reflected in the dataset; if each post is a meme, then they contain an image, with the only text involved being the title. I could have included the titles, but they are often not informational. Titles of posts could be related to the historical content, but more often tended to be related to another joke or the meme format itself. An example of an unhelpful title can be seen in Figure 2 below. Though the title, \"They overestimated it.\" does explain the joke, it does not reference the Cold War, or aircraft, or the military. Any tokens that would be obtained from such a title would not be distinguishing in any way.\n",
    "\n",
    "<img src=\"figures/unhelpfultitle.png\" width=\"400\" /> \n",
    "Figure 2: A post with an unhelpful title."
   ]
  },
  {
   "cell_type": "markdown",
   "metadata": {},
   "source": [
    "## Analysis"
   ]
  },
  {
   "cell_type": "markdown",
   "metadata": {},
   "source": [
    "### Preprocessing\n"
   ]
  },
  {
   "cell_type": "code",
   "execution_count": 3,
   "metadata": {
    "tags": []
   },
   "outputs": [
    {
     "name": "stderr",
     "output_type": "stream",
     "text": [
      "C:\\Users\\Jay Sahaym\\AppData\\Local\\Temp\\ipykernel_3752\\448898949.py:2: DtypeWarning: Columns (2) have mixed types. Specify dtype option on import or set low_memory=False.\n",
      "  comms_df = pd.read_csv('data/HistoryMemesData/comments.csv')\n"
     ]
    },
    {
     "data": {
      "text/html": [
       "<div>\n",
       "<style scoped>\n",
       "    .dataframe tbody tr th:only-of-type {\n",
       "        vertical-align: middle;\n",
       "    }\n",
       "\n",
       "    .dataframe tbody tr th {\n",
       "        vertical-align: top;\n",
       "    }\n",
       "\n",
       "    .dataframe thead th {\n",
       "        text-align: right;\n",
       "    }\n",
       "</style>\n",
       "<table border=\"1\" class=\"dataframe\">\n",
       "  <thead>\n",
       "    <tr style=\"text-align: right;\">\n",
       "      <th></th>\n",
       "      <th>idint</th>\n",
       "      <th>idstr</th>\n",
       "      <th>created</th>\n",
       "      <th>author</th>\n",
       "      <th>parent</th>\n",
       "      <th>submission</th>\n",
       "      <th>body</th>\n",
       "      <th>score</th>\n",
       "      <th>subreddit</th>\n",
       "      <th>distinguish</th>\n",
       "      <th>textlen</th>\n",
       "    </tr>\n",
       "  </thead>\n",
       "  <tbody>\n",
       "    <tr>\n",
       "      <th>0</th>\n",
       "      <td>2.650028e+10</td>\n",
       "      <td>t1_c69l239</td>\n",
       "      <td>1347917692</td>\n",
       "      <td>Zrk2</td>\n",
       "      <td>t3_101kzp</td>\n",
       "      <td>t3_101kzp</td>\n",
       "      <td>I'm so sorry.</td>\n",
       "      <td>2.0</td>\n",
       "      <td>HistoryMemes</td>\n",
       "      <td>NaN</td>\n",
       "      <td>13.0</td>\n",
       "    </tr>\n",
       "    <tr>\n",
       "      <th>1</th>\n",
       "      <td>2.650039e+10</td>\n",
       "      <td>t1_c69neao</td>\n",
       "      <td>1347926661</td>\n",
       "      <td>Zrk2</td>\n",
       "      <td>t3_101my1</td>\n",
       "      <td>t3_101my1</td>\n",
       "      <td>Too bad most of these will be pretty much one-...</td>\n",
       "      <td>1.0</td>\n",
       "      <td>HistoryMemes</td>\n",
       "      <td>NaN</td>\n",
       "      <td>57.0</td>\n",
       "    </tr>\n",
       "    <tr>\n",
       "      <th>2</th>\n",
       "      <td>2.661457e+10</td>\n",
       "      <td>t1_c85mltf</td>\n",
       "      <td>1359471648</td>\n",
       "      <td>kjoneslol</td>\n",
       "      <td>t3_173cpi</td>\n",
       "      <td>t3_173cpi</td>\n",
       "      <td>I've removed this. It should be a historical m...</td>\n",
       "      <td>1.0</td>\n",
       "      <td>HistoryMemes</td>\n",
       "      <td>moderator</td>\n",
       "      <td>160.0</td>\n",
       "    </tr>\n",
       "    <tr>\n",
       "      <th>3</th>\n",
       "      <td>2.665805e+10</td>\n",
       "      <td>t1_c8viijd</td>\n",
       "      <td>1363275514</td>\n",
       "      <td>kjoneslol</td>\n",
       "      <td>t3_1aa96t</td>\n",
       "      <td>t3_1aa96t</td>\n",
       "      <td>I've removed this\\n\\n&gt;Remember, this is the me...</td>\n",
       "      <td>1.0</td>\n",
       "      <td>HistoryMemes</td>\n",
       "      <td>moderator</td>\n",
       "      <td>256.0</td>\n",
       "    </tr>\n",
       "    <tr>\n",
       "      <th>4</th>\n",
       "      <td>2.667551e+10</td>\n",
       "      <td>t1_c95wqkh</td>\n",
       "      <td>1364764260</td>\n",
       "      <td>[deleted]</td>\n",
       "      <td>t3_1a1zp3</td>\n",
       "      <td>t3_1a1zp3</td>\n",
       "      <td>[deleted]</td>\n",
       "      <td>1.0</td>\n",
       "      <td>HistoryMemes</td>\n",
       "      <td>NaN</td>\n",
       "      <td>9.0</td>\n",
       "    </tr>\n",
       "  </tbody>\n",
       "</table>\n",
       "</div>"
      ],
      "text/plain": [
       "          idint       idstr     created     author     parent submission  \\\n",
       "0  2.650028e+10  t1_c69l239  1347917692       Zrk2  t3_101kzp  t3_101kzp   \n",
       "1  2.650039e+10  t1_c69neao  1347926661       Zrk2  t3_101my1  t3_101my1   \n",
       "2  2.661457e+10  t1_c85mltf  1359471648  kjoneslol  t3_173cpi  t3_173cpi   \n",
       "3  2.665805e+10  t1_c8viijd  1363275514  kjoneslol  t3_1aa96t  t3_1aa96t   \n",
       "4  2.667551e+10  t1_c95wqkh  1364764260  [deleted]  t3_1a1zp3  t3_1a1zp3   \n",
       "\n",
       "                                                body  score     subreddit  \\\n",
       "0                                      I'm so sorry.    2.0  HistoryMemes   \n",
       "1  Too bad most of these will be pretty much one-...    1.0  HistoryMemes   \n",
       "2  I've removed this. It should be a historical m...    1.0  HistoryMemes   \n",
       "3  I've removed this\\n\\n>Remember, this is the me...    1.0  HistoryMemes   \n",
       "4                                          [deleted]    1.0  HistoryMemes   \n",
       "\n",
       "  distinguish  textlen  \n",
       "0         NaN     13.0  \n",
       "1         NaN     57.0  \n",
       "2   moderator    160.0  \n",
       "3   moderator    256.0  \n",
       "4         NaN      9.0  "
      ]
     },
     "execution_count": 3,
     "metadata": {},
     "output_type": "execute_result"
    }
   ],
   "source": [
    "# Loading comments\n",
    "comms_df = pd.read_csv('data/HistoryMemesData/comments.csv')\n",
    "comms_df.head(5)"
   ]
  },
  {
   "cell_type": "code",
   "execution_count": 4,
   "metadata": {
    "tags": []
   },
   "outputs": [
    {
     "data": {
      "text/html": [
       "<div>\n",
       "<style scoped>\n",
       "    .dataframe tbody tr th:only-of-type {\n",
       "        vertical-align: middle;\n",
       "    }\n",
       "\n",
       "    .dataframe tbody tr th {\n",
       "        vertical-align: top;\n",
       "    }\n",
       "\n",
       "    .dataframe thead th {\n",
       "        text-align: right;\n",
       "    }\n",
       "</style>\n",
       "<table border=\"1\" class=\"dataframe\">\n",
       "  <thead>\n",
       "    <tr style=\"text-align: right;\">\n",
       "      <th></th>\n",
       "      <th>idint</th>\n",
       "      <th>idstr</th>\n",
       "      <th>created</th>\n",
       "      <th>author</th>\n",
       "      <th>parent</th>\n",
       "      <th>submission</th>\n",
       "      <th>body</th>\n",
       "      <th>score</th>\n",
       "      <th>subreddit</th>\n",
       "      <th>distinguish</th>\n",
       "      <th>textlen</th>\n",
       "    </tr>\n",
       "  </thead>\n",
       "  <tbody>\n",
       "    <tr>\n",
       "      <th>0</th>\n",
       "      <td>2.650028e+10</td>\n",
       "      <td>t1_c69l239</td>\n",
       "      <td>1347917692</td>\n",
       "      <td>Zrk2</td>\n",
       "      <td>t3_101kzp</td>\n",
       "      <td>t3_101kzp</td>\n",
       "      <td>I'm so sorry.</td>\n",
       "      <td>2.0</td>\n",
       "      <td>HistoryMemes</td>\n",
       "      <td>NaN</td>\n",
       "      <td>13.0</td>\n",
       "    </tr>\n",
       "    <tr>\n",
       "      <th>1</th>\n",
       "      <td>2.650039e+10</td>\n",
       "      <td>t1_c69neao</td>\n",
       "      <td>1347926661</td>\n",
       "      <td>Zrk2</td>\n",
       "      <td>t3_101my1</td>\n",
       "      <td>t3_101my1</td>\n",
       "      <td>Too bad most of these will be pretty much one-...</td>\n",
       "      <td>1.0</td>\n",
       "      <td>HistoryMemes</td>\n",
       "      <td>NaN</td>\n",
       "      <td>57.0</td>\n",
       "    </tr>\n",
       "    <tr>\n",
       "      <th>2</th>\n",
       "      <td>2.668747e+10</td>\n",
       "      <td>t1_c9d16x8</td>\n",
       "      <td>1365690678</td>\n",
       "      <td>mustaphadancer</td>\n",
       "      <td>t3_1bovjy</td>\n",
       "      <td>t3_1bovjy</td>\n",
       "      <td>ask a russian who won the war.</td>\n",
       "      <td>1.0</td>\n",
       "      <td>HistoryMemes</td>\n",
       "      <td>NaN</td>\n",
       "      <td>30.0</td>\n",
       "    </tr>\n",
       "    <tr>\n",
       "      <th>3</th>\n",
       "      <td>2.668747e+10</td>\n",
       "      <td>t1_c9d17fv</td>\n",
       "      <td>1365690718</td>\n",
       "      <td>mustaphadancer</td>\n",
       "      <td>t3_1a1zp3</td>\n",
       "      <td>t3_1a1zp3</td>\n",
       "      <td>i got 99 problems but a bitch ain't one</td>\n",
       "      <td>0.0</td>\n",
       "      <td>HistoryMemes</td>\n",
       "      <td>NaN</td>\n",
       "      <td>40.0</td>\n",
       "    </tr>\n",
       "    <tr>\n",
       "      <th>4</th>\n",
       "      <td>2.669945e+10</td>\n",
       "      <td>t1_c9k5xbp</td>\n",
       "      <td>1366620680</td>\n",
       "      <td>Krastain</td>\n",
       "      <td>t3_1cti4f</td>\n",
       "      <td>t3_1cti4f</td>\n",
       "      <td>Looks terribly circlejerky.</td>\n",
       "      <td>1.0</td>\n",
       "      <td>HistoryMemes</td>\n",
       "      <td>NaN</td>\n",
       "      <td>28.0</td>\n",
       "    </tr>\n",
       "  </tbody>\n",
       "</table>\n",
       "</div>"
      ],
      "text/plain": [
       "          idint       idstr     created          author     parent submission  \\\n",
       "0  2.650028e+10  t1_c69l239  1347917692            Zrk2  t3_101kzp  t3_101kzp   \n",
       "1  2.650039e+10  t1_c69neao  1347926661            Zrk2  t3_101my1  t3_101my1   \n",
       "2  2.668747e+10  t1_c9d16x8  1365690678  mustaphadancer  t3_1bovjy  t3_1bovjy   \n",
       "3  2.668747e+10  t1_c9d17fv  1365690718  mustaphadancer  t3_1a1zp3  t3_1a1zp3   \n",
       "4  2.669945e+10  t1_c9k5xbp  1366620680        Krastain  t3_1cti4f  t3_1cti4f   \n",
       "\n",
       "                                                body  score     subreddit  \\\n",
       "0                                      I'm so sorry.    2.0  HistoryMemes   \n",
       "1  Too bad most of these will be pretty much one-...    1.0  HistoryMemes   \n",
       "2                     ask a russian who won the war.    1.0  HistoryMemes   \n",
       "3           i got 99 problems but a bitch ain't one     0.0  HistoryMemes   \n",
       "4                       Looks terribly circlejerky.     1.0  HistoryMemes   \n",
       "\n",
       "  distinguish  textlen  \n",
       "0         NaN     13.0  \n",
       "1         NaN     57.0  \n",
       "2         NaN     30.0  \n",
       "3         NaN     40.0  \n",
       "4         NaN     28.0  "
      ]
     },
     "execution_count": 4,
     "metadata": {},
     "output_type": "execute_result"
    }
   ],
   "source": [
    "# removing moderator comments by making a list of indices and then dropping those rows\n",
    "modlist = comms_df.loc[comms_df['distinguish'].str.contains(\"moderator\", case=False, na=False)].index.tolist()\n",
    "comms_df = comms_df.drop(modlist).reset_index(drop=True)\n",
    "\n",
    "# removing deleted comments\n",
    "del_list = comms_df.loc[comms_df['body'] == '[deleted]'].index.tolist()\n",
    "comms_df = comms_df.drop(del_list).reset_index(drop=True)\n",
    "\n",
    "comms_df.head(5)"
   ]
  },
  {
   "cell_type": "code",
   "execution_count": 5,
   "metadata": {
    "tags": []
   },
   "outputs": [],
   "source": [
    "#split df into positive scores df and negative scores df\n",
    "neg_df = comms_df[comms_df['score'] < 0].reset_index()"
   ]
  },
  {
   "cell_type": "code",
   "execution_count": 6,
   "metadata": {},
   "outputs": [],
   "source": [
    "pos_df = comms_df[comms_df['score'] > 75].reset_index()"
   ]
  },
  {
   "cell_type": "markdown",
   "metadata": {},
   "source": [
    "Along with the dataframe consisting of all comments in the data set, I have also decided to utilize two subframes. The criteria for these subframes is the score column, representing the quantity of upvotes or downvotes received by a comment. The negative dataframe contains those comments with a score of less than zero. The positive dataframe contains comments with a score of more than 75. There is a very large quantity of comments with a slightly positive score. These comments are not necessarily influential in the subreddit, and have therefore been removed. Splitting the total comments dataframe in such a way enables a more nuanced analysis. Breaking down the data allows for tokens to be represented when they may have been sidelined. Additionally, similar tokens could be used in both the positive data and the negative data. However, looking at each set of data separately allows for different conclusions to be drawn from the use of such tokens. For example, the token \"slavery\" may be used very often overall. However, if it appears in the negative comments topic model and not the positive topic model, then we may infer that downvoted pro-slavery comments often appear in the subreddit."
   ]
  },
  {
   "cell_type": "code",
   "execution_count": 1,
   "metadata": {},
   "outputs": [
    {
     "ename": "NameError",
     "evalue": "name 'stopwords' is not defined",
     "output_type": "error",
     "traceback": [
      "\u001b[1;31m---------------------------------------------------------------------------\u001b[0m",
      "\u001b[1;31mNameError\u001b[0m                                 Traceback (most recent call last)",
      "Input \u001b[1;32mIn [1]\u001b[0m, in \u001b[0;36m<cell line: 2>\u001b[1;34m()\u001b[0m\n\u001b[0;32m      1\u001b[0m \u001b[38;5;66;03m# function to clean and lemmatize text\u001b[39;00m\n\u001b[1;32m----> 2\u001b[0m stop_words \u001b[38;5;241m=\u001b[39m \u001b[38;5;28mset\u001b[39m(\u001b[43mstopwords\u001b[49m\u001b[38;5;241m.\u001b[39mwords(\u001b[38;5;124m'\u001b[39m\u001b[38;5;124menglish\u001b[39m\u001b[38;5;124m'\u001b[39m))\n\u001b[0;32m      3\u001b[0m punct_list \u001b[38;5;241m=\u001b[39m \u001b[38;5;124m\"\u001b[39m\u001b[38;5;124m \u001b[39m\u001b[38;5;124m\"\u001b[39m\u001b[38;5;241m.\u001b[39mjoin(string\u001b[38;5;241m.\u001b[39mpunctuation)\u001b[38;5;241m.\u001b[39msplit()\n\u001b[0;32m      4\u001b[0m \u001b[38;5;28;01mdef\u001b[39;00m \u001b[38;5;21mcleanandlemma\u001b[39m(text, lemmas):\n",
      "\u001b[1;31mNameError\u001b[0m: name 'stopwords' is not defined"
     ]
    }
   ],
   "source": [
    "# function to clean and lemmatize text\n",
    "stop_words = set(stopwords.words('english'))\n",
    "punct_list = \" \".join(string.punctuation).split()\n",
    "def cleanandlemma(text, lemmas):\n",
    "    toReplace = [\"…\", \"–\", \"—\", \"\\n\"] + punct_list\n",
    "    for char in toReplace:\n",
    "        text = text.replace(char, ' ')\n",
    "    parsed_com = nlp(text)\n",
    "    tokens = [token.lemma_ for token in parsed_com]\n",
    "    for tok in tokens:\n",
    "        if tok.isalpha() == False:\n",
    "            tokens.remove(tok)\n",
    "            #print(tokens)\n",
    "        elif tok in stop_words:\n",
    "            tokens.remove(tok)\n",
    "        elif tok in string.punctuation:\n",
    "            tokensremove(tok)    \n",
    "    lemmas.append(tokens)"
   ]
  },
  {
   "cell_type": "code",
   "execution_count": 9,
   "metadata": {
    "tags": []
   },
   "outputs": [],
   "source": [
    "# function to collect lemmas into a list\n",
    "def lemmaCollector(column, lemmas):\n",
    "    for i in column:\n",
    "        if str(type(i)) != \"<class 'str'>\":\n",
    "            pass\n",
    "        else:\n",
    "            cleanandlemma(i, lemmas)"
   ]
  },
  {
   "cell_type": "code",
   "execution_count": 10,
   "metadata": {
    "tags": []
   },
   "outputs": [],
   "source": [
    "lemmas_pos = []\n",
    "lemmas_neg = []\n",
    "lemmaCollector(pos_df['body'], lemmas_pos)\n",
    "lemmaCollector(neg_df['body'], lemmas_neg)"
   ]
  },
  {
   "cell_type": "code",
   "execution_count": null,
   "metadata": {},
   "outputs": [],
   "source": [
    "# additional check for blank space tokens\n",
    "for i in lemmas_neg:\n",
    "    for w in i:\n",
    "        if w in stop_words or w == \" \":\n",
    "            i.remove(w)"
   ]
  },
  {
   "cell_type": "code",
   "execution_count": null,
   "metadata": {},
   "outputs": [],
   "source": [
    "# additional check for blank space tokens\n",
    "for i in lemmas_pos:\n",
    "    for w in i:\n",
    "        if w in stop_words or w == \" \":\n",
    "            i.remove(w)"
   ]
  },
  {
   "cell_type": "markdown",
   "metadata": {},
   "source": [
    "### Topic Modeling\n"
   ]
  },
  {
   "cell_type": "code",
   "execution_count": 13,
   "metadata": {},
   "outputs": [
    {
     "name": "stdout",
     "output_type": "stream",
     "text": [
      "CPU times: total: 0 ns\n",
      "Wall time: 0 ns\n"
     ]
    }
   ],
   "source": [
    "# negative score topic model\n",
    "dictionary = corpora.Dictionary(lemmas_neg)#lemmas_split)\n",
    "    \n",
    "\n",
    "dictionary.filter_extremes(no_below=10, no_above=0.4)\n",
    "dictionary.compactify() \n",
    "\n",
    "\n",
    "dictionary.save(f'historymemes_neg_lda.dict')\n",
    "\n",
    "\n",
    "corpus = [dictionary.doc2bow(text) for text in lemmas_neg]\n",
    "\n",
    "%time\n",
    "lda_model = LdaModel(corpus=corpus,\n",
    "                id2word=dictionary,       \n",
    "                num_topics=5,            \n",
    "                random_state=100,         \n",
    "                passes=2,                 \n",
    "                per_word_topics=False)    \n",
    "\n",
    "\n"
   ]
  },
  {
   "cell_type": "code",
   "execution_count": 51,
   "metadata": {},
   "outputs": [
    {
     "name": "stderr",
     "output_type": "stream",
     "text": [
      "C:\\Users\\Jay Sahaym\\anaconda3\\lib\\site-packages\\pyLDAvis\\_prepare.py:246: FutureWarning: In a future version of pandas all arguments of DataFrame.drop except for the argument 'labels' will be keyword-only.\n",
      "  default_term_info = default_term_info.sort_values(\n"
     ]
    },
    {
     "data": {
      "text/html": [
       "\n",
       "<link rel=\"stylesheet\" type=\"text/css\" href=\"https://cdn.jsdelivr.net/gh/bmabey/pyLDAvis@3.3.1/pyLDAvis/js/ldavis.v1.0.0.css\">\n",
       "\n",
       "\n",
       "<div id=\"ldavis_el387229209096330084634956296\"></div>\n",
       "<script type=\"text/javascript\">\n",
       "\n",
       "var ldavis_el387229209096330084634956296_data = {\"mdsDat\": {\"x\": [0.13352954634241906, 0.08543181944153044, -0.01904717039197717, 0.17774194471962151, -0.37765614011159365], \"y\": [-0.174067734693246, 0.054078738185648116, 0.28889757154553286, -0.07141461168601958, -0.09749396335191524], \"topics\": [1, 2, 3, 4, 5], \"cluster\": [1, 1, 1, 1, 1], \"Freq\": [28.708193886869353, 28.234984471607984, 17.258882477575472, 15.68966191852793, 10.108277245419258]}, \"tinfo\": {\"Term\": [\"I\", \"https\", \"r\", \"com\", \"war\", \"\\u28ff\", \"\\u2800\", \"comment\", \"reddit\", \"US\", \"America\", \"people\", \"meme\", \"kill\", \"think\", \"www\", \"work\", \"org\", \"country\", \"en\", \"say\", \"wikipedia\", \"Fuck\", \"white\", \"know\", \"get\", \"wiki\", \"  \", \"np\", \"communist\", \"sorry\", \"dude\", \"Jesus\", \"Fuck\", \"Islam\", \"crusade\", \"upvote\", \"guess\", \"wow\", \"repost\", \"picture\", \"op\", \"reply\", \"joke\", \"sub\", \"trigger\", \"reference\", \"format\", \"smart\", \"yea\", \"IRA\", \"insult\", \"ya\", \"bitch\", \"huh\", \"upon\", \"haha\", \"baby\", \"movie\", \"explain\", \"I\", \"meme\", \"wish\", \"subreddit\", \"ok\", \"bro\", \"thank\", \"think\", \"funny\", \"Edit\", \"please\", \"read\", \"post\", \"hope\", \"ask\", \"someone\", \"book\", \"know\", \"guy\", \"understand\", \"say\", \"see\", \"wrong\", \"history\", \"love\", \"feel\", \"make\", \"like\", \"get\", \"downvote\", \"lol\", \"fuck\", \"something\", \"shit\", \"mean\", \"look\", \"really\", \"go\", \"point\", \"one\", \"good\", \"people\", \"well\", \"would\", \"right\", \"even\", \"want\", \"thing\", \"genocide\", \"kill\", \"Jews\", \"civilian\", \"commit\", \"jews\", \"Muslims\", \"camp\", \"terrorist\", \"innocent\", \"crime\", \"murder\", \"Christians\", \"holy\", \"atrocity\", \"Israel\", \"enemy\", \"muslim\", \"wonder\", \"target\", \"Wehrmacht\", \"group\", \"christian\", \"arab\", \"minority\", \"karma\", \"mass\", \"moral\", \"Holocaust\", \"young\", \"white\", \"die\", \"jewish\", \"victim\", \"massacre\", \"million\", \"rape\", \"death\", \"native\", \"culture\", \"soldier\", \"tho\", \"land\", \"number\", \"people\", \"population\", \"human\", \"many\", \"Nazis\", \"woman\", \"black\", \"also\", \"one\", \"force\", \"bad\", \"would\", \"country\", \"use\", \"even\", \"live\", \"well\", \"yes\", \"war\", \"like\", \"say\", \"happen\", \"time\", \"still\", \"thing\", \"way\", \"man\", \"make\", \"take\", \"much\", \"want\", \"\\u28ff\", \"\\u2800\", \"slave\", \"slavery\", \"India\", \"China\", \"flag\", \"United\", \"Canada\", \"F\", \"States\", \"South\", \"trade\", \"North\", \"November\", \"\\ud83d\\ude02\", \"civil\", \"Korea\", \"oil\", \"\\ufe0f\", \"surrender\", \"nuke\", \"f\", \"U\", \"America\", \"\\u283f\", \"wealth\", \"south\", \"\\u2819\", \"economy\", \"Britain\", \"Vietnam\", \"East\", \"Japan\", \"UK\", \"food\", \"US\", \"France\", \"french\", \"war\", \"USSR\", \"british\", \"win\", \"power\", \"country\", \"state\", \"would\", \"Russia\", \"USA\", \"government\", \"world\", \"fight\", \"lose\", \"Germany\", \"american\", \"military\", \"could\", \"still\", \"gay\", \"God\", \"game\", \"girl\", \"socialist\", \"Trump\", \"EU\", \"shut\", \"moon\", \"money\", \"historically\", \"dick\", \"mad\", \"trash\", \"sad\", \"leftist\", \"proud\", \"everybody\", \"Jerusalem\", \"greek\", \"parent\", \"Marx\", \"Roman\", \"x200B\", \"son\", \"ur\", \"Lenin\", \"queen\", \"inaccurate\", \"therefore\", \"pay\", \"socialism\", \"work\", \"school\", \"fake\", \"buddy\", \"red\", \"left\", \"\\u2019\", \"society\", \"Communism\", \"communism\", \"commie\", \"u\", \"property\", \"communist\", \"class\", \"wing\", \"play\", \"capitalism\", \"party\", \"system\", \"rich\", \"capitalist\", \"right\", \"true\", \"name\", \"get\", \"thing\", \"\\u2019s\", \"go\", \"good\", \"one\", \"people\", \"like\", \"well\", \"year\", \"fuck\", \"make\", \"country\", \"history\", \"even\", \"https\", \"r\", \"com\", \"www\", \"org\", \"en\", \"wikipedia\", \"wiki\", \"np\", \"redd\", \"jpg\", \"sneakpeekbot\", \"Poland\", \"message\", \"bot\", \"declare\", \"Austria\", \"e\", \"Lmao\", \"png\", \"v\", \"info\", \"normal\", \"Venezuela\", \"html\", \"woooosh\", \"youtube\", \"compose\", \"clickablelinkbot\", \"historymeme\", \"reddit\", \"remove\", \"user\", \"russian\", \"Red\", \"top\", \"comment\", \"1\", \"soviet\", \"Army\", \"  \", \"Germany\", \"german\", \"tank\", \"Soviet\", \"3\", \"win\", \"war\", \"I\"], \"Freq\": [41379.0, 5807.0, 5624.0, 3368.0, 7597.0, 3787.0, 3239.0, 3345.0, 2437.0, 4024.0, 2845.0, 12412.0, 4234.0, 3568.0, 5932.0, 1817.0, 2163.0, 1573.0, 5608.0, 1455.0, 8191.0, 1338.0, 2431.0, 2450.0, 6214.0, 7217.0, 1284.0, 3964.0, 1233.0, 1931.0, 974.814700415542, 733.1410871912044, 604.7089744410962, 2428.3210340916, 697.2760698272573, 544.5018049083218, 521.158628346123, 867.8911281104544, 415.5611564842308, 540.6053260082446, 481.02693196148255, 347.841286430009, 304.36942122521947, 2039.5651528368146, 1220.7504171997791, 287.3474910717471, 270.8128474928056, 240.5748431079651, 239.34354951004485, 242.53594331266714, 240.9248452485008, 225.64828850636172, 218.3335075795183, 210.7235063805613, 206.1829180177576, 212.82125210356222, 198.42576010678644, 191.60259389306265, 284.67909058092425, 493.3161250089989, 40403.92195717873, 4165.170073423693, 303.22164009187645, 453.85223979840373, 957.6699953974381, 291.74603404810796, 865.6991938476908, 5263.4122393291, 1151.9068799272081, 1228.988472528317, 746.1433101559255, 1239.9292649138144, 2256.1234434589214, 496.29202944145356, 842.4917971760731, 1383.0730917100589, 886.07565811939, 4848.081752021461, 1596.141830900157, 991.0841321499179, 5761.354938387531, 3160.48758935411, 1726.7929184741158, 3102.0176522100855, 866.6209637059712, 871.3431690080282, 4476.02275771214, 5499.124810326206, 4368.103218887252, 1319.8771569901662, 1307.5025553411672, 2303.241950916304, 1481.9962028849418, 1863.9766098912135, 2383.61688600007, 1749.6614837247932, 1853.7162008918522, 2696.9739549370142, 1735.9682425191181, 2624.8025325138124, 2061.114336564201, 3065.4020943944984, 1910.759913319997, 1997.5193886868021, 1741.876440235201, 1688.0312634444376, 1545.532947603415, 1552.453022901157, 1670.061733362069, 3566.7637200115246, 1518.2627652019464, 862.7050679665308, 791.9946587911586, 754.3787711828298, 591.4158892066208, 583.9736718914041, 553.4468902321569, 547.4579430824797, 1111.2765776595081, 856.0411145888226, 480.7263814292627, 460.1292859821272, 404.0184304303188, 936.8093192664314, 514.7428033942298, 674.4267361978768, 361.65499901817117, 343.5396561989728, 363.7206802396048, 1080.0466949184145, 403.4646820778457, 310.29699812999377, 289.4096702752622, 298.75560785809955, 501.23367875056704, 284.28010943320083, 324.5509201861655, 300.7092745325031, 2435.758149509135, 1819.143000771303, 833.9723434009209, 534.7375824732056, 426.20517567969625, 2379.644172306903, 661.0618561283483, 1501.6291522703343, 722.8107772140015, 809.0856543212481, 932.2450609375032, 471.0356433677824, 1650.6050133016174, 1052.0258688131182, 7779.626374310305, 967.4721156941499, 1018.1056909794031, 1825.610573958706, 977.9662125192738, 800.0976524733829, 1022.8214101652637, 2131.9652924715106, 2501.906489564967, 1145.086078796375, 1667.5869537714425, 2380.12969030011, 2018.002997740609, 1562.3296042226937, 1806.4112076241126, 1206.5380782235236, 1858.9901792371918, 1240.7413938047805, 2012.174187203588, 2172.5795050415645, 1831.7074410230389, 1229.4819655939045, 1472.1101772070404, 1380.4387367942002, 1359.1151076165816, 1252.756342500076, 1229.2619095094751, 1355.6984004162207, 1267.4526672867817, 1233.1596752024375, 1244.1131005899392, 3786.850951492113, 3239.1902695499602, 1477.4360093382843, 1404.6898258881956, 1203.4139626250849, 1251.3652782702745, 719.6685103761711, 649.5344415674618, 617.5844097039202, 597.1641797051841, 594.0401393630832, 597.3308566469525, 597.3117752843058, 549.8419542835643, 530.870222738626, 470.44440431068654, 455.02344176340233, 448.1754133004002, 436.07252625044225, 442.69589025402246, 845.0996742672558, 351.08535129061625, 328.56857515681793, 485.32127543164506, 2837.596873486431, 266.64055786877486, 268.036347155885, 610.2182107306033, 247.55109183820744, 726.1138477443567, 1061.225496495696, 498.5548695138669, 607.8010729220863, 1018.0022947044516, 793.9773335220715, 761.9542968606635, 3442.5652809521307, 1250.5381879330073, 730.971417492414, 4915.771373468481, 1157.9041692830153, 1253.4325084936343, 1519.259481664937, 1128.5827066385123, 2682.3342541673774, 1598.8066592581533, 2949.936041874727, 1083.709388255167, 859.150396728584, 1346.1558378332088, 1587.4714377303633, 1199.2870355994626, 1040.6585630334944, 1019.0786818056486, 983.210676227961, 854.6478890116977, 997.2656610196467, 990.5561582932614, 669.9116275564458, 643.0899348766006, 479.96592751898834, 433.50856302755443, 1046.9984465803589, 401.92331328956675, 352.19551452084187, 347.22071389662193, 316.9505494112028, 757.0961298191916, 303.1246050710091, 288.52126998983215, 285.7024513432498, 274.2048494930172, 291.80785672919814, 245.768000717034, 237.47002813948734, 236.8508729544525, 246.3898367151608, 228.32944672094746, 227.58289659444222, 223.46534790793626, 220.04686065887813, 983.5851870885949, 218.37081180822292, 209.69896717963425, 211.16489885626748, 213.47154703524083, 210.9172502989582, 198.5660685491124, 840.0906789141077, 791.1774192963544, 2118.936114381828, 882.8552796909836, 348.4238808345618, 244.16199092438612, 285.50659429264965, 472.6416758176883, 880.4931904950414, 668.3904125577315, 645.2047134328501, 1561.0822487904709, 651.7772110763489, 1048.4128345565352, 285.9408409578633, 1695.1710228565676, 627.8810288985775, 522.0049065337491, 677.7166684426903, 757.8513531645237, 628.9722324662066, 915.3376331176067, 407.0276715280035, 496.55137470012494, 1888.2129944317035, 899.3994558672088, 651.0887602520633, 1880.4043040351994, 1242.517579563821, 966.8691685403917, 1389.17688896864, 1057.3978387043776, 1258.7122137574017, 1524.4622518430726, 1386.5656418500344, 1149.0864223513745, 933.1499465255298, 901.32288294108, 1030.1339245035663, 838.2016743814507, 768.3658175009261, 727.7678543705323, 5806.960962558754, 5623.392361575107, 3367.7414611782724, 1816.2959481974074, 1572.8658904228153, 1454.8332037162957, 1337.3997655433886, 1283.4215336990835, 1232.9446270884705, 510.3617234388654, 509.9457560155624, 483.2584994957076, 482.8383230510243, 387.88889653672294, 370.6918511477122, 366.2690114813488, 354.34894682155505, 350.80187387961956, 328.6598669789592, 297.1550226427412, 285.98343809528996, 343.7076699402813, 280.8809430730845, 268.2893798506062, 255.39070320603824, 241.38051109814802, 242.91217397841987, 240.9138031964128, 237.53321882086632, 234.20820804140592, 2401.2656235131826, 609.0528828770052, 272.5169789803935, 575.8709322010276, 538.7666380423984, 809.0666819202154, 2082.852053043628, 721.4210395822549, 1100.1060545529251, 481.70177116742303, 1442.6114828483396, 859.572384042616, 780.6967167080053, 571.7500970756304, 514.8921979416285, 422.23874904865124, 551.3790141499087, 645.3964762474225, 822.8028377085179], \"Total\": [41379.0, 5807.0, 5624.0, 3368.0, 7597.0, 3787.0, 3239.0, 3345.0, 2437.0, 4024.0, 2845.0, 12412.0, 4234.0, 3568.0, 5932.0, 1817.0, 2163.0, 1573.0, 5608.0, 1455.0, 8191.0, 1338.0, 2431.0, 2450.0, 6214.0, 7217.0, 1284.0, 3964.0, 1233.0, 1931.0, 975.8012579893704, 733.9847645476115, 605.5390467860511, 2431.7713623011673, 698.2890872142048, 545.3534601254286, 521.9810247472853, 869.3557187744977, 416.4192526838788, 541.7392700472607, 482.0919558000381, 348.6665284878585, 305.19409538253115, 2045.1285746941776, 1224.1070933745118, 288.21399330494836, 271.6401204631215, 241.38890862874655, 240.17042572913178, 243.3782774159634, 241.7668894652149, 226.4707077967086, 219.1764400617644, 211.56106603796584, 207.00374479081555, 213.69135826506093, 199.24201811496616, 192.4268373443031, 285.91991542718375, 495.55142338144304, 41379.30965180789, 4234.363331476309, 304.8785158051504, 460.79930274302865, 987.5501288935635, 293.97269211879586, 891.9112200346843, 5932.552683544724, 1219.565920702754, 1309.6574617275694, 781.3850338172117, 1334.7045269505843, 2558.9277537701673, 514.721736304361, 915.3730623447588, 1574.0667427292276, 970.8966075823686, 6214.186968544883, 1868.922881663878, 1104.4256196024257, 8191.225966311542, 4250.160111491693, 2131.399177636244, 4430.146508998342, 960.6360075471531, 967.1824964912498, 7186.397360590197, 9342.170320186018, 7217.892546514432, 1635.0180767283932, 1628.800317751345, 3447.910175548757, 1987.8320130463055, 2752.1821774970804, 4173.249181362314, 2678.451468518636, 3036.4506733290145, 5722.813500768465, 2900.8075495203657, 6852.874144023997, 4191.202445082027, 12412.831870924212, 5682.366317313359, 7578.449690154375, 4934.227938625569, 5113.024756526394, 3822.730695128574, 4218.181884396011, 1670.8731980023167, 3568.544651224422, 1519.368505125804, 863.5446311047768, 792.8045833224504, 755.216430050122, 592.2286023004306, 584.8236264429747, 554.2676737576484, 548.2748117957251, 1113.0584659257688, 857.4493144213816, 481.5751135097128, 461.02695865142704, 404.8341410773341, 938.7222988400904, 515.8348418181877, 675.9164010595102, 362.4783704257105, 344.35294166370534, 364.5922843319004, 1082.652847729163, 404.48874855670823, 311.119394487427, 290.2212240127807, 299.59996787556094, 502.6505486033987, 285.1218695582587, 325.52566454727315, 301.61411077085586, 2450.899786984661, 1829.1840477932942, 841.0107198636767, 537.5543232825282, 428.4717422468909, 2460.9292230003207, 669.1405019014921, 1550.1143530064803, 740.6922121226447, 849.3995252930829, 999.7095639764443, 477.5208628566438, 1872.74999165059, 1198.3051458053421, 12412.831870924212, 1092.7271272953658, 1168.5293670478898, 2473.95925175932, 1135.94797907558, 953.4483873078944, 1388.044229076265, 4303.076507132495, 6852.874144023997, 1833.537752259151, 3767.4693684606377, 7578.449690154375, 5608.388051616404, 3405.7130628717473, 5113.024756526394, 2070.13592388276, 5682.366317313359, 2224.429483007048, 7597.283601219876, 9342.170320186018, 8191.225966311542, 2357.2574918036025, 4442.426624603884, 3940.838617796592, 4218.181884396011, 2961.5321515462165, 2714.2462625075755, 7186.397360590197, 3900.7612741055614, 2932.5172560159062, 3822.730695128574, 3787.6387677762154, 3239.9781462693877, 1478.2356157547283, 1405.6256468568045, 1204.2193459002524, 1252.3105397268484, 720.524809640904, 650.3370322344798, 618.3895143321424, 597.9664172044713, 594.8389849026128, 598.1453747576946, 598.1436343995545, 550.6422167322688, 531.7487187397238, 471.2518486239371, 455.82347512693553, 448.972053206265, 436.87297283122774, 443.5188177541778, 846.8652290453559, 351.88456012326276, 329.3661209667762, 486.50757849959, 2845.350745721748, 267.42837398397137, 268.858857536911, 612.1301239207439, 248.33891615160798, 728.5655724129937, 1073.4753314471998, 501.83810721887056, 613.2228698601484, 1034.6848786732605, 815.6658748379758, 784.0855692324816, 4024.548800994579, 1382.1688834043302, 770.5391581446547, 7597.283601219876, 1442.712334227585, 1615.3053117569364, 2147.93910162011, 1537.0479063660814, 5608.388051616404, 2616.722301042153, 7578.449690154375, 1579.424552743546, 1079.4747925008257, 2327.5566444748315, 3198.288175699471, 2007.3986348912977, 1607.7625841494519, 2202.944365613808, 2037.9094710361073, 1294.9169681008764, 2977.073389017333, 3940.838617796592, 670.7259884549852, 643.9175562121764, 480.77251598538953, 434.32072189470375, 1049.0234313983156, 402.7405674540145, 353.0010973962402, 348.03706584387726, 317.7556177307898, 759.1276766033328, 303.9415095410943, 289.3248766088109, 286.5212279133209, 275.0082250207712, 292.6952542532925, 246.58507053236698, 238.27730835087064, 237.6574496234093, 247.23525809099345, 229.13301757131558, 228.38726009519218, 224.2637656155025, 220.84998089864544, 987.1989878863051, 219.18183161271017, 210.50039233526627, 211.98247091878764, 214.31365257073617, 211.75291609488883, 199.37280430697808, 844.4190523910797, 799.1950726771059, 2163.707410252847, 894.9535246829656, 350.1823921871124, 245.1745036319285, 287.20486105853814, 478.44252417188045, 903.0512791012675, 691.657581144553, 669.6371584794322, 1702.6649988867327, 688.3363276156509, 1151.7617819213024, 289.18967417574396, 1931.873205403704, 672.9306932996963, 559.890049160677, 756.5465677359753, 862.1051086658754, 698.0277821937632, 1107.037590511259, 438.8009953165345, 570.798946911982, 4934.227938625569, 1605.0235247633207, 985.9351045091261, 7217.892546514432, 4218.181884396011, 2476.5371865992975, 5722.813500768465, 4191.202445082027, 6852.874144023997, 12412.831870924212, 9342.170320186018, 5682.366317313359, 3384.8997618348885, 3447.910175548757, 7186.397360590197, 5608.388051616404, 4430.146508998342, 5113.024756526394, 5807.768731217965, 5624.199432714272, 3368.547492073265, 1817.1030614668373, 1573.6730193403519, 1455.641197858424, 1338.2070477292673, 1284.2284592846752, 1233.7471022282875, 511.1646851731644, 510.7495678994657, 484.06078326514546, 483.6728399422507, 388.70153938274103, 371.5096326008513, 367.10711842986916, 355.16535154553355, 351.72150992039434, 329.5278124119349, 297.9604947126082, 286.7919754746523, 344.71310180275276, 281.73402597697503, 269.11569630285356, 256.19805982322197, 242.18340706499188, 243.7204751269222, 241.71784278124173, 238.3351208462119, 235.03808208617804, 2437.8161478105394, 613.6061690894257, 273.8357496585815, 602.4620548839246, 563.446810997306, 877.3150071240724, 3345.8029031521564, 915.5178610296163, 1563.9061199150074, 641.8747240501525, 3964.5500660853468, 2202.944365613808, 1875.6450710306867, 983.1080430558588, 840.6990222635766, 600.3359168424688, 2147.93910162011, 7597.283601219876, 41379.30965180789], \"Category\": [\"Default\", \"Default\", \"Default\", \"Default\", \"Default\", \"Default\", \"Default\", \"Default\", \"Default\", \"Default\", \"Default\", \"Default\", \"Default\", \"Default\", \"Default\", \"Default\", \"Default\", \"Default\", \"Default\", \"Default\", \"Default\", \"Default\", \"Default\", \"Default\", \"Default\", \"Default\", \"Default\", \"Default\", \"Default\", \"Default\", \"Topic1\", \"Topic1\", \"Topic1\", \"Topic1\", \"Topic1\", \"Topic1\", \"Topic1\", \"Topic1\", \"Topic1\", \"Topic1\", \"Topic1\", \"Topic1\", \"Topic1\", \"Topic1\", \"Topic1\", \"Topic1\", \"Topic1\", \"Topic1\", \"Topic1\", \"Topic1\", \"Topic1\", \"Topic1\", \"Topic1\", \"Topic1\", \"Topic1\", \"Topic1\", \"Topic1\", \"Topic1\", \"Topic1\", \"Topic1\", \"Topic1\", \"Topic1\", \"Topic1\", \"Topic1\", \"Topic1\", \"Topic1\", \"Topic1\", \"Topic1\", \"Topic1\", \"Topic1\", \"Topic1\", \"Topic1\", \"Topic1\", \"Topic1\", \"Topic1\", \"Topic1\", \"Topic1\", \"Topic1\", \"Topic1\", \"Topic1\", \"Topic1\", \"Topic1\", \"Topic1\", \"Topic1\", \"Topic1\", \"Topic1\", \"Topic1\", \"Topic1\", \"Topic1\", \"Topic1\", \"Topic1\", \"Topic1\", \"Topic1\", \"Topic1\", \"Topic1\", \"Topic1\", \"Topic1\", \"Topic1\", \"Topic1\", \"Topic1\", \"Topic1\", \"Topic1\", \"Topic1\", \"Topic1\", \"Topic1\", \"Topic1\", \"Topic1\", \"Topic1\", \"Topic2\", \"Topic2\", \"Topic2\", \"Topic2\", \"Topic2\", \"Topic2\", \"Topic2\", \"Topic2\", \"Topic2\", \"Topic2\", \"Topic2\", \"Topic2\", \"Topic2\", \"Topic2\", \"Topic2\", \"Topic2\", \"Topic2\", \"Topic2\", \"Topic2\", \"Topic2\", \"Topic2\", \"Topic2\", \"Topic2\", \"Topic2\", \"Topic2\", \"Topic2\", \"Topic2\", \"Topic2\", \"Topic2\", \"Topic2\", \"Topic2\", \"Topic2\", \"Topic2\", \"Topic2\", \"Topic2\", \"Topic2\", \"Topic2\", \"Topic2\", \"Topic2\", \"Topic2\", \"Topic2\", \"Topic2\", \"Topic2\", \"Topic2\", \"Topic2\", \"Topic2\", \"Topic2\", \"Topic2\", \"Topic2\", \"Topic2\", \"Topic2\", \"Topic2\", \"Topic2\", \"Topic2\", \"Topic2\", \"Topic2\", \"Topic2\", \"Topic2\", \"Topic2\", \"Topic2\", \"Topic2\", \"Topic2\", \"Topic2\", \"Topic2\", \"Topic2\", \"Topic2\", \"Topic2\", \"Topic2\", \"Topic2\", \"Topic2\", \"Topic2\", \"Topic2\", \"Topic2\", \"Topic2\", \"Topic2\", \"Topic3\", \"Topic3\", \"Topic3\", \"Topic3\", \"Topic3\", \"Topic3\", \"Topic3\", \"Topic3\", \"Topic3\", \"Topic3\", \"Topic3\", \"Topic3\", \"Topic3\", \"Topic3\", \"Topic3\", \"Topic3\", \"Topic3\", \"Topic3\", \"Topic3\", \"Topic3\", \"Topic3\", \"Topic3\", \"Topic3\", \"Topic3\", \"Topic3\", \"Topic3\", \"Topic3\", \"Topic3\", \"Topic3\", \"Topic3\", \"Topic3\", \"Topic3\", \"Topic3\", \"Topic3\", \"Topic3\", \"Topic3\", \"Topic3\", \"Topic3\", \"Topic3\", \"Topic3\", \"Topic3\", \"Topic3\", \"Topic3\", \"Topic3\", \"Topic3\", \"Topic3\", \"Topic3\", \"Topic3\", \"Topic3\", \"Topic3\", \"Topic3\", \"Topic3\", \"Topic3\", \"Topic3\", \"Topic3\", \"Topic3\", \"Topic3\", \"Topic3\", \"Topic4\", \"Topic4\", \"Topic4\", \"Topic4\", \"Topic4\", \"Topic4\", \"Topic4\", \"Topic4\", \"Topic4\", \"Topic4\", \"Topic4\", \"Topic4\", \"Topic4\", \"Topic4\", \"Topic4\", \"Topic4\", \"Topic4\", \"Topic4\", \"Topic4\", \"Topic4\", \"Topic4\", \"Topic4\", \"Topic4\", \"Topic4\", \"Topic4\", \"Topic4\", \"Topic4\", \"Topic4\", \"Topic4\", \"Topic4\", \"Topic4\", \"Topic4\", \"Topic4\", \"Topic4\", \"Topic4\", \"Topic4\", \"Topic4\", \"Topic4\", \"Topic4\", \"Topic4\", \"Topic4\", \"Topic4\", \"Topic4\", \"Topic4\", \"Topic4\", \"Topic4\", \"Topic4\", \"Topic4\", \"Topic4\", \"Topic4\", \"Topic4\", \"Topic4\", \"Topic4\", \"Topic4\", \"Topic4\", \"Topic4\", \"Topic4\", \"Topic4\", \"Topic4\", \"Topic4\", \"Topic4\", \"Topic4\", \"Topic4\", \"Topic4\", \"Topic4\", \"Topic4\", \"Topic4\", \"Topic4\", \"Topic4\", \"Topic4\", \"Topic4\", \"Topic4\", \"Topic5\", \"Topic5\", \"Topic5\", \"Topic5\", \"Topic5\", \"Topic5\", \"Topic5\", \"Topic5\", \"Topic5\", \"Topic5\", \"Topic5\", \"Topic5\", \"Topic5\", \"Topic5\", \"Topic5\", \"Topic5\", \"Topic5\", \"Topic5\", \"Topic5\", \"Topic5\", \"Topic5\", \"Topic5\", \"Topic5\", \"Topic5\", \"Topic5\", \"Topic5\", \"Topic5\", \"Topic5\", \"Topic5\", \"Topic5\", \"Topic5\", \"Topic5\", \"Topic5\", \"Topic5\", \"Topic5\", \"Topic5\", \"Topic5\", \"Topic5\", \"Topic5\", \"Topic5\", \"Topic5\", \"Topic5\", \"Topic5\", \"Topic5\", \"Topic5\", \"Topic5\", \"Topic5\", \"Topic5\", \"Topic5\"], \"logprob\": [30.0, 29.0, 28.0, 27.0, 26.0, 25.0, 24.0, 23.0, 22.0, 21.0, 20.0, 19.0, 18.0, 17.0, 16.0, 15.0, 14.0, 13.0, 12.0, 11.0, 10.0, 9.0, 8.0, 7.0, 6.0, 5.0, 4.0, 3.0, 2.0, 1.0, -5.895, -6.1799, -6.3725, -4.9823, -6.2301, -6.4774, -6.5212, -6.0112, -6.7476, -6.4846, -6.6014, -6.9255, -7.059, -5.1568, -5.6701, -7.1166, -7.1759, -7.2942, -7.2994, -7.2861, -7.2928, -7.3583, -7.3913, -7.4267, -7.4485, -7.4168, -7.4869, -7.5219, -7.1259, -6.5761, -2.1706, -4.4428, -7.0628, -6.6595, -5.9128, -7.1014, -6.0137, -4.2087, -5.7281, -5.6633, -6.1624, -5.6545, -5.0559, -6.5701, -6.0409, -5.5452, -5.9905, -4.2909, -5.4019, -5.8785, -4.1184, -4.7188, -5.3233, -4.7375, -6.0127, -6.0072, -4.3708, -4.1649, -4.3952, -5.592, -5.6014, -5.0352, -5.4761, -5.2468, -5.0009, -5.3101, -5.2523, -4.8774, -5.318, -4.9045, -5.1463, -4.7493, -5.222, -5.1776, -5.3146, -5.346, -5.4342, -5.4297, -5.34, -4.5812, -5.4353, -6.0006, -6.0861, -6.1348, -6.3781, -6.3908, -6.4445, -6.4554, -5.7474, -6.0083, -6.5854, -6.6292, -6.7592, -5.9182, -6.517, -6.2468, -6.87, -6.9214, -6.8643, -5.7759, -6.7606, -7.0231, -7.0928, -7.061, -6.5436, -7.1107, -6.9782, -7.0545, -4.9626, -5.2545, -6.0345, -6.4789, -6.7057, -4.986, -6.2668, -5.4464, -6.1775, -6.0648, -5.9231, -6.6057, -5.3518, -5.8022, -3.8014, -5.886, -5.835, -5.251, -5.8752, -6.0759, -5.8303, -5.0959, -4.9358, -5.7174, -5.3415, -4.9857, -5.1508, -5.4067, -5.2616, -5.6651, -5.2329, -5.6372, -5.1537, -5.077, -5.2477, -5.6463, -5.4662, -5.5305, -5.5461, -5.6276, -5.6465, -5.5486, -5.6159, -5.6433, -5.6345, -4.0291, -4.1853, -4.9704, -5.0209, -5.1755, -5.1364, -5.6896, -5.7922, -5.8426, -5.8762, -5.8815, -5.876, -5.876, -5.9588, -5.9939, -6.1147, -6.1481, -6.1632, -6.1906, -6.1755, -5.529, -6.4074, -6.4737, -6.0836, -4.3177, -6.6825, -6.6773, -5.8546, -6.7568, -5.6807, -5.3012, -6.0567, -5.8586, -5.3428, -5.5914, -5.6325, -4.1245, -5.1371, -5.674, -3.7682, -5.2141, -5.1348, -4.9424, -5.2397, -4.374, -4.8914, -4.2789, -5.2803, -5.5125, -5.0634, -4.8985, -5.1789, -5.3208, -5.3418, -5.3776, -5.5177, -5.3634, -5.3702, -5.666, -5.7068, -5.9994, -6.1012, -5.2194, -6.1768, -6.3089, -6.3231, -6.4144, -5.5436, -6.459, -6.5083, -6.5181, -6.5592, -6.497, -6.6687, -6.7031, -6.7057, -6.6662, -6.7423, -6.7456, -6.7638, -6.7793, -5.2819, -6.7869, -6.8274, -6.8205, -6.8096, -6.8216, -6.882, -5.4396, -5.4996, -4.5144, -5.3899, -6.3197, -6.6753, -6.5188, -6.0148, -5.3926, -5.6682, -5.7035, -4.82, -5.6934, -5.2181, -6.5173, -4.7376, -5.7307, -5.9154, -5.6544, -5.5426, -5.729, -5.3538, -6.1642, -5.9654, -4.6297, -5.3714, -5.6945, -4.6339, -5.0482, -5.299, -4.9366, -5.2095, -5.0353, -4.8437, -4.9385, -5.1264, -5.3345, -5.3692, -5.2357, -5.4418, -5.5288, -5.5831, -3.0666, -3.0988, -3.6115, -4.2289, -4.3728, -4.4508, -4.535, -4.5762, -4.6163, -5.4983, -5.4991, -5.5529, -5.5538, -5.7727, -5.8181, -5.8301, -5.8632, -5.8732, -5.9384, -6.0392, -6.0775, -5.8937, -6.0955, -6.1414, -6.1907, -6.2471, -6.2408, -6.249, -6.2631, -6.2772, -3.9497, -5.3215, -6.1258, -5.3776, -5.4442, -5.0376, -4.092, -5.1522, -4.7303, -5.5561, -4.4592, -4.977, -5.0733, -5.3847, -5.4895, -5.6879, -5.421, -5.2636, -5.0207], \"loglift\": [30.0, 29.0, 28.0, 27.0, 26.0, 25.0, 24.0, 23.0, 22.0, 21.0, 20.0, 19.0, 18.0, 17.0, 16.0, 15.0, 14.0, 13.0, 12.0, 11.0, 10.0, 9.0, 8.0, 7.0, 6.0, 5.0, 4.0, 3.0, 2.0, 1.0, 1.247, 1.2468, 1.2466, 1.2466, 1.2465, 1.2464, 1.2464, 1.2463, 1.2459, 1.2459, 1.2458, 1.2456, 1.2453, 1.2453, 1.2452, 1.245, 1.2449, 1.2446, 1.2445, 1.2445, 1.2445, 1.2443, 1.2441, 1.244, 1.244, 1.2439, 1.2439, 1.2437, 1.2436, 1.2435, 1.2241, 1.2315, 1.2425, 1.2328, 1.2173, 1.2404, 1.2182, 1.1283, 1.1909, 1.1844, 1.2018, 1.1743, 1.122, 1.2115, 1.165, 1.1186, 1.1566, 0.9997, 1.0902, 1.1397, 0.8961, 0.9518, 1.0375, 0.8916, 1.145, 1.1436, 0.7745, 0.718, 0.7458, 1.0339, 1.0283, 0.8445, 0.9543, 0.8583, 0.6879, 0.8222, 0.7545, 0.4957, 0.7346, 0.2883, 0.5382, -0.1506, 0.1581, -0.0854, 0.2068, 0.1398, 0.3424, 0.2484, 1.2641, 1.2641, 1.2639, 1.2636, 1.2636, 1.2635, 1.2632, 1.2632, 1.2631, 1.2631, 1.263, 1.263, 1.2628, 1.2627, 1.2626, 1.2626, 1.2625, 1.2624, 1.2623, 1.2622, 1.2622, 1.2622, 1.2621, 1.262, 1.2618, 1.2618, 1.2618, 1.2617, 1.2616, 1.2616, 1.2584, 1.2591, 1.2562, 1.2594, 1.2593, 1.231, 1.2525, 1.2328, 1.2402, 1.216, 1.1947, 1.2509, 1.1383, 1.1344, 0.7974, 1.1429, 1.1268, 0.9607, 1.1149, 1.0893, 0.9593, 0.5623, 0.257, 0.7938, 0.4496, 0.1065, 0.2425, 0.4853, 0.2242, 0.7247, 0.1473, 0.6808, -0.064, -0.194, -0.2332, 0.6137, 0.1601, 0.2156, 0.132, 0.4042, 0.4725, -0.4033, 0.1404, 0.3983, 0.1421, 1.7566, 1.7566, 1.7563, 1.7562, 1.7562, 1.7561, 1.7557, 1.7556, 1.7555, 1.7555, 1.7555, 1.7555, 1.7555, 1.7554, 1.7552, 1.7551, 1.7551, 1.7551, 1.755, 1.755, 1.7548, 1.7546, 1.7544, 1.7544, 1.7541, 1.7539, 1.7538, 1.7537, 1.7537, 1.7535, 1.7454, 1.7503, 1.748, 1.7406, 1.7299, 1.7282, 1.6006, 1.6568, 1.7041, 1.3215, 1.5369, 1.5032, 1.4106, 1.4479, 1.0193, 1.2642, 0.8133, 1.3802, 1.5286, 1.2093, 1.0564, 1.2417, 1.3219, 0.9859, 1.028, 1.3413, 0.6632, 0.376, 1.851, 1.8509, 1.8505, 1.8503, 1.8502, 1.8501, 1.8499, 1.8498, 1.8496, 1.8495, 1.8495, 1.8494, 1.8493, 1.8492, 1.8491, 1.8488, 1.8488, 1.8488, 1.8487, 1.8487, 1.8486, 1.8486, 1.8485, 1.8485, 1.8485, 1.8484, 1.8483, 1.8482, 1.8482, 1.8481, 1.847, 1.8421, 1.8313, 1.8386, 1.8471, 1.848, 1.8462, 1.84, 1.8269, 1.8179, 1.815, 1.7654, 1.7976, 1.7582, 1.8409, 1.7215, 1.7829, 1.7821, 1.7421, 1.7233, 1.748, 1.662, 1.777, 1.7128, 0.8916, 1.273, 1.4372, 0.5071, 0.6299, 0.9116, 0.4364, 0.475, 0.1576, -0.2449, -0.0555, 0.2538, 0.5637, 0.5105, -0.0903, -0.0486, 0.1002, -0.0974, 2.2917, 2.2917, 2.2916, 2.2914, 2.2913, 2.2913, 2.2912, 2.2912, 2.2912, 2.2902, 2.2902, 2.2902, 2.2901, 2.2897, 2.2896, 2.2895, 2.2895, 2.2892, 2.2892, 2.2891, 2.289, 2.2889, 2.2888, 2.2887, 2.2887, 2.2885, 2.2885, 2.2885, 2.2884, 2.2883, 2.2767, 2.2844, 2.287, 2.2467, 2.247, 2.2108, 1.8178, 2.0535, 1.94, 2.0047, 1.2809, 1.3507, 1.4153, 1.7498, 1.8015, 1.9399, 0.932, -0.1739, -1.626]}, \"token.table\": {\"Topic\": [1, 2, 3, 4, 5, 2, 3, 5, 1, 2, 3, 4, 5, 2, 3, 4, 2, 3, 5, 5, 2, 3, 5, 3, 3, 2, 3, 4, 4, 2, 3, 1, 2, 3, 4, 5, 3, 3, 5, 1, 2, 1, 2, 3, 4, 5, 4, 2, 1, 2, 3, 4, 5, 1, 3, 1, 1, 2, 5, 1, 2, 3, 5, 4, 1, 2, 3, 4, 5, 4, 2, 1, 2, 4, 5, 3, 3, 5, 2, 5, 4, 2, 3, 4, 5, 3, 2, 3, 5, 3, 4, 3, 5, 2, 3, 4, 5, 1, 2, 3, 4, 5, 2, 3, 4, 5, 2, 3, 5, 3, 5, 2, 3, 5, 2, 1, 2, 3, 4, 5, 1, 2, 3, 4, 5, 2, 1, 2, 4, 5, 2, 1, 1, 2, 3, 4, 5, 1, 1, 2, 3, 4, 1, 2, 3, 4, 5, 5, 1, 2, 3, 4, 5, 1, 4, 4, 2, 3, 4, 3, 4, 2, 3, 2, 2, 3, 4, 5, 5, 1, 5, 1, 4, 2, 1, 3, 4, 1, 2, 3, 4, 5, 5, 1, 2, 3, 4, 5, 1, 2, 3, 4, 5, 2, 5, 1, 1, 2, 4, 1, 2, 3, 4, 5, 5, 4, 1, 2, 3, 4, 5, 1, 5, 1, 5, 3, 4, 5, 2, 1, 2, 3, 4, 5, 4, 1, 4, 3, 1, 4, 1, 2, 3, 4, 5, 1, 2, 3, 5, 3, 2, 3, 5, 1, 2, 3, 4, 5, 1, 1, 2, 3, 4, 5, 1, 2, 3, 4, 1, 4, 4, 4, 2, 1, 2, 3, 4, 5, 1, 2, 3, 4, 5, 4, 1, 2, 3, 4, 5, 1, 2, 3, 4, 5, 2, 3, 4, 5, 4, 1, 2, 1, 4, 1, 2, 4, 5, 1, 1, 2, 3, 4, 5, 4, 1, 2, 3, 4, 5, 5, 2, 1, 2, 3, 5, 5, 1, 1, 2, 3, 4, 4, 5, 2, 1, 1, 2, 4, 2, 1, 4, 5, 2, 2, 5, 1, 2, 3, 4, 5, 2, 3, 4, 5, 1, 2, 4, 4, 1, 2, 3, 4, 5, 1, 2, 3, 4, 5, 1, 2, 3, 4, 1, 2, 3, 4, 5, 1, 2, 3, 4, 5, 1, 2, 4, 5, 4, 1, 2, 3, 4, 5, 1, 2, 3, 4, 5, 1, 2, 3, 4, 5, 2, 3, 2, 5, 1, 2, 3, 4, 5, 1, 4, 5, 5, 2, 3, 5, 2, 3, 5, 2, 2, 4, 4, 2, 1, 4, 1, 2, 3, 4, 5, 1, 2, 1, 2, 1, 2, 3, 4, 5, 2, 3, 5, 5, 3, 1, 2, 3, 5, 3, 1, 2, 4, 1, 2, 3, 4, 5, 1, 5, 4, 1, 2, 4, 5, 2, 4, 5, 1, 2, 3, 4, 5, 1, 1, 2, 3, 4, 5, 1, 2, 5, 5, 1, 2, 3, 4, 5, 2, 3, 1, 4, 5, 1, 2, 3, 4, 5, 2, 4, 4, 4, 5, 1, 2, 1, 2, 3, 4, 5, 1, 2, 3, 4, 5, 4, 5, 5, 1, 5, 1, 1, 5, 1, 1, 2, 2, 4, 1, 2, 3, 4, 5, 2, 3, 5, 4, 1, 2, 3, 4, 5, 1, 4, 1, 2, 3, 4, 5, 1, 2, 4, 5, 4, 3, 3, 1, 5, 3, 4, 4, 5, 1, 3, 4, 2, 3, 5, 1, 2, 4, 5, 1, 2, 3, 4, 5, 4, 1, 2, 3, 2, 3, 5, 1, 2, 3, 4, 5, 1, 2, 3, 4, 5, 1, 5, 1, 5, 1, 2, 3, 2, 3, 4, 1, 2, 3, 4, 5, 2, 5, 2, 2, 1, 2, 3, 4, 5, 4, 1, 2, 3, 4, 5, 1, 2, 3, 4, 5, 1, 2, 4, 1, 2, 3, 4, 5, 1, 3, 4, 5, 3, 4, 1, 1, 2, 3, 4, 4, 5, 1, 2, 4, 1, 1, 4, 1, 2, 3, 4, 5, 1, 5, 5, 1, 2, 1, 2, 3, 4, 5, 1, 2, 3, 4, 5, 1, 2, 3, 4, 5, 3, 1, 2, 3, 4, 5, 1, 2, 5, 5, 1, 2, 3, 4, 5, 1, 2, 4, 5, 1, 4, 1, 2, 4, 2, 5, 1, 2, 3, 4, 5, 1, 2, 3, 4, 5, 1, 2, 3, 4, 5, 1, 1, 2, 3, 4, 5, 5, 3, 4, 1, 1, 1, 2, 3, 4, 5, 1, 2, 3, 4, 5, 2, 5, 2, 3, 4, 1, 2, 3, 4, 3, 3, 3, 3, 3, 3], \"Freq\": [0.31352864241347717, 0.16445750189347313, 0.03859202114984876, 0.11955959493482557, 0.3639757288838677, 0.2053482602606683, 0.005461389900549689, 0.7875324236592651, 0.009994404518652897, 0.2765118583493968, 0.008328670432210748, 0.0016657340864421495, 0.7029397844785871, 0.0017572526014650283, 0.9974165765915501, 0.0007029010405860114, 0.07478094743648069, 0.17448887735178828, 0.7509253471746602, 0.9967188478818038, 0.0018631075548831766, 0.9883785578655252, 0.009315537774415883, 0.9993701149144434, 0.9989535025975791, 0.9988057657184122, 0.03584030500114064, 0.9632081969056547, 0.997164038855334, 0.008153642412489117, 0.9914829173586766, 0.9384133148669469, 0.004581350601465973, 0.004581350601465973, 0.011453376503664934, 0.0404685969796161, 0.9983838269563876, 0.9050992357162196, 0.09477857704142667, 0.9984491295688266, 0.0012336686114936078, 0.0013618137828751331, 0.14571407476763926, 0.4625627482499202, 0.0004539379276250444, 0.3903866177575382, 0.9985750408521646, 0.9983851824770738, 0.9764300163532265, 0.0018366666974271165, 9.666666828563771e-05, 0.0017400000291414787, 0.019889166999769958, 0.996827979766331, 0.9989874387050801, 0.9981539347559512, 0.0010652777730278974, 0.99816527332714, 0.0010652777730278974, 0.0009664778336011485, 0.0028994335008034455, 0.9838744346059691, 0.011597734003213782, 0.9950037138694077, 0.9991098067268954, 0.9990992934754228, 0.9978349360515354, 0.995365319997784, 0.9983982765883351, 0.9943648247766016, 0.9979254593654238, 0.11444186036212006, 0.8609549187242571, 0.003521288011142156, 0.021127728066852935, 0.9988336950695862, 0.9985919688880524, 0.9986088945115649, 0.0425949699804313, 0.9566120341438531, 0.9961513200264412, 0.00696456185950282, 0.6863259141546415, 0.004431993910592703, 0.3026418698947589, 0.998085123105468, 0.0023789726727824817, 0.38420408665437084, 0.6125854632414891, 0.9985895596557948, 0.9981611798913228, 0.9969012229897025, 0.002055466439154026, 0.008581945396931658, 0.9734378064519623, 0.0012259921995616653, 0.01593789859430165, 0.0004969501176146115, 0.12150430375677253, 0.8554996274735538, 0.00024847505880730577, 0.022611230351464826, 0.06206722052747586, 0.7957573497477876, 0.052803456269643646, 0.08800576044940607, 0.006931388720228769, 0.8026548138024915, 0.18992005093426828, 0.9994817575844915, 0.995854213194618, 0.001992674501228864, 0.994344576113203, 0.003985349002457728, 0.9983754885735289, 0.20101896830470786, 0.49545946870015856, 0.17359672754175348, 0.0957454507994678, 0.03416160501825671, 0.10795376493743282, 0.2958914557148727, 0.4823570496977112, 0.09127000126528412, 0.02208145191902035, 0.9964020420865398, 0.9198435420889367, 0.02512636753924649, 0.0032773522877278033, 0.05134518584106892, 0.9979395485886781, 0.9977818200922808, 0.39814524108868593, 0.4427375080906188, 0.03503678121580436, 0.12209787393386369, 0.002123441285806325, 0.9973479712100469, 0.15705551410640398, 0.7370082152791343, 0.020172267866877577, 0.0857321384342297, 0.9125585495722662, 0.03398920105630337, 0.0010299757895849506, 0.04634891053132278, 0.006179854737509704, 0.9986282116097946, 0.0006190780112722587, 0.22101085002419635, 0.7757047481241401, 0.0006190780112722587, 0.002476312045089035, 0.9932895395671695, 0.006803353010734038, 0.9952095196909555, 0.9985916669475475, 0.12063494225308796, 0.8792431368061604, 0.12964284604997864, 0.8707093849572889, 0.996319431474867, 0.998193434143105, 0.9993693075202378, 0.01188829708565117, 0.054983374021136656, 0.9332313212236168, 0.9985939090931204, 0.9998374693916137, 0.37718898468616946, 0.6225710420770927, 0.05230001462323148, 0.9472113759540813, 0.998985142947738, 0.0029365729625435363, 0.07987478458118419, 0.9167980789060921, 0.004141058521658122, 0.0119055432497671, 0.10404409535666032, 0.8773867742763145, 0.0031057938912435914, 0.9970302449625476, 0.33119774730358836, 0.3093642244083214, 0.334892651178172, 0.0073898077491672855, 0.01713091796397871, 0.010163348091359678, 0.3598181833046286, 0.47821227335134486, 0.14941904737823528, 0.0023179565822399268, 0.998150621922581, 0.0008984254022705499, 0.999351869656521, 0.012950325109028618, 0.9524375466549229, 0.032964463913891025, 0.0006451136963285827, 0.9689607718855312, 0.005806023266957244, 0.00967670544492874, 0.014837615015557403, 0.9969842087655386, 0.9988771217580086, 0.0016400755318302519, 0.9944324641330761, 0.0005466918439434173, 0.002186767375773669, 0.0010933836878868346, 0.8073305236118661, 0.19204680637433785, 0.9986583310782773, 0.9979486329381514, 0.9964785977952587, 0.00274512010411917, 0.999559508305091, 0.998381571482754, 0.3301372632403929, 0.3532155790356336, 0.16467747372536184, 0.1423814737197903, 0.009583368423447423, 0.9972336250159586, 0.9948513448633985, 0.004035908092752124, 0.9988884073270756, 0.0028556547168301703, 0.9937678414568992, 0.9005539318172308, 0.057900137981360414, 0.001033931035381436, 0.039289379344494564, 0.001033931035381436, 0.012453928963319122, 0.36066578277772177, 0.5972904330807851, 0.02939127235343313, 0.9992716286325164, 0.0025507420088827057, 0.9718327053843109, 0.02550742008882706, 0.0005453937333812043, 0.6244758247214789, 0.32178230269491054, 0.008180906000718064, 0.04472228613725875, 0.9983888711749193, 0.03504039958853232, 0.001297792577353049, 0.9486863740450787, 0.009084548041471342, 0.005191170309412196, 0.6679408345182493, 0.06989741255705519, 0.0008700922724944628, 0.261317712505837, 0.9445983857405426, 0.05493757972622947, 0.9983931777302074, 0.9989176079837647, 0.9994774001980756, 0.005864649005238173, 0.5678046536889686, 0.009063548462640814, 0.0005331499095671067, 0.4163900793719103, 0.6051627911957952, 0.1032157233152169, 0.025630750084986748, 0.260463838701487, 0.0054032392071053145, 0.9992615551629574, 0.4712716917365635, 0.19413527976244793, 0.07758421621469566, 0.2427127845094871, 0.014328616508119469, 0.4917443208734489, 0.15079204793402218, 0.10378883046091716, 0.25219492826940104, 0.001192975062769163, 0.30718908676069023, 0.5782888262655791, 0.11385329789032575, 0.0004296350863785877, 0.9950551972678362, 0.0018473142191376944, 0.9975496783343549, 0.998440547700763, 0.001150277128687515, 0.8539678205336658, 0.002140270226901418, 0.13376688918133864, 0.009631216021056382, 0.9937662842069312, 0.31265146152366285, 0.5213685837348462, 0.09714679062268493, 0.060239494621926896, 0.008060214069131063, 0.9969023331412815, 0.7002025765286403, 0.06162324416257859, 0.04356515063508303, 0.17335769786395736, 0.02121825989480728, 0.9955833451457563, 0.9977724542303751, 0.9636274612399687, 0.0038855946017740672, 0.031084756814192538, 0.9953236967366239, 0.9998676374260853, 0.9951510790694639, 0.027384848770076776, 0.8711805014980675, 0.014548200909103288, 0.08643342893055483, 0.9964443649288331, 0.9979313179597078, 0.9976748671135378, 0.9979215510858422, 0.0011890454858436222, 0.991663935193581, 0.0059452274292181116, 0.9983892960988133, 0.9974922971799245, 0.002444834061715501, 0.998532415989017, 0.9979974367827364, 0.9995671481302911, 0.00028022628206624364, 0.7801503277161952, 0.17363494298798982, 0.012069157297589653, 0.016896820216625516, 0.017218664411227907, 0.8815912467551819, 0.0982512352531517, 0.0181551195576476, 0.002135896418546776, 0.010450576082580298, 0.0020901152165160595, 0.9886244974120962, 0.9976273075612249, 0.5886212530420346, 0.2326011971013532, 0.025904044960205926, 0.14846657173473396, 0.004495743340201029, 0.1096546354184499, 0.583053501982683, 0.027534423871593147, 0.2782425991234676, 0.0019322402716907472, 0.8030450299799617, 0.0006139487996788699, 0.055255391971098286, 0.14120822392614008, 0.6533625942335509, 0.13403266933133987, 0.03546825511553562, 0.17174102476996195, 0.00560025080771615, 0.0018659471426790777, 0.06779607951733982, 0.64748365850964, 0.009329735713395388, 0.2742942299738244, 0.902527068721649, 0.03747517240366709, 0.05933568963913956, 0.0010409770112129746, 0.9981808401523444, 0.6228433769257089, 0.18868981660215847, 0.043415356032355044, 0.14332633561963365, 0.0018089731680147934, 0.2873725979747289, 0.452796055014028, 0.002210558445959453, 0.2549510741006569, 0.002210558445959453, 0.16451362313690812, 0.7380881470466689, 0.03516630273442508, 0.05861050455737513, 0.004042103762577596, 0.9967163099533369, 0.0019894537124817103, 0.9942312596066915, 0.004667752392519678, 0.5712575253466576, 0.1962499636153157, 0.09153539206477483, 0.1370634666519665, 0.004073564568327676, 0.9836189466877596, 0.0009446520496401053, 0.015114432794241685, 0.9981951721007972, 0.2965441101317669, 0.6602739952152623, 0.04324601606088268, 0.9671143638573834, 0.0012190517191479624, 0.03169534469784702, 0.9957920926805583, 0.0013173014643260467, 0.9971972084948174, 0.9976220161387359, 0.9960652981127094, 0.9967826115721623, 0.0034974828476216223, 0.33486588970123815, 0.4204578839120434, 0.21653751523450734, 0.025916301035941038, 0.002387027726994569, 0.001166249693341715, 0.998309737500508, 0.0014794729029100097, 0.9971647365613465, 0.30326539610217557, 0.030427966164097885, 0.0030427966164097886, 0.6602868657609241, 0.0030427966164097886, 0.9761139487724015, 0.022951503636418846, 0.9973946136806527, 0.9993944445932734, 0.9974862206998997, 0.002503535940324947, 0.8779066030739481, 0.0008345119801083157, 0.11850070117538082, 0.9980017696549862, 0.9700773378191231, 0.007088247771120941, 0.022277350137808672, 0.383050957135863, 0.36510228371578257, 0.054575641130976286, 0.18371853525106724, 0.01371687236981757, 0.9980883496596327, 0.9995723258058818, 0.99830437085225, 0.001432607734977536, 0.09598471824349492, 0.9011102653008702, 0.001432607734977536, 0.002368492272097303, 0.9947667542808672, 0.002368492272097303, 0.24692189758724187, 0.6267707547238961, 0.0033835953339850433, 0.12277617354745729, 8.056179366631056e-05, 0.9977349636580723, 0.007930774199340391, 0.013217956998900651, 0.023792322598021172, 0.8961774845254642, 0.05948080649505293, 0.9547149839249554, 0.0012797787988270179, 0.04223270036129159, 0.9967764360388293, 0.5984540409400958, 0.166850089755188, 0.136168978209296, 0.09686957690332196, 0.0013789263616131241, 0.8849418815047121, 0.1143926940931634, 0.8816192628635755, 0.00039078868034732957, 0.1176273927845462, 0.0006505978088634983, 0.21469727692495444, 0.7345249262068896, 0.050096031282489364, 0.0006505978088634983, 0.010373814378230064, 0.9889703040579327, 0.9946394041475836, 0.9938704205029468, 0.9997867371652408, 0.010461181142238657, 0.9878343907171075, 0.9290445750064571, 0.006743065463756544, 0.0007492294959729493, 0.006743065463756544, 0.05694144169394415, 0.610581300162326, 0.2558908685146318, 0.06257305665093955, 0.0681716985618131, 0.002963986893991874, 0.9958048723336456, 0.0034818352179498096, 0.9977215069684052, 0.014767315423819986, 0.9848978981275496, 0.997643498088463, 0.006518839284057211, 0.9924932809977104, 0.9960874230511096, 0.9986353766689349, 0.0018459064263751108, 0.07064705944351327, 0.9275275223712871, 0.35304408747789523, 0.19172199009993623, 0.0709330830179468, 0.38263331639395304, 0.001823993563318632, 0.03485696705669876, 0.008299277870642562, 0.9560768106980232, 0.997624648014652, 0.7033135239698609, 0.22365394478611095, 0.011231529978341816, 0.05969802347183857, 0.0021974732566320946, 0.012291141044331563, 0.9866434129222519, 0.743501401619179, 0.19716904258128862, 0.01223483319120168, 0.042586630915528924, 0.004470419819862153, 0.6772807466165555, 0.15769304937316797, 0.16423331409371408, 0.0010900441200910227, 0.9970202431130066, 0.9991641280039802, 0.9995548979501025, 0.9951266867035002, 0.9978085742497251, 0.008758812759632927, 0.9897458418385208, 0.9980711285012782, 0.0009532675534873718, 0.0014458021241453075, 0.031807646731196765, 0.9657958189290653, 0.9322707650138679, 0.0010002905204011458, 0.06601917434647563, 0.8786158569121773, 0.022235397680351557, 0.09847104687012832, 0.0006352970765814731, 0.7455358351578563, 0.14337227599189542, 0.0030183637050925356, 0.10765497214830043, 0.0005030606175154225, 0.9946079855067621, 0.999178871739701, 0.0016336395823732992, 0.9965201452477125, 0.2078129856142916, 0.08888001538580471, 0.7033670282329869, 0.0026751023588602175, 0.2243264406644211, 0.6110698102596411, 0.15821319665259, 0.004203732278208913, 0.23066156424041578, 0.35017927244419556, 0.2514693181102883, 0.16290948761534316, 0.004821308823507041, 0.9974617471042125, 0.0024507659634010136, 0.9852445463728916, 0.013020853035765088, 0.0011808254320788067, 0.0011808254320788067, 0.9977974901065917, 0.011743052007833139, 0.16078948133802298, 0.826530199012871, 0.37069687130022216, 0.3248083927644409, 0.16330145713571337, 0.1161311775235136, 0.02486694088251836, 0.41806188333325184, 0.5818282171937228, 0.9989750583747009, 0.9977128852760722, 0.9709486555918909, 0.0011211878240091119, 0.025787319952209575, 0.0011211878240091119, 0.0011211878240091119, 0.9981301145445892, 0.3679310287072238, 0.3221767190806167, 0.014935344593141171, 0.2946767195122933, 0.0002370689617958916, 0.8871391929814835, 0.06152494878172933, 0.02343004898811062, 0.027306963568877126, 0.0005056845105347617, 0.006282448021335201, 0.9863443393496266, 0.006282448021335201, 0.33832860438837686, 0.3313504362339925, 0.15419500599204136, 0.12110498280834782, 0.055150038639489245, 0.010258572949188357, 0.014817938704383183, 0.05243270618474049, 0.9221317239881535, 0.9980880271329771, 0.9963338368490795, 0.9957878752137344, 0.208096638365006, 0.17632140316555897, 0.05482785681473212, 0.5601164008686839, 0.9099103794291447, 0.08942821477213922, 0.8972989963386968, 0.03259612902945821, 0.06881405017330067, 0.9967646877689673, 0.998120573927452, 0.9976228436929976, 0.2886326539708897, 0.45864110427520827, 0.05490773783576437, 0.09689600794546653, 0.10100674767648633, 0.003651824136354732, 0.9969479892248418, 0.9972385019722342, 0.0037205542088977646, 0.995248250880152, 0.40442294351786706, 0.3254218251851401, 0.12530309828270267, 0.14178346402760927, 0.003139117284744117, 0.003027397844712148, 0.2648314984156888, 0.6470733828089096, 0.00013162599324835427, 0.0848987656451885, 0.33192278513227536, 0.4230918105500926, 0.13776652729803496, 0.10163658018801107, 0.005402608913648429, 0.9968055449436213, 0.3363035561747323, 0.32715243899990964, 0.123364098837513, 0.20220449295906195, 0.01091094740075008, 0.0061202012745100775, 0.9939206869804366, 0.9990434262098822, 0.9990980112297903, 0.027002627754321704, 0.005121188022371357, 0.7071895096347356, 0.0037245003799064418, 0.25652496366605615, 0.05894014378264057, 0.003572129926220641, 0.9323259107435872, 0.0053581948893309615, 0.9938384775975786, 0.0032799949755695666, 0.12271246305251499, 0.8390595764274529, 0.03775768093923538, 0.998680278701461, 0.9951135914746038, 0.008319054561030761, 0.009243393956700844, 0.0013865090935051268, 0.9793375897124545, 0.001848678791340169, 0.03189206050130002, 0.3007859039436335, 0.4962029413290503, 0.16852765304118345, 0.002501338078533335, 0.26364231230507784, 0.3140484000430857, 0.38926167232231207, 0.019265153952222905, 0.013855076472489075, 0.9989931957247974, 0.8102658657845926, 0.09430424957886689, 0.04034908190936593, 0.04973258933014871, 0.005160929081430526, 0.9993929560242186, 0.0030389010086237117, 0.9967595308285775, 0.9946324520033591, 0.9984457223546008, 0.1344205240965107, 0.28420339380405124, 0.22748088693255658, 0.2756359318286692, 0.07858430639488319, 0.23736423385570055, 0.5578958602555386, 0.1222785447135427, 0.08226828559771439, 0.00044955347321155403, 0.9979639189649107, 0.9970438465354747, 0.02214713656117552, 0.002214713656117552, 0.9744740086917228, 0.5350212414211507, 0.07066318282920858, 0.0036341065455021554, 0.39046455883339826, 0.9996981009669729, 0.9986352676541398, 0.9983981730225939, 0.9998313546208129, 0.9988302238069516, 0.9973435677173628], \"Term\": [\"  \", \"  \", \"  \", \"  \", \"  \", \"1\", \"1\", \"1\", \"3\", \"3\", \"3\", \"3\", \"3\", \"America\", \"America\", \"America\", \"Army\", \"Army\", \"Army\", \"Austria\", \"Britain\", \"Britain\", \"Britain\", \"Canada\", \"China\", \"Christians\", \"Communism\", \"Communism\", \"EU\", \"East\", \"East\", \"Edit\", \"Edit\", \"Edit\", \"Edit\", \"Edit\", \"F\", \"France\", \"France\", \"Fuck\", \"Fuck\", \"Germany\", \"Germany\", \"Germany\", \"Germany\", \"Germany\", \"God\", \"Holocaust\", \"I\", \"I\", \"I\", \"I\", \"I\", \"IRA\", \"India\", \"Islam\", \"Israel\", \"Israel\", \"Israel\", \"Japan\", \"Japan\", \"Japan\", \"Japan\", \"Jerusalem\", \"Jesus\", \"Jews\", \"Korea\", \"Lenin\", \"Lmao\", \"Marx\", \"Muslims\", \"Nazis\", \"Nazis\", \"Nazis\", \"Nazis\", \"North\", \"November\", \"Poland\", \"Red\", \"Red\", \"Roman\", \"Russia\", \"Russia\", \"Russia\", \"Russia\", \"South\", \"Soviet\", \"Soviet\", \"Soviet\", \"States\", \"Trump\", \"U\", \"U\", \"UK\", \"UK\", \"UK\", \"UK\", \"US\", \"US\", \"US\", \"US\", \"US\", \"USA\", \"USA\", \"USA\", \"USA\", \"USSR\", \"USSR\", \"USSR\", \"United\", \"Venezuela\", \"Vietnam\", \"Vietnam\", \"Vietnam\", \"Wehrmacht\", \"also\", \"also\", \"also\", \"also\", \"also\", \"american\", \"american\", \"american\", \"american\", \"american\", \"arab\", \"ask\", \"ask\", \"ask\", \"ask\", \"atrocity\", \"baby\", \"bad\", \"bad\", \"bad\", \"bad\", \"bad\", \"bitch\", \"black\", \"black\", \"black\", \"black\", \"book\", \"book\", \"book\", \"book\", \"book\", \"bot\", \"british\", \"british\", \"british\", \"british\", \"british\", \"bro\", \"bro\", \"buddy\", \"camp\", \"capitalism\", \"capitalism\", \"capitalist\", \"capitalist\", \"christian\", \"civil\", \"civilian\", \"class\", \"class\", \"class\", \"clickablelinkbot\", \"com\", \"comment\", \"comment\", \"commie\", \"commie\", \"commit\", \"communism\", \"communism\", \"communism\", \"communist\", \"communist\", \"communist\", \"communist\", \"communist\", \"compose\", \"could\", \"could\", \"could\", \"could\", \"could\", \"country\", \"country\", \"country\", \"country\", \"country\", \"crime\", \"crime\", \"crusade\", \"culture\", \"culture\", \"culture\", \"death\", \"death\", \"death\", \"death\", \"death\", \"declare\", \"dick\", \"die\", \"die\", \"die\", \"die\", \"die\", \"downvote\", \"downvote\", \"dude\", \"e\", \"economy\", \"economy\", \"en\", \"enemy\", \"even\", \"even\", \"even\", \"even\", \"even\", \"everybody\", \"explain\", \"explain\", \"f\", \"fake\", \"fake\", \"feel\", \"feel\", \"feel\", \"feel\", \"feel\", \"fight\", \"fight\", \"fight\", \"fight\", \"flag\", \"food\", \"food\", \"food\", \"force\", \"force\", \"force\", \"force\", \"force\", \"format\", \"french\", \"french\", \"french\", \"french\", \"french\", \"fuck\", \"fuck\", \"fuck\", \"fuck\", \"funny\", \"funny\", \"game\", \"gay\", \"genocide\", \"german\", \"german\", \"german\", \"german\", \"german\", \"get\", \"get\", \"get\", \"get\", \"get\", \"girl\", \"go\", \"go\", \"go\", \"go\", \"go\", \"good\", \"good\", \"good\", \"good\", \"good\", \"government\", \"government\", \"government\", \"government\", \"greek\", \"group\", \"group\", \"guess\", \"guess\", \"guy\", \"guy\", \"guy\", \"guy\", \"haha\", \"happen\", \"happen\", \"happen\", \"happen\", \"happen\", \"historically\", \"history\", \"history\", \"history\", \"history\", \"history\", \"historymeme\", \"holy\", \"hope\", \"hope\", \"hope\", \"html\", \"https\", \"huh\", \"human\", \"human\", \"human\", \"human\", \"inaccurate\", \"info\", \"innocent\", \"insult\", \"jewish\", \"jewish\", \"jewish\", \"jews\", \"joke\", \"joke\", \"jpg\", \"karma\", \"kill\", \"kill\", \"know\", \"know\", \"know\", \"know\", \"know\", \"land\", \"land\", \"land\", \"land\", \"left\", \"left\", \"left\", \"leftist\", \"like\", \"like\", \"like\", \"like\", \"like\", \"live\", \"live\", \"live\", \"live\", \"live\", \"lol\", \"lol\", \"lol\", \"lol\", \"look\", \"look\", \"look\", \"look\", \"look\", \"lose\", \"lose\", \"lose\", \"lose\", \"lose\", \"love\", \"love\", \"love\", \"love\", \"mad\", \"make\", \"make\", \"make\", \"make\", \"make\", \"man\", \"man\", \"man\", \"man\", \"man\", \"many\", \"many\", \"many\", \"many\", \"many\", \"mass\", \"mass\", \"massacre\", \"massacre\", \"mean\", \"mean\", \"mean\", \"mean\", \"mean\", \"meme\", \"meme\", \"meme\", \"message\", \"military\", \"military\", \"military\", \"million\", \"million\", \"million\", \"minority\", \"money\", \"money\", \"moon\", \"moral\", \"movie\", \"movie\", \"much\", \"much\", \"much\", \"much\", \"much\", \"murder\", \"murder\", \"muslim\", \"muslim\", \"name\", \"name\", \"name\", \"name\", \"name\", \"native\", \"native\", \"normal\", \"np\", \"nuke\", \"number\", \"number\", \"number\", \"number\", \"oil\", \"ok\", \"ok\", \"ok\", \"one\", \"one\", \"one\", \"one\", \"one\", \"op\", \"org\", \"parent\", \"party\", \"party\", \"party\", \"party\", \"pay\", \"pay\", \"pay\", \"people\", \"people\", \"people\", \"people\", \"people\", \"picture\", \"play\", \"play\", \"play\", \"play\", \"play\", \"please\", \"please\", \"please\", \"png\", \"point\", \"point\", \"point\", \"point\", \"point\", \"population\", \"population\", \"post\", \"post\", \"post\", \"power\", \"power\", \"power\", \"power\", \"power\", \"property\", \"property\", \"proud\", \"queen\", \"r\", \"rape\", \"rape\", \"read\", \"read\", \"read\", \"read\", \"read\", \"really\", \"really\", \"really\", \"really\", \"really\", \"red\", \"red\", \"redd\", \"reddit\", \"reddit\", \"reference\", \"remove\", \"remove\", \"reply\", \"repost\", \"repost\", \"rich\", \"rich\", \"right\", \"right\", \"right\", \"right\", \"right\", \"russian\", \"russian\", \"russian\", \"sad\", \"say\", \"say\", \"say\", \"say\", \"say\", \"school\", \"school\", \"see\", \"see\", \"see\", \"see\", \"see\", \"shit\", \"shit\", \"shit\", \"shit\", \"shut\", \"slave\", \"slavery\", \"smart\", \"sneakpeekbot\", \"socialism\", \"socialism\", \"socialist\", \"socialist\", \"society\", \"society\", \"society\", \"soldier\", \"soldier\", \"soldier\", \"someone\", \"someone\", \"someone\", \"someone\", \"something\", \"something\", \"something\", \"something\", \"something\", \"son\", \"sorry\", \"south\", \"south\", \"soviet\", \"soviet\", \"soviet\", \"state\", \"state\", \"state\", \"state\", \"state\", \"still\", \"still\", \"still\", \"still\", \"still\", \"sub\", \"sub\", \"subreddit\", \"subreddit\", \"surrender\", \"surrender\", \"surrender\", \"system\", \"system\", \"system\", \"take\", \"take\", \"take\", \"take\", \"take\", \"tank\", \"tank\", \"target\", \"terrorist\", \"thank\", \"thank\", \"thank\", \"thank\", \"thank\", \"therefore\", \"thing\", \"thing\", \"thing\", \"thing\", \"thing\", \"think\", \"think\", \"think\", \"think\", \"think\", \"tho\", \"tho\", \"tho\", \"time\", \"time\", \"time\", \"time\", \"time\", \"top\", \"top\", \"top\", \"top\", \"trade\", \"trash\", \"trigger\", \"true\", \"true\", \"true\", \"true\", \"u\", \"u\", \"understand\", \"understand\", \"understand\", \"upon\", \"upvote\", \"ur\", \"use\", \"use\", \"use\", \"use\", \"use\", \"user\", \"user\", \"v\", \"victim\", \"victim\", \"want\", \"want\", \"want\", \"want\", \"want\", \"war\", \"war\", \"war\", \"war\", \"war\", \"way\", \"way\", \"way\", \"way\", \"way\", \"wealth\", \"well\", \"well\", \"well\", \"well\", \"well\", \"white\", \"white\", \"wiki\", \"wikipedia\", \"win\", \"win\", \"win\", \"win\", \"win\", \"wing\", \"wing\", \"wing\", \"wing\", \"wish\", \"wish\", \"woman\", \"woman\", \"woman\", \"wonder\", \"woooosh\", \"work\", \"work\", \"work\", \"work\", \"work\", \"world\", \"world\", \"world\", \"world\", \"world\", \"would\", \"would\", \"would\", \"would\", \"would\", \"wow\", \"wrong\", \"wrong\", \"wrong\", \"wrong\", \"wrong\", \"www\", \"x200B\", \"x200B\", \"ya\", \"yea\", \"year\", \"year\", \"year\", \"year\", \"year\", \"yes\", \"yes\", \"yes\", \"yes\", \"yes\", \"young\", \"youtube\", \"\\u2019\", \"\\u2019\", \"\\u2019\", \"\\u2019s\", \"\\u2019s\", \"\\u2019s\", \"\\u2019s\", \"\\u2800\", \"\\u2819\", \"\\u283f\", \"\\u28ff\", \"\\ufe0f\", \"\\ud83d\\ude02\"]}, \"R\": 30, \"lambda.step\": 0.01, \"plot.opts\": {\"xlab\": \"PC1\", \"ylab\": \"PC2\"}, \"topic.order\": [1, 5, 2, 4, 3]};\n",
       "\n",
       "function LDAvis_load_lib(url, callback){\n",
       "  var s = document.createElement('script');\n",
       "  s.src = url;\n",
       "  s.async = true;\n",
       "  s.onreadystatechange = s.onload = callback;\n",
       "  s.onerror = function(){console.warn(\"failed to load library \" + url);};\n",
       "  document.getElementsByTagName(\"head\")[0].appendChild(s);\n",
       "}\n",
       "\n",
       "if(typeof(LDAvis) !== \"undefined\"){\n",
       "   // already loaded: just create the visualization\n",
       "   !function(LDAvis){\n",
       "       new LDAvis(\"#\" + \"ldavis_el387229209096330084634956296\", ldavis_el387229209096330084634956296_data);\n",
       "   }(LDAvis);\n",
       "}else if(typeof define === \"function\" && define.amd){\n",
       "   // require.js is available: use it to load d3/LDAvis\n",
       "   require.config({paths: {d3: \"https://d3js.org/d3.v5\"}});\n",
       "   require([\"d3\"], function(d3){\n",
       "      window.d3 = d3;\n",
       "      LDAvis_load_lib(\"https://cdn.jsdelivr.net/gh/bmabey/pyLDAvis@3.3.1/pyLDAvis/js/ldavis.v3.0.0.js\", function(){\n",
       "        new LDAvis(\"#\" + \"ldavis_el387229209096330084634956296\", ldavis_el387229209096330084634956296_data);\n",
       "      });\n",
       "    });\n",
       "}else{\n",
       "    // require.js not available: dynamically load d3 & LDAvis\n",
       "    LDAvis_load_lib(\"https://d3js.org/d3.v5.js\", function(){\n",
       "         LDAvis_load_lib(\"https://cdn.jsdelivr.net/gh/bmabey/pyLDAvis@3.3.1/pyLDAvis/js/ldavis.v3.0.0.js\", function(){\n",
       "                 new LDAvis(\"#\" + \"ldavis_el387229209096330084634956296\", ldavis_el387229209096330084634956296_data);\n",
       "            })\n",
       "         });\n",
       "}\n",
       "</script>"
      ],
      "text/plain": [
       "PreparedData(topic_coordinates=              x         y  topics  cluster       Freq\n",
       "topic                                                \n",
       "0      0.133530 -0.174068       1        1  28.708194\n",
       "4      0.085432  0.054079       2        1  28.234984\n",
       "1     -0.019047  0.288898       3        1  17.258882\n",
       "3      0.177742 -0.071415       4        1  15.689662\n",
       "2     -0.377656 -0.097494       5        1  10.108277, topic_info=        Term          Freq         Total Category  logprob  loglift\n",
       "50         I  41379.000000  41379.000000  Default  30.0000  30.0000\n",
       "98     https   5807.000000   5807.000000  Default  29.0000  29.0000\n",
       "135        r   5624.000000   5624.000000  Default  28.0000  28.0000\n",
       "0        com   3368.000000   3368.000000  Default  27.0000  27.0000\n",
       "61       war   7597.000000   7597.000000  Default  26.0000  26.0000\n",
       "...      ...           ...           ...      ...      ...      ...\n",
       "404   Soviet    514.892198    840.699022   Topic5  -5.4895   1.8015\n",
       "1406       3    422.238749    600.335917   Topic5  -5.6879   1.9399\n",
       "256      win    551.379014   2147.939102   Topic5  -5.4210   0.9320\n",
       "61       war    645.396476   7597.283601   Topic5  -5.2636  -0.1739\n",
       "50         I    822.802838  41379.309652   Topic5  -5.0207  -1.6260\n",
       "\n",
       "[362 rows x 6 columns], token_table=      Topic      Freq Term\n",
       "term                      \n",
       "216       1  0.313529     \n",
       "216       2  0.164458     \n",
       "216       3  0.038592     \n",
       "216       4  0.119560     \n",
       "216       5  0.363976     \n",
       "...     ...       ...  ...\n",
       "6586      3  0.998635    ⠙\n",
       "6588      3  0.998398    ⠿\n",
       "6602      3  0.999831    ⣿\n",
       "4958      3  0.998830    ️\n",
       "118       3  0.997344    😂\n",
       "\n",
       "[750 rows x 3 columns], R=30, lambda_step=0.01, plot_opts={'xlab': 'PC1', 'ylab': 'PC2'}, topic_order=[1, 5, 2, 4, 3])"
      ]
     },
     "execution_count": 51,
     "metadata": {},
     "output_type": "execute_result"
    }
   ],
   "source": [
    "# viz of model\n",
    "pyLDAvis.enable_notebook()\n",
    "\n",
    "lda_viz = gensimvis.prepare(lda_model, corpus, dictionary)\n",
    "lda_viz"
   ]
  },
  {
   "cell_type": "markdown",
   "metadata": {},
   "source": [
    "This topic model was created using the comments that were downvoted, i.e. have a score of less than zero. Observing the model shows the topics that have the highest probability of offending most of the users of the subreddit. The tokens that appear in the Top 30 Most Relevant Terms at different λ levels give us multiple dimensions to analyze the data. At λ equal to 0, the most distinct terms per topic appear. In this scenario, Topic 1 contains top words such as \"sorry\", \"dude\", \"trigger\", and \"op\". The token \"op\" refers to the \"Original Poster\", or author of a parent comment or post. The majority of these words deal with user to user interaction(s). From these words we can infer that comments that get downvoted are those that provoke disagreements in the subreddit. The other topics provide more context as to what exact content the controversial comments contain. Topic 2 contains words including \"genocide\", \"Jews\", \"camp\", \"Muslims\", and \"Christians\". Comments including the tokens in this topic likely make light of or downplay the extent of various religious conflicts and genocides. Topic 3 seems to deal largely with America, a controversial topic due to the country's role as a superpower in world affairs, both historically and in the present. The most relevant words are \"slave\" and \"slavery\". Similar to Topic 2, we can assume that comments that seek to sidestep historical issues like slavery are often heavily downvoted, as seen in the example of Figure 1 in the Introduction. While Topics 2 and 3 are made up of tokens related to historical issues, and Topic 1 consists of user interaction tokens, Topic 4 contains more meme language. Tokens like \"game\" and \"girl\" (gamer girl) and \"moon\" (to the moon) indicate the presence of meme culture on the subreddit. Meme language spreads rapidly due to its origin on the Internet and its easy replicability (Davison 122-123). As a subreddit that exclusively posts memes, it is logical that r/HistoryMemes has such a large topic dealing with meme topics. Topic 5 is most irrelevant to any interpretation as it consists of links and comment bots, making user input limited in the representative tokens. \n",
    "\n",
    "Setting the λ equal to 1 creates an interesting contrast within the topics. Topic 2 remains similar, with \"genocide\", \"kill\", and \"death\" remaining among the most relevant tokens. However, one of the newly most relevant tokens is \"white\". When combined with previous tokens, comments implying a \"white genocide\", or otherwise feeling sympathetic to white nationalist causes, may be among the most downvoted comments. Further n-gram analysis would be required to confirm this conjecture. Topic 4 interestingly seems to switch categories completely. Top tokens now include \"communism\", \"work\", and \"socialism\". These terms radically differ from the meme language tokens observed with a different λ value. Communism and socialism may be used more often in memes quoted in the comments.\n",
    "\n",
    "Observing the content that the subreddit disapproves of is just as valuable as the content that it approves of when it comes to defining a worldview. Some of the questions that a worldview seeks to address are \"What is good and what is evil?\" (Axiology,or theory of values) and \"How should we act?\" (Praxeology, or theory of actions) (Vidal, 4). Answers to these questions inherently involve the drawing of boundary lines; what remains within the lines is the personal or group definition of what is good and how one should act. The actions and ideas excluded are what define those boundaries. From the topic model above, we can draw the conclusion that comments targeting specific communities, whether race, religion, or nationality, are largely perceived as negative and therefore outside the worldview of the subreddit. Therefore, we can conclude that the subreddit considers itself to be fairly liberal and open-minded.\n"
   ]
  },
  {
   "cell_type": "code",
   "execution_count": 44,
   "metadata": {},
   "outputs": [
    {
     "name": "stdout",
     "output_type": "stream",
     "text": [
      "CPU times: total: 0 ns\n",
      "Wall time: 0 ns\n"
     ]
    }
   ],
   "source": [
    "# pos score topic model\n",
    "dictionary = corpora.Dictionary(lemmas_pos)\n",
    "    \n",
    "dictionary.filter_extremes(no_below=10, no_above=0.4)\n",
    "dictionary.compactify() \n",
    "\n",
    "dictionary.save(f'historymemes_pos_lda.dict')\n",
    "\n",
    "corpus = [dictionary.doc2bow(text) for text in lemmas_pos]\n",
    "\n",
    "%time\n",
    "lda_model = LdaModel(corpus=corpus,\n",
    "                id2word=dictionary,       \n",
    "                num_topics=5,            \n",
    "                random_state=100,         \n",
    "                passes=2,                 \n",
    "                per_word_topics=False)    \n",
    "\n",
    "\n"
   ]
  },
  {
   "cell_type": "code",
   "execution_count": 45,
   "metadata": {},
   "outputs": [
    {
     "name": "stderr",
     "output_type": "stream",
     "text": [
      "C:\\Users\\Jay Sahaym\\anaconda3\\lib\\site-packages\\pyLDAvis\\_prepare.py:246: FutureWarning: In a future version of pandas all arguments of DataFrame.drop except for the argument 'labels' will be keyword-only.\n",
      "  default_term_info = default_term_info.sort_values(\n"
     ]
    },
    {
     "data": {
      "text/html": [
       "\n",
       "<link rel=\"stylesheet\" type=\"text/css\" href=\"https://cdn.jsdelivr.net/gh/bmabey/pyLDAvis@3.3.1/pyLDAvis/js/ldavis.v1.0.0.css\">\n",
       "\n",
       "\n",
       "<div id=\"ldavis_el375221387770877761847354773\"></div>\n",
       "<script type=\"text/javascript\">\n",
       "\n",
       "var ldavis_el375221387770877761847354773_data = {\"mdsDat\": {\"x\": [0.00696396185780461, 0.1316049324545353, 0.1028414540564356, -0.3708732669401706, 0.12946291857139525], \"y\": [0.10989013630472433, 0.13628941514895934, 0.1280395664488815, -0.03313390973081112, -0.34108520817175425], \"topics\": [1, 2, 3, 4, 5], \"cluster\": [1, 1, 1, 1, 1], \"Freq\": [32.540895860355825, 24.488133738705134, 24.170856454625525, 9.407899524540028, 9.39221442177348]}, \"tinfo\": {\"Term\": [\"I\", \"\\u28ff\", \"r\", \"war\", \"https\", \"e\", \"com\", \"meme\", \"Germany\", \"think\", \"history\", \"like\", \"see\", \"german\", \"know\", \"fuck\", \"people\", \"slave\", \"yes\", \"www\", \"  \", \"win\", \"lose\", \"the\", \"comment\", \"post\", \"Empire\", \"tank\", \"country\", \"\\u2800\", \"love\", \"oh\", \"hear\", \"Jerusalem\", \"ass\", \"god\", \"guess\", \"sound\", \"laugh\", \"visit\", \"upvote\", \"reference\", \"school\", \"thank\", \"movie\", \"wow\", \"happy\", \"Laughs\", \"study\", \"confirm\", \"knowledge\", \"morning\", \"hero\", \"wish\", \"my\", \"game\", \"freedom\", \"your\", \"most\", \"mother\", \"fuck\", \"boy\", \"joke\", \"I\", \"explain\", \"sorry\", \"shit\", \"feel\", \"something\", \"sure\", \"think\", \"read\", \"see\", \"guy\", \"tell\", \"talk\", \"know\", \"like\", \"look\", \"someone\", \"\\u2019s\", \"say\", \"meme\", \"yeah\", \"good\", \"get\", \"go\", \"history\", \"mean\", \"really\", \"make\", \"bad\", \"one\", \"well\", \"people\", \"thing\", \"man\", \"time\", \"would\", \"be\", \"a\", \"right\", \"Germany\", \"invade\", \"India\", \"Russia\", \"Islam\", \"Poland\", \"native\", \"religion\", \"Belgium\", \"Paraguay\", \"November\", \"teacher\", \"Austria\", \"join\", \"peace\", \"travel\", \"treaty\", \"declare\", \"victory\", \"square\", \"Britain\", \"prepare\", \"winter\", \"oil\", \"outside\", \"translate\", \"invite\", \"John\", \"USSR\", \"Canada\", \"win\", \"war\", \"lose\", \"tank\", \"ally\", \"USA\", \"England\", \"East\", \"run\", \"United\", \"Italy\", \"France\", \"Germans\", \"attack\", \"Japan\", \"german\", \"America\", \"US\", \"fight\", \"the\", \"world\", \"would\", \"could\", \"country\", \"land\", \"end\", \"start\", \"take\", \"go\", \"even\", \"time\", \"give\", \"one\", \"make\", \"be\", \"get\", \"well\", \"org\", \"en\", \"wikipedia\", \"wiki\", \"x200B\", \"blood\", \"third\", \"technically\", \"except\", \"french\", \"Ireland\", \"flag\", \"cut\", \"Most\", \"white\", \"shotgun\", \"dutch\", \"male\", \"along\", \"train\", \"switch\", \"tbh\", \"complain\", \"anime\", \"truth\", \"Israel\", \"direct\", \"More\", \"law\", \"strong\", \"million\", \"000\", \"money\", \"open\", \"weapon\", \"machine\", \"anti\", \"black\", \"population\", \"gay\", \"death\", \"influence\", \"body\", \"government\", \"Jews\", \"pay\", \"use\", \"party\", \"people\", \"also\", \"the\", \"kill\", \"gun\", \"soldier\", \"country\", \"be\", \"a\", \"rule\", \"year\", \"one\", \"die\", \"many\", \"man\", \"well\", \"https\", \"like\", \"make\", \"time\", \"would\", \"still\", \"r\", \"e\", \"com\", \"www\", \"u\", \"reddit\", \"n\", \"F\", \"S\", \"l\", \"hot\", \"canadian\", \"g\", \"church\", \"ban\", \"k\", \"foot\", \"apparently\", \"N\", \"v\", \"imgur\", \"Christians\", \"wear\", \"star\", \"beautiful\", \"historymeme\", \"boat\", \"rock\", \"b\", \"bible\", \"D\", \"que\", \"jpg\", \"f\", \"sad\", \"hit\", \"internet\", \"https\", \"shoot\", \"comment\", \"yes\", \"watch\", \"  \", \"post\", \"source\", \"I\", \"\\u28ff\", \"Empire\", \"\\u2800\", \"Jesus\", \"slave\", \"\\ud83d\\ude02\", \"Muslims\", \"Brazil\", \"Rome\", \"empire\", \"repost\", \"christian\", \"Square\", \"Tiananmen\", \"religious\", \"Dutch\", \"Roman\", \"vs\", \"art\", \"shall\", \"intensifie\", \"step\", \"soon\", \"Argentina\", \"beach\", \"portuguese\", \"al\", \"cry\", \"Mussolini\", \"gold\", \"slavery\", \"race\", \"Australia\", \"prophet\", \"crime\", \"roman\", \"forget\", \"history\", \"meme\", \"China\", \"War\", \"state\", \"also\", \"post\"], \"Freq\": [18476.0, 2086.0, 1860.0, 3413.0, 1857.0, 1050.0, 992.0, 2131.0, 1380.0, 2427.0, 1796.0, 4098.0, 2091.0, 1371.0, 2583.0, 1341.0, 3103.0, 539.0, 1002.0, 521.0, 1803.0, 888.0, 897.0, 4741.0, 639.0, 826.0, 466.0, 852.0, 1816.0, 452.0, 607.3917269446817, 821.4318316560534, 489.95232048138627, 478.76759246515024, 294.2137671761533, 366.421732292066, 286.69971347430834, 310.34429566371523, 484.11695490337434, 273.5482178386184, 303.3323443608463, 320.91206549227024, 424.18855386746884, 650.9272788121056, 187.7654438142144, 211.15323741713397, 177.57193313986062, 170.16184391580666, 184.00474330683284, 165.4734371037966, 167.97847102860428, 162.8879933220236, 149.43261066306704, 144.16227505820024, 143.62388989925512, 359.4921357231114, 137.31671878318227, 132.99456471526716, 134.94286680857834, 129.07549719988495, 1319.6027267091542, 405.8047125566475, 812.8605428447827, 17614.097393349202, 190.55895701490462, 250.02158163129081, 1088.6705445262603, 375.6200494316642, 708.4010722605398, 788.7522803810126, 2255.2153451103536, 450.38142188405266, 1922.9110764508869, 999.7096254699039, 749.9101487861782, 526.3605466233832, 2189.061695497412, 3248.510161329935, 1196.5133662703092, 595.9266341113888, 939.4978774722866, 2033.4782818249644, 1647.3806184161988, 864.7773474358252, 1531.4702742101338, 2410.697279425556, 2315.123605864966, 1276.8068763746312, 1226.7276779638914, 978.8423923927675, 1751.913691788086, 810.852392565805, 1683.1528697959034, 1472.8371612222002, 1538.6820508146309, 938.4379627546202, 1006.648254911799, 1105.2746073313933, 1131.1549552320316, 941.6372421160839, 877.2006163126127, 823.9325976564454, 1379.2027354814666, 651.603417005862, 509.5680008444394, 570.3907088067073, 520.9642962717656, 397.9746902368803, 295.7706430084593, 265.9659943025186, 260.6993605932849, 302.3887847591522, 257.728996093829, 279.67626833290785, 219.64573454428879, 347.0605910935643, 214.83047082589525, 205.64410928332265, 196.38756065037438, 222.82654648038766, 178.0366124757975, 170.48504421897132, 514.536128012678, 162.06955353948402, 155.7366159572359, 204.66846644572158, 144.38819606143556, 147.06392439234983, 144.8829207285828, 139.1019177726899, 405.86917674550233, 377.18581396831286, 882.3026588222342, 3332.235607391153, 883.4690394686896, 838.9030341560533, 421.94374422085036, 384.1367101775939, 314.4968059041291, 271.36760318555156, 488.36525491645125, 336.2488845274112, 356.85474746996204, 806.2333178482893, 534.1908550558103, 399.6787924612692, 659.5344281217555, 1198.2435039411862, 767.5924949964741, 856.1592360987031, 881.8677460453561, 2196.3667657178203, 791.102308148144, 1514.5801678228217, 962.6763093024312, 968.3346637329272, 585.5634795003847, 612.1610042423703, 661.1205002483811, 910.5807708366431, 1164.0113280311768, 774.1636068432359, 874.2656840638737, 586.7129475949425, 658.9184209430184, 627.4822801513652, 611.8271114389429, 600.0191579935979, 587.2203892001513, 726.8344284802198, 701.9700831387171, 662.0190534682081, 623.5171416413236, 457.7638709364892, 315.39796254813587, 271.01020530872387, 271.1354381112932, 305.48970757489803, 454.7357475488568, 259.7420139134297, 361.3645327150945, 198.25495504394027, 198.64638379598532, 329.89341064927254, 184.47576730540948, 181.1686068708833, 167.36431478690028, 165.6139447978488, 165.1988884265546, 171.96052878573522, 142.76544308314348, 142.66403051628458, 140.70839558500595, 140.37776942923526, 137.5232737300664, 141.37297053050423, 134.8569001080716, 209.78842746051916, 145.50765943676345, 467.79591408883687, 239.64633850908598, 483.58137883658867, 221.41032688419293, 220.10409835208753, 183.53897714602073, 198.76617518352376, 408.5495304105628, 457.29709704534383, 201.36266113282088, 444.6368985871918, 191.18047344891292, 285.0181732491286, 537.5737954035328, 399.37973484709215, 373.24800529317355, 1099.8767193927565, 275.88815298491033, 1448.4727068902343, 1091.3909369860007, 1753.2060738272105, 696.6722957824481, 365.4998155221093, 404.8285335089971, 812.4519318710281, 1008.1294539439652, 841.4060383291987, 365.06193410015453, 673.5664103213702, 855.6257559660269, 477.60612728328806, 489.00809081093456, 583.8237685905074, 629.9222810334362, 550.3338654968536, 659.1097102316925, 609.0267978764106, 572.1719494098495, 564.1060708886633, 490.81746564262187, 1860.0082351812457, 1049.973512497434, 991.389375631185, 520.6974582318311, 413.4243484692471, 349.7743626674534, 300.04643991296354, 331.70897038474925, 311.6441731542072, 273.69871249436653, 270.6158998109104, 274.18732431008425, 239.66744431980783, 244.16173838437857, 235.97769039410858, 216.17819098658512, 219.42509047353983, 251.0243203249689, 209.21994588976693, 204.3356520299788, 201.91214791997658, 220.60501103814246, 185.58556095262747, 207.1841799460274, 173.37889973431314, 159.9757243422699, 151.18607209482957, 243.1526770149509, 141.98482836800756, 175.05397959293333, 267.5454323727981, 205.06722027329508, 231.13155683723582, 238.50224308619215, 232.03318458372104, 222.7936930876705, 229.6292604326803, 1305.9880109018718, 342.7377727444141, 401.1829381342309, 508.2932855832014, 329.2093081063551, 583.4139035780217, 398.3209154155796, 282.16180301400965, 819.9225644737953, 2085.1781012742313, 465.801457689818, 452.0841576467328, 350.5305310849889, 538.558683747888, 318.7797042761568, 319.21520896778696, 312.7295920666187, 274.19882841807794, 381.58800827849717, 260.2139534541785, 228.2567758602597, 200.18948894850533, 197.47037888140014, 195.9828369626469, 187.19560171697537, 173.4974498092492, 180.2695527538403, 170.89816839898978, 167.99247939992102, 159.59808655081278, 199.1395099900039, 158.65135783098637, 150.28539403756744, 153.38544596629617, 147.97681500281644, 162.85146078032136, 212.74833303955054, 132.90146932316787, 133.3624840713512, 395.8832950992517, 309.8649062733642, 188.89452158599423, 224.4718069803782, 319.4713074817411, 194.97558267098876, 408.60826017959687, 465.16127377670904, 483.1475975820662, 313.028053491113, 244.33594538386365, 235.36406473129736, 246.1699001488179, 201.5207521442767], \"Total\": [18476.0, 2086.0, 1860.0, 3413.0, 1857.0, 1050.0, 992.0, 2131.0, 1380.0, 2427.0, 1796.0, 4098.0, 2091.0, 1371.0, 2583.0, 1341.0, 3103.0, 539.0, 1002.0, 521.0, 1803.0, 888.0, 897.0, 4741.0, 639.0, 826.0, 466.0, 852.0, 1816.0, 452.0, 608.4120035771464, 822.8857915698468, 490.90433221219234, 480.0780329774362, 295.0715971664296, 367.4910254649623, 287.5663617870993, 311.29309136963116, 485.61528026282735, 274.4546359758641, 304.34852101594123, 322.0138408321329, 425.66083814019277, 653.5226222041335, 188.62335872560425, 212.15159777275352, 178.42548753540672, 171.016518506435, 184.9359899022251, 166.33159233390955, 168.87531307183008, 163.78065348918489, 150.2890132511006, 145.01247720072178, 144.47528404358548, 361.7002918102795, 138.19067362430658, 133.8655709352947, 135.83622459911, 129.94328173828507, 1341.500210133993, 409.06623190321375, 826.1071026133222, 18476.01696910765, 192.10138961648695, 252.75802583575634, 1118.5847581544294, 382.078435941422, 730.1210896980574, 820.5523278699847, 2427.2325918947677, 462.1724280628266, 2091.8012821977927, 1082.674151421803, 802.2468979232281, 560.1157283125103, 2583.90079139315, 4098.651177131265, 1396.6884498193685, 646.4981585053946, 1078.6394958033616, 2650.893828645614, 2131.6338806413055, 1024.3663325563193, 2058.0831354320344, 3613.8167219088937, 3680.6430799690584, 1796.0395170262548, 1734.8175962238456, 1334.8603802288808, 3176.871579911179, 1045.1125122947396, 3345.2729907156217, 2796.180584366143, 3103.2093167311236, 1474.6846978080587, 1790.5709762367032, 2721.3496595698166, 3228.5390964824373, 2694.9420858984968, 2319.5484209171377, 1263.1953614960025, 1380.7647747069266, 652.5679757675643, 510.40030338450026, 571.7112746805769, 522.1738111178863, 399.00150333054626, 296.5955672572365, 266.8070352165791, 261.52467922523584, 303.3543220095568, 258.62762216482577, 280.6845973766969, 220.46422715698233, 348.41965704119605, 215.70097980170945, 206.48861196525687, 197.2062298538916, 223.83262708827328, 178.87011117134668, 171.3181244777313, 517.0672478985755, 162.89023771587372, 156.5626729816917, 205.76060327313098, 145.21885390005733, 147.92410535498175, 145.73628722864999, 139.93549817942386, 408.3249600726441, 379.48599608847525, 888.3097385044998, 3413.1522308988865, 897.1271867664034, 852.0494939663388, 426.20644060255233, 387.6935374568422, 316.8077916499076, 273.1078256285699, 495.43981811194817, 339.9174174457956, 362.0383816334996, 838.3814933311265, 550.597256483975, 408.4313322940586, 693.8942087172604, 1371.8302622710937, 891.7283665357942, 1013.6379298061919, 1296.111594903367, 4741.442065901762, 1234.4864535149575, 3228.5390964824373, 1717.8063992265486, 1816.5865734463314, 819.3255871913515, 916.1279818189793, 1073.2603129203717, 2021.7375030829803, 3680.6430799690584, 1795.9402330592152, 2721.3496595698166, 1442.2329695802425, 3345.2729907156217, 3176.871579911179, 2694.9420858984968, 3613.8167219088937, 2796.180584366143, 727.667729056595, 702.814934936678, 662.8513176477381, 624.347952161446, 458.6713451082615, 316.2741785941708, 271.85755914833294, 271.9877570641058, 306.47714637410934, 456.2118066479286, 260.5969181812881, 362.69124706573285, 199.09195074856996, 199.49556241856675, 331.3692157450404, 185.3084377373376, 182.01666061053155, 168.21024895651772, 166.45274253985068, 166.04865204432937, 172.86355067837016, 143.60687035333643, 143.51199594367887, 141.54516895949183, 141.21545449563473, 138.35182507591395, 142.24456562385907, 135.6892957101151, 211.10185054658334, 146.42090388064597, 471.4937743066733, 241.3354342230356, 492.2825119986327, 224.23357801549804, 222.946981106147, 185.34169204447753, 201.36764733384047, 423.59165269103966, 476.10357336976745, 205.9428370074133, 496.27390317707193, 194.71379574673904, 306.7056285339524, 648.2922051355341, 461.19370562108196, 432.21757539758784, 1728.7526550530583, 305.66815657470244, 3103.2093167311236, 2259.106838476163, 4741.442065901762, 1243.2973310963764, 479.2965611284274, 572.7636817676803, 1816.5865734463314, 2694.9420858984968, 2319.5484209171377, 489.5033413095928, 1710.2949948280225, 3345.2729907156217, 908.9087547456859, 1039.5002906472348, 1790.5709762367032, 2796.180584366143, 1857.205121638229, 4098.651177131265, 3176.871579911179, 2721.3496595698166, 3228.5390964824373, 1388.4939553604256, 1860.8137940419922, 1050.7825944858835, 992.2067716436891, 521.5098665274669, 414.2377389252055, 350.586964305576, 300.85221506478496, 332.6231156126606, 312.53163580217847, 274.50317273598154, 271.43203142385016, 275.0235069237915, 240.47094799652248, 244.9913194167876, 236.7977837626267, 216.98284709389415, 220.2467562226828, 251.9825060539135, 210.02408598001793, 205.14141316560938, 202.72090570771417, 221.4944717624275, 186.4055128862933, 208.12629961477376, 174.25189092425634, 160.78183342473034, 152.00088940238186, 244.4644125069756, 142.7939025961623, 176.07746110875863, 269.4002135801795, 206.27048465833133, 233.20529471463757, 240.8052291075652, 234.4836368777041, 224.97441997506306, 233.70615497030636, 1857.205121638229, 423.340976239411, 639.2228393168627, 1002.6463229372665, 528.046027202473, 1803.8736936785497, 826.8445488133584, 415.8998388902196, 18476.01696910765, 2086.0021562615552, 466.64634705856975, 452.9083853571774, 351.38403671984923, 539.8808746575985, 319.6565035411701, 320.10308743791023, 313.63332714842113, 275.0405565681025, 382.80612244903085, 261.05167035843857, 229.12204477743515, 201.0261248438415, 198.30381933899488, 196.8354155604031, 188.04351544142332, 174.32900220257017, 181.15129832531616, 171.73754919985137, 168.8286246108449, 160.42829926551386, 200.19126938313119, 159.5018609689873, 151.1413624045413, 154.29408358396984, 148.85867983303947, 163.85097384451586, 214.0809176178849, 133.74294176962601, 134.21402445922163, 399.4144071800213, 312.52120691709786, 190.4199762667502, 227.01217349392732, 339.9517997392067, 203.05203068712902, 556.3008381606933, 1796.0395170262548, 2131.6338806413055, 871.3902293513383, 652.3199565381998, 641.1361068056733, 2259.106838476163, 826.8445488133584], \"Category\": [\"Default\", \"Default\", \"Default\", \"Default\", \"Default\", \"Default\", \"Default\", \"Default\", \"Default\", \"Default\", \"Default\", \"Default\", \"Default\", \"Default\", \"Default\", \"Default\", \"Default\", \"Default\", \"Default\", \"Default\", \"Default\", \"Default\", \"Default\", \"Default\", \"Default\", \"Default\", \"Default\", \"Default\", \"Default\", \"Default\", \"Topic1\", \"Topic1\", \"Topic1\", \"Topic1\", \"Topic1\", \"Topic1\", \"Topic1\", \"Topic1\", \"Topic1\", \"Topic1\", \"Topic1\", \"Topic1\", \"Topic1\", \"Topic1\", \"Topic1\", \"Topic1\", \"Topic1\", \"Topic1\", \"Topic1\", \"Topic1\", \"Topic1\", \"Topic1\", \"Topic1\", \"Topic1\", \"Topic1\", \"Topic1\", \"Topic1\", \"Topic1\", \"Topic1\", \"Topic1\", \"Topic1\", \"Topic1\", \"Topic1\", \"Topic1\", \"Topic1\", \"Topic1\", \"Topic1\", \"Topic1\", \"Topic1\", \"Topic1\", \"Topic1\", \"Topic1\", \"Topic1\", \"Topic1\", \"Topic1\", \"Topic1\", \"Topic1\", \"Topic1\", \"Topic1\", \"Topic1\", \"Topic1\", \"Topic1\", \"Topic1\", \"Topic1\", \"Topic1\", \"Topic1\", \"Topic1\", \"Topic1\", \"Topic1\", \"Topic1\", \"Topic1\", \"Topic1\", \"Topic1\", \"Topic1\", \"Topic1\", \"Topic1\", \"Topic1\", \"Topic1\", \"Topic1\", \"Topic1\", \"Topic1\", \"Topic1\", \"Topic2\", \"Topic2\", \"Topic2\", \"Topic2\", \"Topic2\", \"Topic2\", \"Topic2\", \"Topic2\", \"Topic2\", \"Topic2\", \"Topic2\", \"Topic2\", \"Topic2\", \"Topic2\", \"Topic2\", \"Topic2\", \"Topic2\", \"Topic2\", \"Topic2\", \"Topic2\", \"Topic2\", \"Topic2\", \"Topic2\", \"Topic2\", \"Topic2\", \"Topic2\", \"Topic2\", \"Topic2\", \"Topic2\", \"Topic2\", \"Topic2\", \"Topic2\", \"Topic2\", \"Topic2\", \"Topic2\", \"Topic2\", \"Topic2\", \"Topic2\", \"Topic2\", \"Topic2\", \"Topic2\", \"Topic2\", \"Topic2\", \"Topic2\", \"Topic2\", \"Topic2\", \"Topic2\", \"Topic2\", \"Topic2\", \"Topic2\", \"Topic2\", \"Topic2\", \"Topic2\", \"Topic2\", \"Topic2\", \"Topic2\", \"Topic2\", \"Topic2\", \"Topic2\", \"Topic2\", \"Topic2\", \"Topic2\", \"Topic2\", \"Topic2\", \"Topic2\", \"Topic2\", \"Topic2\", \"Topic3\", \"Topic3\", \"Topic3\", \"Topic3\", \"Topic3\", \"Topic3\", \"Topic3\", \"Topic3\", \"Topic3\", \"Topic3\", \"Topic3\", \"Topic3\", \"Topic3\", \"Topic3\", \"Topic3\", \"Topic3\", \"Topic3\", \"Topic3\", \"Topic3\", \"Topic3\", \"Topic3\", \"Topic3\", \"Topic3\", \"Topic3\", \"Topic3\", \"Topic3\", \"Topic3\", \"Topic3\", \"Topic3\", \"Topic3\", \"Topic3\", \"Topic3\", \"Topic3\", \"Topic3\", \"Topic3\", \"Topic3\", \"Topic3\", \"Topic3\", \"Topic3\", \"Topic3\", \"Topic3\", \"Topic3\", \"Topic3\", \"Topic3\", \"Topic3\", \"Topic3\", \"Topic3\", \"Topic3\", \"Topic3\", \"Topic3\", \"Topic3\", \"Topic3\", \"Topic3\", \"Topic3\", \"Topic3\", \"Topic3\", \"Topic3\", \"Topic3\", \"Topic3\", \"Topic3\", \"Topic3\", \"Topic3\", \"Topic3\", \"Topic3\", \"Topic3\", \"Topic3\", \"Topic3\", \"Topic3\", \"Topic3\", \"Topic3\", \"Topic4\", \"Topic4\", \"Topic4\", \"Topic4\", \"Topic4\", \"Topic4\", \"Topic4\", \"Topic4\", \"Topic4\", \"Topic4\", \"Topic4\", \"Topic4\", \"Topic4\", \"Topic4\", \"Topic4\", \"Topic4\", \"Topic4\", \"Topic4\", \"Topic4\", \"Topic4\", \"Topic4\", \"Topic4\", \"Topic4\", \"Topic4\", \"Topic4\", \"Topic4\", \"Topic4\", \"Topic4\", \"Topic4\", \"Topic4\", \"Topic4\", \"Topic4\", \"Topic4\", \"Topic4\", \"Topic4\", \"Topic4\", \"Topic4\", \"Topic4\", \"Topic4\", \"Topic4\", \"Topic4\", \"Topic4\", \"Topic4\", \"Topic4\", \"Topic4\", \"Topic4\", \"Topic5\", \"Topic5\", \"Topic5\", \"Topic5\", \"Topic5\", \"Topic5\", \"Topic5\", \"Topic5\", \"Topic5\", \"Topic5\", \"Topic5\", \"Topic5\", \"Topic5\", \"Topic5\", \"Topic5\", \"Topic5\", \"Topic5\", \"Topic5\", \"Topic5\", \"Topic5\", \"Topic5\", \"Topic5\", \"Topic5\", \"Topic5\", \"Topic5\", \"Topic5\", \"Topic5\", \"Topic5\", \"Topic5\", \"Topic5\", \"Topic5\", \"Topic5\", \"Topic5\", \"Topic5\", \"Topic5\", \"Topic5\", \"Topic5\", \"Topic5\", \"Topic5\", \"Topic5\", \"Topic5\", \"Topic5\", \"Topic5\", \"Topic5\"], \"logprob\": [30.0, 29.0, 28.0, 27.0, 26.0, 25.0, 24.0, 23.0, 22.0, 21.0, 20.0, 19.0, 18.0, 17.0, 16.0, 15.0, 14.0, 13.0, 12.0, 11.0, 10.0, 9.0, 8.0, 7.0, 6.0, 5.0, 4.0, 3.0, 2.0, 1.0, -5.7223, -5.4204, -5.9372, -5.9603, -6.4472, -6.2277, -6.4731, -6.3938, -5.9492, -6.52, -6.4167, -6.3603, -6.0813, -5.6531, -6.8963, -6.7789, -6.9521, -6.9947, -6.9165, -7.0227, -7.0077, -7.0384, -7.1246, -7.1606, -7.1643, -6.2468, -7.2092, -7.2412, -7.2266, -7.2711, -4.9464, -6.1256, -5.4309, -2.355, -6.8815, -6.6099, -5.1388, -6.2029, -5.5685, -5.461, -4.4105, -6.0214, -4.5699, -5.224, -5.5115, -5.8655, -4.4403, -4.0455, -5.0443, -5.7414, -5.2861, -4.514, -4.7245, -5.369, -4.7975, -4.3438, -4.3843, -4.9794, -5.0194, -5.2451, -4.663, -5.4334, -4.7031, -4.8365, -4.7928, -5.2873, -5.2171, -5.1236, -5.1005, -5.2839, -5.3548, -5.4174, -4.6179, -5.3677, -5.6136, -5.5009, -5.5915, -5.8608, -6.1576, -6.2638, -6.2838, -6.1355, -6.2953, -6.2135, -6.4552, -5.9977, -6.4773, -6.521, -6.5671, -6.4408, -6.6652, -6.7085, -5.6039, -6.7592, -6.799, -6.5258, -6.8747, -6.8563, -6.8713, -6.912, -5.8412, -5.9144, -5.0646, -3.7358, -5.0633, -5.1151, -5.8023, -5.8962, -6.0962, -6.2437, -5.6561, -6.0293, -5.9699, -5.1548, -5.5664, -5.8565, -5.3556, -4.7586, -5.2039, -5.0947, -5.0651, -4.1526, -5.1738, -4.5243, -4.9775, -4.9716, -5.4746, -5.4302, -5.3532, -5.0331, -4.7876, -5.1954, -5.0738, -5.4726, -5.3566, -5.4055, -5.4307, -5.4502, -5.4718, -5.2454, -5.2802, -5.3388, -5.3988, -5.7078, -6.0803, -6.232, -6.2315, -6.1122, -5.7144, -6.2745, -5.9443, -6.5446, -6.5426, -6.0354, -6.6166, -6.6347, -6.714, -6.7245, -6.727, -6.6869, -6.8729, -6.8736, -6.8875, -6.8898, -6.9103, -6.8827, -6.9299, -6.488, -6.8539, -5.6861, -6.355, -5.6529, -6.4341, -6.44, -6.6217, -6.542, -5.8215, -5.7088, -6.529, -5.7369, -6.5809, -6.1816, -5.5471, -5.8442, -5.9119, -4.8312, -6.2141, -4.5559, -4.8389, -4.3649, -5.2878, -5.9329, -5.8307, -5.1341, -4.9183, -5.0991, -5.9341, -5.3216, -5.0823, -5.6654, -5.6418, -5.4645, -5.3885, -5.5236, -5.3433, -5.4223, -5.4847, -5.4989, -5.6381, -3.3622, -3.934, -3.9914, -4.6354, -4.8661, -5.0333, -5.1866, -5.0863, -5.1487, -5.2785, -5.2898, -5.2767, -5.4113, -5.3927, -5.4268, -5.5144, -5.4995, -5.365, -5.5472, -5.5708, -5.5827, -5.4942, -5.667, -5.5569, -5.7351, -5.8155, -5.872, -5.3969, -5.9348, -5.7254, -5.3013, -5.5672, -5.4476, -5.4162, -5.4437, -5.4843, -5.4541, -3.7158, -5.0536, -4.8961, -4.6595, -5.0938, -4.5216, -4.9033, -5.2481, -4.1813, -3.2463, -4.7451, -4.775, -5.0294, -4.6, -5.1244, -5.123, -5.1435, -5.275, -4.9445, -5.3274, -5.4584, -5.5896, -5.6033, -5.6108, -5.6567, -5.7327, -5.6944, -5.7478, -5.765, -5.8162, -5.5949, -5.8222, -5.8763, -5.8559, -5.8918, -5.796, -5.5288, -5.9993, -5.9958, -4.9078, -5.1527, -5.6477, -5.4751, -5.1222, -5.616, -4.8761, -4.7465, -4.7086, -5.1426, -5.3903, -5.4277, -5.3829, -5.583], \"loglift\": [30.0, 29.0, 28.0, 27.0, 26.0, 25.0, 24.0, 23.0, 22.0, 21.0, 20.0, 19.0, 18.0, 17.0, 16.0, 15.0, 14.0, 13.0, 12.0, 11.0, 10.0, 9.0, 8.0, 7.0, 6.0, 5.0, 4.0, 3.0, 2.0, 1.0, 1.121, 1.1209, 1.1207, 1.1199, 1.1198, 1.1198, 1.1197, 1.1196, 1.1196, 1.1194, 1.1193, 1.1192, 1.1192, 1.1187, 1.1181, 1.118, 1.1179, 1.1177, 1.1176, 1.1175, 1.1173, 1.1172, 1.117, 1.1168, 1.1168, 1.1165, 1.1163, 1.1161, 1.1161, 1.116, 1.1062, 1.1147, 1.1065, 1.0749, 1.1146, 1.1118, 1.0956, 1.1056, 1.0925, 1.0831, 1.0492, 1.0968, 1.0385, 1.0429, 1.0552, 1.0605, 0.9568, 0.8902, 0.968, 1.0412, 0.9846, 0.8575, 0.865, 0.9533, 0.8271, 0.7178, 0.659, 0.7815, 0.7761, 0.8125, 0.5275, 0.8689, 0.4358, 0.4816, 0.4212, 0.6707, 0.5468, 0.2216, 0.0739, 0.0712, 0.1503, 0.6954, 1.4058, 1.4055, 1.4053, 1.4047, 1.4047, 1.4044, 1.4042, 1.4038, 1.4038, 1.4038, 1.4035, 1.4034, 1.4033, 1.4031, 1.4029, 1.4029, 1.4028, 1.4025, 1.4023, 1.4021, 1.4021, 1.4019, 1.4017, 1.4017, 1.4012, 1.4011, 1.4011, 1.401, 1.4009, 1.4009, 1.4002, 1.383, 1.3916, 1.3914, 1.3969, 1.3978, 1.3997, 1.4006, 1.3926, 1.3961, 1.3926, 1.3679, 1.3767, 1.3853, 1.3562, 1.2717, 1.2571, 1.2381, 1.0219, 0.6374, 0.962, 0.6501, 0.8279, 0.7778, 1.0711, 1.0038, 0.9225, 0.6094, 0.2558, 0.5655, 0.2715, 0.5076, -0.2177, -0.215, -0.0757, -0.3886, -0.1536, 1.4189, 1.4188, 1.4188, 1.4187, 1.418, 1.4172, 1.4169, 1.4169, 1.4168, 1.4168, 1.4167, 1.4164, 1.4158, 1.4158, 1.4156, 1.4155, 1.4154, 1.415, 1.415, 1.4149, 1.4148, 1.4141, 1.4141, 1.4141, 1.4141, 1.414, 1.4139, 1.4139, 1.4138, 1.4138, 1.4121, 1.413, 1.4022, 1.4074, 1.4072, 1.4102, 1.407, 1.3839, 1.3797, 1.3975, 1.3102, 1.4017, 1.3467, 1.2327, 1.2761, 1.2733, 0.9678, 1.3175, 0.6581, 0.6925, 0.4251, 0.8408, 1.149, 1.073, 0.6154, 0.4367, 0.406, 1.1267, 0.4882, 0.0566, 0.7766, 0.6659, 0.2993, -0.0704, 0.2037, -0.4075, -0.2318, -0.1394, -0.3245, 0.3801, 2.3632, 2.3629, 2.3628, 2.3621, 2.3617, 2.3613, 2.3609, 2.3609, 2.3608, 2.3607, 2.3606, 2.3606, 2.3603, 2.3602, 2.3602, 2.3599, 2.3599, 2.3598, 2.3598, 2.3597, 2.3596, 2.3596, 2.3592, 2.3591, 2.3586, 2.3586, 2.3582, 2.3582, 2.3579, 2.3578, 2.3567, 2.3578, 2.3547, 2.354, 2.3531, 2.3539, 2.346, 2.0115, 2.1524, 1.8978, 1.6843, 1.8911, 1.2348, 1.6333, 1.9757, -0.7514, 2.3649, 2.3635, 2.3635, 2.3629, 2.3628, 2.3625, 2.3625, 2.3624, 2.3622, 2.3621, 2.3621, 2.3615, 2.3611, 2.3611, 2.3609, 2.3608, 2.3605, 2.3604, 2.3604, 2.3603, 2.3601, 2.36, 2.3599, 2.3596, 2.3594, 2.3593, 2.3592, 2.359, 2.359, 2.3589, 2.3564, 2.3568, 2.3572, 2.354, 2.3032, 2.3247, 2.0567, 1.0143, 0.881, 1.3415, 1.3833, 1.3632, 0.1486, 0.9536]}, \"token.table\": {\"Topic\": [1, 2, 3, 4, 5, 3, 4, 1, 2, 3, 4, 5, 5, 2, 5, 2, 2, 5, 2, 3, 5, 2, 5, 1, 2, 3, 5, 4, 2, 4, 5, 2, 5, 5, 2, 3, 4, 4, 2, 3, 5, 2, 3, 2, 3, 1, 2, 3, 4, 5, 2, 3, 2, 3, 2, 3, 5, 1, 2, 3, 1, 5, 1, 2, 3, 4, 5, 2, 1, 3, 3, 5, 5, 4, 2, 2, 2, 5, 5, 2, 3, 4, 5, 5, 1, 2, 3, 1, 2, 3, 1, 2, 3, 2, 3, 1, 2, 3, 5, 1, 2, 3, 4, 5, 5, 2, 3, 3, 1, 2, 3, 4, 5, 3, 3, 4, 4, 5, 1, 2, 3, 4, 1, 2, 3, 4, 5, 4, 1, 2, 3, 4, 5, 5, 4, 4, 3, 5, 3, 4, 3, 4, 5, 1, 4, 5, 4, 5, 4, 4, 1, 4, 3, 1, 1, 2, 3, 4, 5, 1, 2, 3, 4, 5, 1, 5, 4, 5, 3, 1, 3, 2, 1, 2, 3, 4, 3, 3, 4, 5, 3, 1, 2, 3, 4, 5, 1, 2, 3, 4, 5, 3, 1, 2, 2, 4, 1, 2, 1, 2, 3, 5, 3, 4, 2, 3, 4, 5, 1, 2, 3, 1, 2, 3, 4, 4, 1, 2, 3, 4, 1, 2, 3, 1, 2, 3, 4, 5, 1, 2, 3, 4, 5, 1, 2, 3, 4, 5, 1, 5, 1, 2, 3, 4, 5, 1, 2, 3, 4, 5, 1, 1, 2, 3, 4, 1, 3, 4, 1, 1, 1, 1, 2, 3, 4, 5, 4, 1, 4, 4, 3, 4, 4, 2, 3, 5, 5, 1, 4, 2, 2, 2, 3, 1, 3, 4, 5, 3, 4, 4, 1, 2, 3, 1, 2, 3, 4, 5, 1, 4, 1, 2, 3, 4, 5, 1, 3, 3, 5, 1, 2, 3, 4, 5, 1, 2, 3, 4, 5, 1, 2, 3, 1, 3, 5, 1, 2, 3, 4, 5, 3, 1, 2, 3, 4, 5, 1, 2, 3, 4, 5, 1, 2, 3, 4, 5, 1, 4, 5, 1, 2, 3, 2, 3, 5, 1, 1, 1, 1, 1, 4, 2, 1, 4, 2, 1, 2, 3, 4, 5, 1, 3, 4, 3, 2, 1, 2, 3, 5, 1, 2, 3, 4, 2, 1, 2, 3, 4, 5, 2, 3, 5, 5, 1, 2, 4, 5, 2, 1, 3, 4, 5, 2, 4, 4, 3, 5, 1, 2, 3, 5, 1, 2, 3, 4, 5, 4, 1, 2, 5, 5, 1, 2, 3, 4, 5, 4, 1, 3, 5, 3, 5, 1, 2, 3, 4, 1, 2, 4, 1, 2, 3, 4, 5, 1, 2, 1, 2, 3, 4, 5, 5, 1, 2, 3, 4, 1, 2, 3, 4, 3, 3, 5, 3, 5, 1, 2, 3, 4, 1, 2, 3, 4, 5, 1, 2, 3, 4, 5, 5, 1, 4, 1, 1, 2, 3, 4, 2, 4, 1, 2, 3, 4, 5, 1, 2, 3, 5, 5, 1, 2, 3, 4, 5, 3, 1, 1, 2, 3, 4, 5, 3, 1, 2, 3, 4, 1, 2, 3, 4, 2, 3, 4, 3, 2, 3, 1, 2, 3, 4, 1, 2, 3, 1, 2, 3, 4, 5, 1, 2, 3, 4, 5, 1, 2, 3, 4, 5, 3, 1, 2, 3, 4, 5, 3, 2, 2, 2, 3, 4, 1, 1, 2, 3, 4, 5, 4, 2, 1, 5, 1, 2, 3, 4, 5, 1, 4, 1, 3, 4, 1, 2, 3, 4, 5, 1, 3, 3, 3, 1, 2, 3, 2, 1, 1, 2, 3, 5, 1, 2, 3, 4, 5, 1, 4, 3, 1, 2, 3, 4, 5, 1, 2, 3, 4, 5, 1, 2, 3, 4, 5, 1, 1, 2, 4, 5, 5, 5, 5], \"Freq\": [0.30157322095575767, 0.1785047374039595, 0.15300406063196528, 0.3231933599581006, 0.04324027800468584, 0.9944664809486641, 0.0041436103372861, 0.010092759564174679, 0.8612488161429059, 0.10541326655915775, 0.001121417729352742, 0.02242835458705484, 0.9924483782176956, 0.005251549861549966, 0.9925429238329437, 0.997894319804311, 0.9979937678279917, 0.9979806764983192, 0.9960019747779867, 0.003867968834089269, 0.0019339844170446344, 0.9934490439328474, 0.005270286705214044, 0.07918381188570763, 0.3970666509051426, 0.16410558115443755, 0.3591961321771955, 0.9977675661225628, 0.0037119495441765033, 0.9948024778393029, 0.9944506704260782, 0.9922820753168875, 0.00366155747349405, 0.9986149102791785, 0.9911372392854202, 0.0031564880232019753, 0.0031564880232019753, 0.9981266617279052, 0.9613761830518638, 0.03578323261979642, 0.002385548841319761, 0.9698559041322465, 0.029059352932801392, 0.9987218860596286, 0.000724236320565358, 0.953344004254328, 0.0014072297099246352, 0.0003788695372874018, 0.044381860082238496, 0.00048711797651237375, 0.999215707001258, 0.9977094196452743, 0.9977520681947388, 0.997457026130874, 0.9860832942331509, 0.005524276158168913, 0.005524276158168913, 0.03170512121821771, 0.9511536365465312, 0.017293702482664205, 0.9977544630177093, 0.9989070740849977, 0.07805830730391125, 0.008673145255990139, 0.8651462392850164, 0.008673145255990139, 0.039029153651955625, 0.9933147900883279, 0.9940560215158587, 0.9949200435708083, 0.9975159225971804, 0.996553961891654, 0.9944450020330363, 0.9951239593533316, 0.9975732593464987, 0.9955355110796339, 0.9974899760472417, 0.9923764710072402, 0.996216715886972, 0.9970067501615513, 0.0017491346494062305, 0.9982989376393404, 0.9948955647200651, 0.9934251425749595, 0.001973091121779945, 0.8444830001218163, 0.15291456193794573, 0.007738070692844495, 0.9904730486840954, 0.0025793568976148315, 0.0024490298115062386, 0.9943061034715329, 0.0024490298115062386, 0.9884753847707134, 0.008825673078309941, 0.0015329900457237355, 0.5058867150888327, 0.11804023352072762, 0.37404957115659143, 0.3780908353071753, 0.1047617707863667, 0.3625705729684543, 0.08018802208339179, 0.0737212461089247, 0.994806415704777, 0.9901305090636231, 0.009385123308659935, 0.9972800535879288, 0.14519012311132928, 0.23327803316972726, 0.48293422047091544, 0.029215085748011384, 0.10889259233349698, 0.9961484453090176, 0.988242166181168, 0.009932082072172542, 0.9961008957752674, 0.9957053701809085, 0.9963683486424306, 0.9793567935968529, 0.019587135871937056, 0.9944402206135682, 0.7759930059772207, 0.15213672990182256, 0.0440143998458103, 0.0009568347792567456, 0.026791373819188877, 0.996630949200832, 0.34954368961362525, 0.22709207860248265, 0.3740340118158538, 0.014842619516502134, 0.03450909037586746, 0.9916128761783302, 0.9928156250264135, 0.993880755083735, 0.9655525490213507, 0.033050698499508334, 0.9959712847889307, 0.9934152398297337, 0.9292297678470887, 0.055427740538247394, 0.016302276628896294, 0.9925043143039506, 0.0048891838143051754, 0.0024445919071525877, 0.9962784747557047, 0.9951028510655747, 0.9959536549329687, 0.9987837498410841, 0.37076272220385903, 0.6273242683702425, 0.9964323822527017, 0.9919943510717051, 0.25148352002560376, 0.560598680057075, 0.1792984355738101, 0.0011642755556740914, 0.007567791111881594, 0.009908693735334264, 0.5328675297668648, 0.44699218406063457, 0.000550482985296348, 0.008807727764741568, 0.058831869739601195, 0.938368322346639, 0.004671130949582857, 0.9949508922611485, 0.9945153445708663, 0.1027658308718342, 0.8966822497640436, 0.9962801352997348, 0.41038222819667525, 0.04290859758624754, 0.5259053755442648, 0.019803968116729638, 0.9912505225180264, 0.9944144639994965, 0.999255227018424, 0.9978941756629345, 0.9988404700922421, 0.22158476111267983, 0.6680289349800987, 0.09496489761971992, 0.0010915505473531025, 0.014190157115590333, 0.40702913523731815, 0.4309720255453957, 0.11358952611273995, 0.0022272456100537246, 0.045658535006101356, 0.9951802397288501, 0.9942666233769273, 0.005205584415586007, 0.008305467482629378, 0.9925033641742106, 0.9840911305909085, 0.01570358187113152, 0.050921541215685755, 0.680496959882346, 0.26695232213071624, 0.001543077006535932, 0.9953369509757528, 0.9943392754378537, 0.2534599812327996, 0.0017975885193815574, 0.008987942596907788, 0.735213704427057, 0.9913838351526991, 0.0021919643144433744, 0.9973437630717352, 0.983973010237661, 0.003727170493324474, 0.005218038690654263, 0.007454340986648948, 0.998041559695896, 0.9925344494560268, 0.0027647199149192945, 0.9759989855474538, 0.01942286538402893, 0.005102672096190205, 0.8732858816051235, 0.12100622399536771, 0.6671616702040327, 0.16602944924198243, 0.09795737505276964, 0.0636446222094266, 0.005257599225996111, 0.41810166090954176, 0.4070077528257065, 0.15323460540797468, 0.0006933692552397044, 0.021494446912430836, 0.6289661751227075, 0.3162490833014391, 0.02200702383798674, 0.01657319079157026, 0.016029807486928612, 0.9959426887688595, 0.9909545633244126, 0.7438960912910894, 0.008746002379647034, 0.19435560843660074, 0.0014576670632745056, 0.05101834721460769, 0.020052685960156157, 0.1449963446349753, 0.8298726958895394, 0.0015425143046273967, 0.0030850286092547934, 0.9980305005648796, 0.002086390934342736, 0.029209473080798305, 0.7615326910350987, 0.20655270249993088, 0.923638934841815, 0.06650200330861068, 0.010160028283259966, 0.9976153208754871, 0.9981578239325836, 0.9914231039034973, 0.7110088547017936, 0.019487321781176802, 0.009465270579428732, 0.0011135612446386744, 0.2589029893784918, 0.9951373024670953, 0.004444949786339458, 0.9912238023536991, 0.9984083255701847, 0.2961439173260778, 0.703207192777923, 0.9964438511894103, 0.005135742930617424, 0.9809268997479279, 0.010271485861234848, 0.9973302760954599, 0.012836632395844117, 0.9841418170147156, 0.9991296297264721, 0.9949478112647758, 0.9959254393014106, 0.0028701021305516158, 0.9841338942954745, 0.0024209935899027666, 0.010894471154562449, 0.0012104967949513833, 0.004288067306634925, 0.9905435478326678, 0.9954703926736252, 0.4005477913805613, 0.038607016036680604, 0.5606060453659663, 0.8471687486189309, 0.05379463501965801, 0.028638870442120094, 0.0661790114270613, 0.0042571293900448785, 0.9948168085914502, 0.9981669693251033, 0.015866708184427643, 0.7152223843134307, 0.2660724910927097, 0.0024410320283734833, 0.0012205160141867417, 0.9966737449819266, 0.0020592432747560466, 0.9947804789786048, 0.004737049899898118, 0.7926998077143138, 0.026350132112387164, 0.16078460242651055, 0.011711169827727628, 0.008539394666051395, 0.857027206142362, 0.02076339931339056, 0.09952112084694095, 0.02219535788672784, 0.0014319585733372799, 0.007802684060028024, 0.9842528607149637, 0.00668801490859545, 0.9976791983576186, 0.9927609809229779, 0.005395440113711836, 0.5514859370075587, 0.19736397403181466, 0.19169802262420277, 0.007554601876815873, 0.05162311282490846, 0.9928051413987826, 0.562390440459636, 0.0564065883678483, 0.32615294660221195, 0.05473114514900132, 0.0005584810729489931, 0.3030302183021693, 0.224146161474303, 0.4704183388881295, 0.0009620006930227597, 0.0019240013860455194, 0.7072789685041209, 0.1175916133454284, 0.13430806818374913, 0.009799301112119034, 0.03112719176790752, 0.7726467546596216, 0.00046912371260450617, 0.22658675318797647, 0.0021209187787696445, 0.0063627563363089345, 0.9925899884641938, 0.008125415594716698, 0.9831752869607204, 0.008125415594716698, 0.995233542713661, 0.9938438763181329, 0.9927408194893453, 0.9966952198825435, 0.9967102743785429, 0.9971673299310712, 0.9979919886775652, 0.997708319199133, 0.0012152354679648392, 0.9963034552726241, 0.5030979548368554, 0.19699438635620184, 0.25588345177679633, 0.03198543147209954, 0.012256099909869917, 0.004459635389356738, 0.985579421047839, 0.008919270778713476, 0.9990823709367176, 0.9916067792347668, 0.00981456502900991, 0.0032715216763366363, 0.9029399826689117, 0.08505956358475254, 0.09948693076732293, 0.037018392843655046, 0.8629912831677082, 0.0023136495527284404, 0.9967502243042482, 0.4959381862197941, 0.031257962354334, 0.46661370607294467, 0.0016112351729038145, 0.00451145848413068, 0.037806899605057655, 0.9598751733061861, 0.002100383311392092, 0.9942315769963661, 0.2733282819900581, 0.0012094171769471598, 0.4813480364249696, 0.24430226974332628, 0.9945347386782838, 0.004405050110789545, 0.004405050110789545, 0.004405050110789545, 0.9867312248168582, 0.004848003346947145, 0.9938406861241648, 0.9995626676647617, 0.0063995657118095595, 0.9919326853304817, 0.9736625827857218, 0.0021636946284127154, 0.017309557027301723, 0.006491083885238146, 0.7334100363606091, 0.10487988262562337, 0.13859127346957373, 0.0014982840375089054, 0.022474260562633578, 0.9983257668842919, 0.9968515613194979, 0.9969752101329562, 0.9957557660138313, 0.995971409196522, 0.6523139849279819, 0.06174816847619246, 0.1440790597777824, 0.027707511495727383, 0.11478826191087059, 0.9940097108942848, 0.029549076557845652, 0.004924846092974275, 0.9603449881299837, 0.7456537457405239, 0.25331798485431495, 0.002018408620871169, 0.9849834069851303, 0.008073634483484676, 0.002018408620871169, 0.004264689908923385, 0.004264689908923385, 0.9894080588702253, 0.7669111369272354, 0.19993256398004663, 0.00905355006702098, 0.01886156263962704, 0.005281237539095571, 0.996098212493662, 0.002349288237013354, 0.9193033852525234, 0.0043025119434595485, 0.020556445952084508, 0.04398123319980871, 0.011473365182558795, 0.9950919187267271, 0.9735516169527987, 0.009833854716694936, 0.01519777547125581, 0.0017879735848536247, 0.011810810388390946, 0.12047026596158764, 0.056691889864276535, 0.8102215926436188, 0.9929391356739393, 0.0018522604651150438, 0.9983683906970086, 0.007510995963267445, 0.9914514671513028, 0.022696969821618253, 0.26014219257085536, 0.707097905981184, 0.010475524533054578, 0.9218897102164395, 0.017014742973793347, 0.00928076889479637, 0.05104422892138004, 0.001546794815799395, 0.9697021630929664, 0.01780526570650927, 0.008217814941465817, 0.0027392716471552722, 0.0013696358235776361, 0.9968535729555853, 0.9890882759246248, 0.007912706207396997, 0.9958460646719084, 0.19956728096234866, 0.01202212535917763, 0.11060355330443421, 0.6780478702576184, 0.9923059834927003, 0.9945883839915549, 0.2907030067580149, 0.6158804085482303, 0.06894879006440097, 0.009317404062756888, 0.01490784650041102, 0.006238924867184854, 0.15285365924602892, 0.4725985586892527, 0.3665368359471102, 0.9940493439758789, 0.3492993240104553, 0.2549524962880437, 0.35362055276110016, 0.0014404095835482693, 0.04105167313112568, 0.9971253839479842, 0.9949388439604431, 0.9615474518829419, 0.01949906112817119, 0.017061678487149793, 0.0012186913205106994, 0.0012186913205106994, 0.9950044374595957, 0.3581078151322616, 0.45060251323962747, 0.1553119529717267, 0.03561293189160612, 0.9390916437656687, 0.012497417312470876, 0.04641897858917754, 0.0017853453303529822, 0.9846845822235131, 0.010562766674626481, 0.004694562966500658, 0.9957740855166382, 0.9975609727676716, 0.9963683767432482, 0.9348742911210012, 0.006232495274140008, 0.008725493383796011, 0.051106461247948064, 0.9961399619256859, 0.0015301689123282426, 0.0030603378246564852, 0.12274746625830826, 0.46315023351073015, 0.3697187428708151, 0.012865284264186948, 0.031425038612522216, 0.6360681719924429, 0.07933899373466506, 0.2353045369737502, 0.03187121970537827, 0.016952776439030995, 0.929041579093037, 0.03625528113533803, 0.03131137916233739, 0.0004119918310833867, 0.002883942817583707, 0.9968455570960782, 0.4060485193860297, 0.32116416827456107, 0.21018982179982715, 0.015433518383903392, 0.04666801987513645, 0.9936846699360774, 0.9937528413454716, 0.9976337098660962, 0.9938834089836548, 0.9913929073841398, 0.9970120083012789, 0.9955691553504523, 0.30773633142080237, 0.01503974552056553, 0.6362969258700801, 0.007519872760282765, 0.03355020154587695, 0.9944359690810557, 0.9951355138896674, 0.9983434931814958, 0.9936445483087367, 0.004101780129599717, 0.9762236708447328, 0.017872041993255913, 0.0002929842949714084, 0.001464921474857042, 0.37496731307492487, 0.6230517474830822, 0.008970742685444942, 0.9867816953989437, 0.9978245660226762, 0.5267900107152448, 0.20992921676160808, 0.225307336558455, 0.0035763069294992857, 0.03433254652319314, 0.003017781835140089, 0.9958680055962293, 0.9994426951185771, 0.9987156732964503, 0.0033772003952704647, 0.9928969162095167, 0.0022514669301803097, 0.9964060847264821, 0.9930179994144894, 0.14256940568191298, 0.640752272127234, 0.20413346722637543, 0.012150801620617584, 0.3503132426775469, 0.4692524868757591, 0.17469201491612418, 0.003716851381194131, 0.0018584256905970656, 0.9945718166403485, 0.9990223262105051, 0.9985363264668233, 0.8444244724847423, 0.04978687641239521, 0.1015261793507667, 0.0039048530519525653, 0.0009762132629881413, 0.262527810323826, 0.2736370049700458, 0.39408406271327107, 0.010524500191155606, 0.059638834416548436, 0.2752715426028334, 0.1605750665183195, 0.008976245954440219, 0.5066592160950701, 0.04887067241861897, 0.9935340287331006, 0.8705410877808074, 0.0009270938102032027, 0.04913597194076975, 0.07880297386727224, 0.9979943286842415, 0.9995195804287417, 0.9979462218540924], \"Term\": [\"  \", \"  \", \"  \", \"  \", \"  \", \"000\", \"000\", \"America\", \"America\", \"America\", \"America\", \"America\", \"Argentina\", \"Australia\", \"Australia\", \"Austria\", \"Belgium\", \"Brazil\", \"Britain\", \"Britain\", \"Britain\", \"Canada\", \"Canada\", \"China\", \"China\", \"China\", \"China\", \"Christians\", \"D\", \"D\", \"Dutch\", \"East\", \"East\", \"Empire\", \"England\", \"England\", \"England\", \"F\", \"France\", \"France\", \"France\", \"Germans\", \"Germans\", \"Germany\", \"Germany\", \"I\", \"I\", \"I\", \"I\", \"I\", \"India\", \"Ireland\", \"Islam\", \"Israel\", \"Italy\", \"Italy\", \"Italy\", \"Japan\", \"Japan\", \"Japan\", \"Jerusalem\", \"Jesus\", \"Jews\", \"Jews\", \"Jews\", \"Jews\", \"Jews\", \"John\", \"Laughs\", \"More\", \"Most\", \"Muslims\", \"Mussolini\", \"N\", \"November\", \"Paraguay\", \"Poland\", \"Roman\", \"Rome\", \"Russia\", \"Russia\", \"S\", \"Square\", \"Tiananmen\", \"US\", \"US\", \"US\", \"USA\", \"USA\", \"USA\", \"USSR\", \"USSR\", \"USSR\", \"United\", \"United\", \"War\", \"War\", \"War\", \"War\", \"a\", \"a\", \"a\", \"a\", \"a\", \"al\", \"ally\", \"ally\", \"along\", \"also\", \"also\", \"also\", \"also\", \"also\", \"anime\", \"anti\", \"anti\", \"apparently\", \"art\", \"ass\", \"attack\", \"attack\", \"b\", \"bad\", \"bad\", \"bad\", \"bad\", \"bad\", \"ban\", \"be\", \"be\", \"be\", \"be\", \"be\", \"beach\", \"beautiful\", \"bible\", \"black\", \"black\", \"blood\", \"boat\", \"body\", \"body\", \"body\", \"boy\", \"boy\", \"boy\", \"canadian\", \"christian\", \"church\", \"com\", \"comment\", \"comment\", \"complain\", \"confirm\", \"could\", \"could\", \"could\", \"could\", \"could\", \"country\", \"country\", \"country\", \"country\", \"country\", \"crime\", \"crime\", \"cry\", \"cry\", \"cut\", \"death\", \"death\", \"declare\", \"die\", \"die\", \"die\", \"die\", \"direct\", \"dutch\", \"e\", \"empire\", \"en\", \"end\", \"end\", \"end\", \"end\", \"end\", \"even\", \"even\", \"even\", \"even\", \"even\", \"except\", \"explain\", \"explain\", \"f\", \"f\", \"feel\", \"feel\", \"fight\", \"fight\", \"fight\", \"fight\", \"flag\", \"foot\", \"forget\", \"forget\", \"forget\", \"forget\", \"freedom\", \"french\", \"french\", \"fuck\", \"fuck\", \"fuck\", \"fuck\", \"g\", \"game\", \"game\", \"gay\", \"gay\", \"german\", \"german\", \"german\", \"get\", \"get\", \"get\", \"get\", \"get\", \"give\", \"give\", \"give\", \"give\", \"give\", \"go\", \"go\", \"go\", \"go\", \"go\", \"god\", \"gold\", \"good\", \"good\", \"good\", \"good\", \"good\", \"government\", \"government\", \"government\", \"government\", \"government\", \"guess\", \"gun\", \"gun\", \"gun\", \"gun\", \"guy\", \"guy\", \"guy\", \"happy\", \"hear\", \"hero\", \"history\", \"history\", \"history\", \"history\", \"history\", \"historymeme\", \"hit\", \"hit\", \"hot\", \"https\", \"https\", \"imgur\", \"influence\", \"influence\", \"influence\", \"intensifie\", \"internet\", \"internet\", \"invade\", \"invite\", \"join\", \"join\", \"joke\", \"joke\", \"joke\", \"joke\", \"jpg\", \"jpg\", \"k\", \"kill\", \"kill\", \"kill\", \"know\", \"know\", \"know\", \"know\", \"know\", \"knowledge\", \"l\", \"land\", \"land\", \"land\", \"land\", \"land\", \"laugh\", \"laugh\", \"law\", \"law\", \"like\", \"like\", \"like\", \"like\", \"like\", \"look\", \"look\", \"look\", \"look\", \"look\", \"lose\", \"lose\", \"lose\", \"love\", \"machine\", \"machine\", \"make\", \"make\", \"make\", \"make\", \"make\", \"male\", \"man\", \"man\", \"man\", \"man\", \"man\", \"many\", \"many\", \"many\", \"many\", \"many\", \"mean\", \"mean\", \"mean\", \"mean\", \"mean\", \"meme\", \"meme\", \"meme\", \"million\", \"million\", \"million\", \"money\", \"money\", \"money\", \"morning\", \"most\", \"mother\", \"movie\", \"my\", \"n\", \"native\", \"oh\", \"oh\", \"oil\", \"one\", \"one\", \"one\", \"one\", \"one\", \"open\", \"open\", \"open\", \"org\", \"outside\", \"party\", \"party\", \"party\", \"party\", \"pay\", \"pay\", \"pay\", \"pay\", \"peace\", \"people\", \"people\", \"people\", \"people\", \"people\", \"population\", \"population\", \"population\", \"portuguese\", \"post\", \"post\", \"post\", \"post\", \"prepare\", \"prophet\", \"prophet\", \"prophet\", \"prophet\", \"que\", \"que\", \"r\", \"race\", \"race\", \"read\", \"read\", \"read\", \"read\", \"really\", \"really\", \"really\", \"really\", \"really\", \"reddit\", \"reference\", \"religion\", \"religious\", \"repost\", \"right\", \"right\", \"right\", \"right\", \"right\", \"rock\", \"roman\", \"roman\", \"roman\", \"rule\", \"rule\", \"run\", \"run\", \"run\", \"run\", \"sad\", \"sad\", \"sad\", \"say\", \"say\", \"say\", \"say\", \"say\", \"school\", \"school\", \"see\", \"see\", \"see\", \"see\", \"see\", \"shall\", \"shit\", \"shit\", \"shit\", \"shit\", \"shoot\", \"shoot\", \"shoot\", \"shoot\", \"shotgun\", \"slave\", \"slave\", \"slavery\", \"slavery\", \"soldier\", \"soldier\", \"soldier\", \"soldier\", \"someone\", \"someone\", \"someone\", \"someone\", \"someone\", \"something\", \"something\", \"something\", \"something\", \"something\", \"soon\", \"sorry\", \"sorry\", \"sound\", \"source\", \"source\", \"source\", \"source\", \"square\", \"star\", \"start\", \"start\", \"start\", \"start\", \"start\", \"state\", \"state\", \"state\", \"state\", \"step\", \"still\", \"still\", \"still\", \"still\", \"still\", \"strong\", \"study\", \"sure\", \"sure\", \"sure\", \"sure\", \"sure\", \"switch\", \"take\", \"take\", \"take\", \"take\", \"talk\", \"talk\", \"talk\", \"talk\", \"tank\", \"tank\", \"tank\", \"tbh\", \"teacher\", \"technically\", \"tell\", \"tell\", \"tell\", \"tell\", \"thank\", \"thank\", \"thank\", \"the\", \"the\", \"the\", \"the\", \"the\", \"thing\", \"thing\", \"thing\", \"thing\", \"thing\", \"think\", \"think\", \"think\", \"think\", \"think\", \"third\", \"time\", \"time\", \"time\", \"time\", \"time\", \"train\", \"translate\", \"travel\", \"treaty\", \"truth\", \"u\", \"upvote\", \"use\", \"use\", \"use\", \"use\", \"use\", \"v\", \"victory\", \"visit\", \"vs\", \"war\", \"war\", \"war\", \"war\", \"war\", \"watch\", \"watch\", \"weapon\", \"weapon\", \"wear\", \"well\", \"well\", \"well\", \"well\", \"well\", \"white\", \"white\", \"wiki\", \"wikipedia\", \"win\", \"win\", \"win\", \"winter\", \"wish\", \"world\", \"world\", \"world\", \"world\", \"would\", \"would\", \"would\", \"would\", \"would\", \"wow\", \"www\", \"x200B\", \"yeah\", \"yeah\", \"yeah\", \"yeah\", \"yeah\", \"year\", \"year\", \"year\", \"year\", \"year\", \"yes\", \"yes\", \"yes\", \"yes\", \"yes\", \"your\", \"\\u2019s\", \"\\u2019s\", \"\\u2019s\", \"\\u2019s\", \"\\u2800\", \"\\u28ff\", \"\\ud83d\\ude02\"]}, \"R\": 30, \"lambda.step\": 0.01, \"plot.opts\": {\"xlab\": \"PC1\", \"ylab\": \"PC2\"}, \"topic.order\": [3, 4, 2, 1, 5]};\n",
       "\n",
       "function LDAvis_load_lib(url, callback){\n",
       "  var s = document.createElement('script');\n",
       "  s.src = url;\n",
       "  s.async = true;\n",
       "  s.onreadystatechange = s.onload = callback;\n",
       "  s.onerror = function(){console.warn(\"failed to load library \" + url);};\n",
       "  document.getElementsByTagName(\"head\")[0].appendChild(s);\n",
       "}\n",
       "\n",
       "if(typeof(LDAvis) !== \"undefined\"){\n",
       "   // already loaded: just create the visualization\n",
       "   !function(LDAvis){\n",
       "       new LDAvis(\"#\" + \"ldavis_el375221387770877761847354773\", ldavis_el375221387770877761847354773_data);\n",
       "   }(LDAvis);\n",
       "}else if(typeof define === \"function\" && define.amd){\n",
       "   // require.js is available: use it to load d3/LDAvis\n",
       "   require.config({paths: {d3: \"https://d3js.org/d3.v5\"}});\n",
       "   require([\"d3\"], function(d3){\n",
       "      window.d3 = d3;\n",
       "      LDAvis_load_lib(\"https://cdn.jsdelivr.net/gh/bmabey/pyLDAvis@3.3.1/pyLDAvis/js/ldavis.v3.0.0.js\", function(){\n",
       "        new LDAvis(\"#\" + \"ldavis_el375221387770877761847354773\", ldavis_el375221387770877761847354773_data);\n",
       "      });\n",
       "    });\n",
       "}else{\n",
       "    // require.js not available: dynamically load d3 & LDAvis\n",
       "    LDAvis_load_lib(\"https://d3js.org/d3.v5.js\", function(){\n",
       "         LDAvis_load_lib(\"https://cdn.jsdelivr.net/gh/bmabey/pyLDAvis@3.3.1/pyLDAvis/js/ldavis.v3.0.0.js\", function(){\n",
       "                 new LDAvis(\"#\" + \"ldavis_el375221387770877761847354773\", ldavis_el375221387770877761847354773_data);\n",
       "            })\n",
       "         });\n",
       "}\n",
       "</script>"
      ],
      "text/plain": [
       "PreparedData(topic_coordinates=              x         y  topics  cluster       Freq\n",
       "topic                                                \n",
       "2      0.006964  0.109890       1        1  32.540896\n",
       "3      0.131605  0.136289       2        1  24.488134\n",
       "1      0.102841  0.128040       3        1  24.170856\n",
       "0     -0.370873 -0.033134       4        1   9.407900\n",
       "4      0.129463 -0.341085       5        1   9.392214, topic_info=       Term          Freq         Total Category  logprob  loglift\n",
       "42        I  18476.000000  18476.000000  Default  30.0000  30.0000\n",
       "4721      ⣿   2086.000000   2086.000000  Default  29.0000  29.0000\n",
       "455       r   1860.000000   1860.000000  Default  28.0000  28.0000\n",
       "61      war   3413.000000   3413.000000  Default  27.0000  27.0000\n",
       "240   https   1857.000000   1857.000000  Default  26.0000  26.0000\n",
       "...     ...           ...           ...      ...      ...      ...\n",
       "686   China    313.028053    871.390229   Topic5  -5.1426   1.3415\n",
       "154     War    244.335945    652.319957   Topic5  -5.3903   1.3833\n",
       "1039  state    235.364065    641.136107   Topic5  -5.4277   1.3632\n",
       "915    also    246.169900   2259.106838   Topic5  -5.3829   0.1486\n",
       "484    post    201.520752    826.844549   Topic5  -5.5830   0.9536\n",
       "\n",
       "[329 rows x 6 columns], token_table=      Topic      Freq Term\n",
       "term                      \n",
       "53        1  0.301573     \n",
       "53        2  0.178505     \n",
       "53        3  0.153004     \n",
       "53        4  0.323193     \n",
       "53        5  0.043240     \n",
       "...     ...       ...  ...\n",
       "1786      4  0.049136   ’s\n",
       "1786      5  0.078803   ’s\n",
       "4706      5  0.997994    ⠀\n",
       "4721      5  0.999520    ⣿\n",
       "3182      5  0.997946    😂\n",
       "\n",
       "[629 rows x 3 columns], R=30, lambda_step=0.01, plot_opts={'xlab': 'PC1', 'ylab': 'PC2'}, topic_order=[3, 4, 2, 1, 5])"
      ]
     },
     "execution_count": 45,
     "metadata": {},
     "output_type": "execute_result"
    }
   ],
   "source": [
    "# viz of model\n",
    "pyLDAvis.enable_notebook()\n",
    "\n",
    "lda_viz = gensimvis.prepare(lda_model, corpus, dictionary)\n",
    "lda_viz"
   ]
  },
  {
   "cell_type": "markdown",
   "metadata": {},
   "source": [
    "The topic model that results from the positive data is surprisingly less helpful for interpreting the general mindset of the r/HistoryMemes user population. I will hold the lambda value at 0.4 for the purposes of this analysis to place slightly more weight on the exclusivity of the tokens. Topic 1 does not provide any information about the subreddit or its users. It is made almost entirely of words that include \"think\", \"like\", and \"know\"; while not stopwords, these words provide very little value to an analysis based on comment content. Topic 2 is much more informative. It deals with international conflict, as seen by the number of countries in the most relevant tokens: \"Germany\", \"France\", \"US\", \"Japan\", \"Russia\", and \"Britain\". These countries were all major players in World War II, which indicates that many of the most popular comments contain information about that war. The dominance of the Second World War is not unexpected on an online forum. World War II was relatively recent in history, meaning that there is a large quantity of surviving documents and information. Furthermore, many of these sources have been digitized. Logistically, it is easy to get information on World War II specifically.\n",
    "\n",
    "Furthermore, the conflict has been mythologized in many ways. I believe that this shows the signification of the War as representative of all of history. It is highly unlikely that all of the comments that reference World War II actually occur under posts that are about the war. However, commenters are most familiar with World War II as a cultural standard; it is likely present in every country's educational standards. For example, the meme below references Canadian soldiers during World War I. However, most redditors are more likely familiar with the Canadian Armed Forces in relation to Normandy and the Liberation of the Netherlands in World War II. A lengthy comment by u/igorsmith described these conflicts in detail, despite being tangentially related to the meme itself. World War II has such a large presence as the myth that it has become what redditors use to connect various unrelated historical facts into an relatable shared understanding of historical events.\n",
    "\n",
    "\n",
    "<table><tr>\n",
    "<td> <img src=\"figures/canadameme.png\" width=\"400\" /> Figure 3.a: Meme about Canadian soldiers</td>\n",
    "<td> <img src=\"figures/comment.png\" width=\"400\" /> Figure 3.b: Comment thread regarding Canada in WW2</td>\n",
    "</tr></table>\n",
    "\n"
   ]
  },
  {
   "cell_type": "markdown",
   "metadata": {
    "tags": []
   },
   "source": [
    "### Word Embeddings and Language Biases\n"
   ]
  },
  {
   "cell_type": "code",
   "execution_count": 26,
   "metadata": {},
   "outputs": [],
   "source": [
    "# write the discussion of results after the relevant code.\n",
    "os.chdir(r\"C:\\Users\\Jay Sahaym\\DIGHUM160-master\\DIGHUM160-master\\Notebooks\\Final_project_template\\Final_project_template\\data\\HistoryMemesClassData\")\n",
    "#grabbing embedding made from all comments dataset in notebook 4-1\n",
    "model = Word2Vec.load('HM_com.emb')"
   ]
  },
  {
   "cell_type": "code",
   "execution_count": 27,
   "metadata": {},
   "outputs": [],
   "source": [
    "# Language biases from notebook 4-2\n",
    "def _calculate_centroid(model, wordlist):\n",
    "    '''\n",
    "    Calculate centroid of the wordlist list of words based on the model embedding vectors\n",
    "    '''\n",
    "    centr = np.zeros( len(model.wv[wordlist[0]]) )\n",
    "    for w in wordlist:\n",
    "        centr += np.array(model.wv[w])\n",
    "    return centr/len(wordlist)\n",
    "\n",
    "def _keep_only_model_words(model, words):\n",
    "    aux = [ word for word in words if word in model.wv.index_to_key]\n",
    "    return aux\n",
    "\n",
    "def _get_word_freq(model, word):\n",
    "    if word in model.wv.index_to_key:\n",
    "        index = model.wv.key_to_index[word]\n",
    "        count = model.wv.get_vecattr(word, \"count\")\n",
    "        return [word, count, index]\n",
    "    return None\n",
    "\n",
    "def _get_model_min_max_rank(model):\n",
    "    minF = 999999\n",
    "    maxF = -1\n",
    "    for w in model.wv.index_to_key:\n",
    "        rank = model.wv.key_to_index[w]\n",
    "        if(minF>rank):\n",
    "            minF = rank\n",
    "        if(maxF<rank):\n",
    "            maxF = rank\n",
    "    return [minF, maxF]\n",
    "\n",
    "sid = SentimentIntensityAnalyzer()\n",
    "def _get_sentiment(word):\n",
    "    return sid.polarity_scores(word)['compound']\n",
    "\n",
    "'''\n",
    "Normalises a value in the positive space\n",
    "'''    \n",
    "def _normalise(val, minF, maxF):\n",
    "    #print(val, minF, maxF)\n",
    "    if(maxF<0 or minF<0 or val<0):\n",
    "        raise Exception('All values should be in the positive space. minf: {}, max: {}, freq: {}'.format(minF, maxF, val))\n",
    "    if(maxF<= minF):\n",
    "        raise Exception('Maximum frequency should be bigger than min frequency. minf: {}, max: {}, freq: {}'.format(minF, maxF, freq))\n",
    "    val -= minF\n",
    "    val = val/(maxF-minF)\n",
    "    return val\n",
    "\n",
    "def _get_cosine_distance(wv1, wv2):\n",
    "    return spatial.distance.cosine(wv1, wv2)\n",
    "\n",
    "def _get_min_max(dict_value):\n",
    "    l = list(dict_value.values())\n",
    "    return [ min(l), max(l)]\n",
    "\n",
    "def _find_stdev_threshold_sal(dwords, stdevs):\n",
    "    '''\n",
    "    dword is an object like {'word':w, 'bias':bias, 'biasW':biasW, 'freq':freq, 'freqW':freqW, 'sal':val, 'wv':wv, 'sent':sent }\n",
    "    stdevs : minimum stdevs for which we want to compute the threshold\n",
    "\n",
    "    returns\n",
    "    outlier_thr : the threshold correpsonding to stdevs considering salience values from the dwrods object list\n",
    "    '''\n",
    "    allsal = []\n",
    "    for obj in dwords:\n",
    "        allsal.append(obj['sal'])\n",
    "    stdev = statistics.stdev(allsal)\n",
    "    outlier_thr = (stdev*stdevs)+sum(allsal)/len(allsal)\n",
    "    return outlier_thr\n",
    "\n",
    "def calculate_biased_words(model, targetset1, targetset2, stdevs, \n",
    "                         acceptedPOS = ['JJ', 'JJS', 'JJR','NN', 'NNS', 'NNP', 'NNPS','VB', 'VBG', 'VBD', 'VBN', 'VBP', 'VBZ' ], \n",
    "                         words = None, force=False):\n",
    "    '''\n",
    "    this function calculates the list of biased words towards targetset1 and taregset2 with salience > than the \n",
    "    specified times (minstdev) of standard deviation.\n",
    "\n",
    "    targetset1 <list of strings> : target set 1\n",
    "    targetset2 <list of strings> : target set 2\n",
    "    minstdev int : Minium threhsold for stdev to select biased words\n",
    "    acceptedPOS <list<str>> : accepted list of POS to consider for the analysis, as defined in NLTK POS tagging lib. \n",
    "                              If None, no POS filtering is applied and all words in the vocab are considered\n",
    "    words list<str> : list of words we want to consider. If None, all words in the vocab are considered\n",
    "    '''\n",
    "    if(model is None):\n",
    "        raise Exception(\"You need to define a model to estimate biased words.\")\n",
    "    if(targetset1 is None or targetset2 is None):\n",
    "        raise Exception(\"Target sets are necessary to estimate biased words.\")\n",
    "    if(stdevs is None):\n",
    "        raise Exception(\"You need to define a minimum threshold for standard deviation to select biased words.\")\n",
    "   \n",
    "    tset1 = _keep_only_model_words(model, targetset1) # remove target set words that do not exist in the model\n",
    "    tset2 = _keep_only_model_words(model, targetset2) # remove target set words that do not exist in the model\n",
    "\n",
    "    # We remove words in the target sets, and also their plurals from the set of interesting words to process.\n",
    "    engine = inflect.engine()\n",
    "    toremove = targetset1 + targetset2 + [engine.plural(w) for w in targetset1] + [engine.plural(w) for w in targetset2]\n",
    "    if(words is None):\n",
    "        words = [w for w in list(model.wv.index_to_key) if w not in toremove]\n",
    "\n",
    "    # Calculate centroids \n",
    "    tset1_centroid = _calculate_centroid(model, tset1)\n",
    "    tset2_centroid = _calculate_centroid(model, tset2)\n",
    "    [minR, maxR] = _get_model_min_max_rank(model)\n",
    "\n",
    "    # Get biases for words\n",
    "    biasWF = {}\n",
    "    biasWM = {}\n",
    "    for i, w in enumerate(words):\n",
    "        p = nltk.pos_tag([w])[0][1]\n",
    "        if acceptedPOS is not None and p not in acceptedPOS:\n",
    "            continue\n",
    "        wv = model.wv[w]\n",
    "        diff = _get_cosine_distance(tset2_centroid, wv) - _get_cosine_distance(tset1_centroid, wv)\n",
    "        if(diff>0):\n",
    "            biasWF[w] = diff\n",
    "        else:\n",
    "            biasWM[w] = -1*diff\n",
    "\n",
    "    # Get min and max bias for both target sets, so we can normalise these values later\n",
    "    [minbf, maxbf] = _get_min_max(biasWF)\n",
    "    [minbm, maxbm] = _get_min_max(biasWM)\n",
    "\n",
    "    # Iterate through all 'selected' words\n",
    "    biased1 = []\n",
    "    biased2 = []\n",
    "    for i, w in enumerate(words):\n",
    "        # Print('..Processing ', w)\n",
    "        p = nltk.pos_tag([w])[0][1]\n",
    "        if acceptedPOS is not None and p not in acceptedPOS:\n",
    "            continue\n",
    "        wv = model.wv[w]\n",
    "        # Sentiment\n",
    "        sent = _get_sentiment(w)\n",
    "        # Rank and rank norm\n",
    "        freq = _get_word_freq(model, w)[1]\n",
    "        rank = _get_word_freq(model, w)[2]\n",
    "        rankW = 1-_normalise(rank, minR, maxR) \n",
    "\n",
    "        # Normalise bias\n",
    "        if(w in biasWF):\n",
    "            bias = biasWF[w]\n",
    "            biasW = _normalise(bias, minbf, maxbf)\n",
    "            val = biasW * rankW\n",
    "            biased1.append({'word':w, 'bias':bias, 'biasW':biasW, 'freq':freq, 'rank':rank, 'rankW':rankW, 'sal':val, 'wv':wv.tolist(), 'sent':sent } ) \n",
    "        if(w in biasWM):\n",
    "            bias = biasWM[w]\n",
    "            biasW = _normalise(bias, minbm, maxbm)\n",
    "            val = biasW * rankW\n",
    "            biased2.append({'word':w, 'bias':bias, 'biasW':biasW, 'freq':freq, 'rank':rank, 'rankW':rankW, 'sal':val, 'wv':wv.tolist(), 'sent':sent } ) \n",
    "\n",
    "    # Calculate the salience threshold for both word sets, and select the list of biased words (i.e., which words do we discard?)\n",
    "    stdevs1_thr = _find_stdev_threshold_sal(biased1, stdevs)\n",
    "    stdevs2_thr = _find_stdev_threshold_sal(biased2, stdevs)\n",
    "    # biased1.sort(key=lambda x: x['sal'], reverse=True)\n",
    "    b1_dict = {}\n",
    "    for k in biased1:\n",
    "        if(k['sal']>=stdevs1_thr):\n",
    "            b1_dict[k['word']] = k\n",
    "    # biased2.sort(key=lambda x: x['sal'], reverse=True)\n",
    "    b2_dict = {}\n",
    "    for k in biased2:\n",
    "        if(k['sal']>=stdevs2_thr):\n",
    "            b2_dict[k['word']] = k\n",
    "\n",
    "    #transform centroid tol list so they become serializable\n",
    "    tset1_centroid = tset1_centroid.tolist() \n",
    "    tset2_centroid = tset2_centroid.tolist()\n",
    "    return [b1_dict, b2_dict]"
   ]
  },
  {
   "cell_type": "code",
   "execution_count": 50,
   "metadata": {},
   "outputs": [
    {
     "name": "stdout",
     "output_type": "stream",
     "text": [
      "christianity most similar words: [('judaism', 0.6086233258247375), ('abrahamic', 0.5238180160522461), ('islam', 0.5165027379989624), ('christian', 0.5043020248413086), ('religions', 0.49003273248672485), ('catholicism', 0.48651832342147827), ('religion', 0.4857149124145508), ('pagans', 0.48275884985923767), ('quran', 0.4780769944190979), ('cults', 0.4763493537902832)]\n",
      "\n",
      "islam most similar words: [('christianity', 0.5165027379989624), ('muhammad', 0.48416075110435486), ('religion', 0.4819541871547699), ('quran', 0.47571972012519836), ('judaism', 0.46730056405067444), ('warlord', 0.4630480408668518), ('caliphate', 0.4584866166114807), ('extremism', 0.44825443625450134), ('religions', 0.4482024312019348), ('fgm', 0.44541963934898376)]\n",
      "\n",
      "judaism most similar words: [('christianity', 0.608623206615448), ('torah', 0.5729265213012695), ('theological', 0.5709298253059387), ('abrahamic', 0.5602573156356812), ('religions', 0.557941198348999), ('old_testament', 0.5515438914299011), ('prophet', 0.5480818748474121), ('judea', 0.5423184037208557), ('birthplace', 0.5415878295898438), ('scripture', 0.5401706099510193)]\n",
      "\n",
      "christian most similar words: [('christianity', 0.5043020844459534), ('christians', 0.4845237731933594), ('orthodox', 0.48126986622810364), ('abrahamic', 0.45852354168891907), ('caliphate', 0.4564949572086334), ('muslim', 0.4549887478351593), ('crusaders', 0.45315253734588623), ('pagans', 0.44197535514831543), ('judea', 0.4396863281726837), ('levant', 0.4378689229488373)]\n",
      "\n",
      "muslim most similar words: [('fgm', 0.5155289173126221), ('muslims', 0.5001198649406433), ('shia', 0.4650959372520447), ('caliphate', 0.45994117856025696), ('christian', 0.4549888074398041), ('warlord', 0.44567954540252686), ('ibn', 0.4308340847492218), ('golden_age', 0.42797452211380005), ('iberia', 0.4224143326282501), ('iberian', 0.4214109182357788)]\n",
      "\n",
      "jewish most similar words: [('bankers', 0.48528698086738586), ('ashkenazi', 0.47682109475135803), ('jews', 0.4355057179927826), ('hebrews', 0.3980225622653961), ('bethlehem', 0.3909337520599365), ('judea', 0.3847557604312897), ('lobby', 0.37349313497543335), ('nationalities', 0.36713382601737976), ('oy_vey', 0.36639922857284546), ('displaced', 0.36398816108703613)]\n",
      "\n",
      "hindu most similar words: [('sikhs', 0.5799716711044312), ('buddhists', 0.5417782068252563), ('buddhist', 0.5109976530075073), ('mughals', 0.4899369478225708), ('latins', 0.4863927960395813), ('fgm', 0.4854400157928467), ('iberia', 0.48249003291130066), ('hebrews', 0.4811433255672455), ('subcontinent', 0.4736987054347992), ('beastly', 0.4720604121685028)]\n",
      "\n",
      "buddhist most similar words: [('islamist', 0.5693393349647522), ('religiously', 0.5478702783584595), ('buddhists', 0.5449512600898743), ('fundamentalist', 0.5355249047279358), ('theocratic', 0.5326817035675049), ('tolerated', 0.515459418296814), ('hindu', 0.5109977126121521), ('affiliated', 0.5042175054550171), ('sikhs', 0.5025456547737122), ('salvador', 0.49870139360427856)]\n",
      "\n",
      "atheist most similar words: [('antisemite', 0.5191020965576172), ('judaism', 0.5107777118682861), ('atheists', 0.5094829797744751), ('turk', 0.500710129737854), ('shapiro', 0.49585217237472534), ('theology', 0.49395012855529785), ('pedophile', 0.49351194500923157), ('ohhhh', 0.4901771545410156), ('unworthy', 0.4877225458621979), ('roach', 0.48561713099479675)]\n",
      "\n",
      "sikhs most similar words: [('hindus', 0.7269479632377625), ('mughals', 0.7141885161399841), ('buddhists', 0.7005713582038879), ('shia', 0.6626957058906555), ('bandits', 0.6443908214569092), ('iberia', 0.6403272747993469), ('sri', 0.6266497373580933), ('levant', 0.6237781643867493), ('latins', 0.6168068647384644), ('kashmir', 0.6152499318122864)]\n",
      "\n"
     ]
    }
   ],
   "source": [
    "def similarWords(word):\n",
    "    sims = model.wv.most_similar(word, topn=10)\n",
    "    print(f\"{word} most similar words: {sims}\\n\")\n",
    "religions = ['christianity','islam','judaism','christian','muslim','jewish', 'hindu','buddhist','atheist','sikhs']\n",
    "for r in religions:\n",
    "    similarWords(r)"
   ]
  },
  {
   "cell_type": "markdown",
   "metadata": {},
   "source": [
    "An interesting feature of the data is reflected while observing the similar words to a variety of religions. Both Islam and Judaism are most strongly similar to the other Abrahamic religion, Christianity. The strong similarity indicates that the Abrahamic religions are most often mentioned together or in similar contexts. Additionally, Hinduism, Buddhism, and Sikhism, three religions of Asian origin, are also frequently mentioned together. The commenters likely engage in frequent comparisons or debates on the merits of these religions."
   ]
  },
  {
   "cell_type": "code",
   "execution_count": 38,
   "metadata": {},
   "outputs": [],
   "source": [
    "# setting target sets\n",
    "t1=['allah', 'ramadan', 'turban', 'emir', 'salaam', 'sunni','koran', 'imam', 'sultan', 'prophet', 'veil', 'ayatollah', 'shiite', 'mosque', 'islam', 'sheik', 'muslim', 'muhammad'] \n",
    "#[\"sister\" , \"female\" , \"woman\" , \"girl\" , \"daughter\" , \"she\" , \"hers\" , \"her\", \"mother\"]\n",
    "t2=[\"baptism\", \"messiah\", \"catholicism\", \"resurrection\", \"christianity\", \"salvation\", \"protestant\", \"gospel\", \"trinity\", \"jesus\", \"christ\", \"christian\", \"cross\",\"catholic\", \"church\"]\n",
    "#[\"brother\" , \"male\" , \"man\" , \"boy\" , \"son\" , \"he\" , \"his\" , \"him\", \"father\"] \n",
    "\n",
    "[b1, b2] = calculate_biased_words(model, t1, t2, 4)"
   ]
  },
  {
   "cell_type": "code",
   "execution_count": 46,
   "metadata": {
    "collapsed": true,
    "jupyter": {
     "outputs_hidden": true
    },
    "tags": []
   },
   "outputs": [
    {
     "name": "stdout",
     "output_type": "stream",
     "text": [
      "[Testing range(2, 9) clusters]\n",
      "[Silhouette values [0.05002207187348128, 0.07239114529027033, 0.05824204972213888, 0.04882480271676787, 0.05069691660920368, 0.049579684213711096, 0.05274704430092995]\n",
      "[Max silhouette,  0.07239114529027033 ; index_k:  1 ]\n",
      "[Testing range(2, 6) clusters]\n",
      "[Silhouette values [0.14887334233788493, 0.05325423878355393, 0.07506915950899565, 0.03477772710405247]\n",
      "[Max silhouette,  0.14887334233788493 ; index_k:  0 ]\n"
     ]
    }
   ],
   "source": [
    "# creating clusters\n",
    "'''\n",
    "TARGET SET 1\n",
    "'''\n",
    "t1_embeddings = [b1[w]['wv'] for w in b1] # t1 embeddings = list of embeddings of words biased towards target set 1\n",
    "t1_words = [w for w in b1.keys()]\n",
    "\n",
    "# Clustering\n",
    "rangek = range(2, int((len(t1_embeddings)/2)-1) ) # Clusters should be min size 2 at max half of the amount of words (speeding up + forcing clusters)\n",
    "print('[Testing', rangek, 'clusters]')\n",
    "kmeans_p = [ KMeans(n_clusters=k).fit_predict(t1_embeddings) for k in rangek] \n",
    "kmeans_sil = [ sklearn.metrics.silhouette_score(t1_embeddings, labels) for labels in kmeans_p] \n",
    "print('[Silhouette values', kmeans_sil)\n",
    "indexmaxsil =  kmeans_sil.index(max(kmeans_sil))\n",
    "print('[Max silhouette, ', max(kmeans_sil), '; index_k: ',indexmaxsil,']')\n",
    "\n",
    "# Aggregating all clusters from same index in list\n",
    "clusters1 = {}\n",
    "for i, index in enumerate(kmeans_p[indexmaxsil]): # returns list of cluster index, telling you which cluster each word belongs to \n",
    "    if(index in clusters1):\n",
    "        clusters1[index].append(t1_words[i])\n",
    "    else:\n",
    "        clusters1[index]  = [t1_words[i]]\n",
    "        \n",
    "        \n",
    "'''\n",
    "TARGET SET 2\n",
    "'''\n",
    "t2_embeddings = [b2[w]['wv'] for w in b2]\n",
    "t2_words = [w for w in b2.keys()]\n",
    "\n",
    "# Clustering\n",
    "rangek = range(2, int((len(t2_embeddings)/2)-1) )\n",
    "print('[Testing', rangek, 'clusters]')\n",
    "kmeans_p = [ KMeans(n_clusters=k).fit_predict(t2_embeddings) for k in rangek ] \n",
    "kmeans_sil = [ sklearn.metrics.silhouette_score(t2_embeddings, labels) for labels in kmeans_p] \n",
    "print('[Silhouette values', kmeans_sil)\n",
    "indexmaxsil =  kmeans_sil.index(max(kmeans_sil))\n",
    "print('[Max silhouette, ', max(kmeans_sil), '; index_k: ',indexmaxsil,']')\n",
    "\n",
    "clusters2 = {}\n",
    "for i, index in enumerate(kmeans_p[indexmaxsil]):\n",
    "    if(index in clusters2):\n",
    "        clusters2[index].append(t2_words[i])\n",
    "    else:\n",
    "        clusters2[index]  = [t2_words[i]]"
   ]
  },
  {
   "cell_type": "code",
   "execution_count": 47,
   "metadata": {},
   "outputs": [],
   "source": [
    "# setting labels\n",
    "labels1 = [] \n",
    "y1 = []\n",
    "embs1 = []\n",
    "for k in clusters1:\n",
    "    labels1 += clusters1[k]\n",
    "embs1 = [model.wv[j] for j in labels1]\n",
    "y1 = len(labels1)*[0]\n",
    "\n",
    "labels2 = []\n",
    "y2 = []\n",
    "embs2 = []\n",
    "for k in clusters2:\n",
    "    labels2 += clusters2[k]\n",
    "embs2 = [model.wv[j] for j in labels2]\n",
    "y2 = len(labels2)*[1]\n",
    "\n",
    "labels = labels1 +labels2\n",
    "y      = y1 +y2\n",
    "embs   = embs1 + embs2\n"
   ]
  },
  {
   "cell_type": "code",
   "execution_count": 48,
   "metadata": {},
   "outputs": [
    {
     "name": "stderr",
     "output_type": "stream",
     "text": [
      "C:\\Users\\Jay Sahaym\\anaconda3\\lib\\site-packages\\seaborn\\rcmod.py:82: DeprecationWarning: distutils Version classes are deprecated. Use packaging.version instead.\n",
      "  if LooseVersion(mpl.__version__) >= \"3.0\":\n",
      "C:\\Users\\Jay Sahaym\\anaconda3\\lib\\site-packages\\setuptools\\_distutils\\version.py:351: DeprecationWarning: distutils Version classes are deprecated. Use packaging.version instead.\n",
      "  other = LooseVersion(other)\n",
      "C:\\Users\\Jay Sahaym\\anaconda3\\lib\\site-packages\\sklearn\\manifold\\_t_sne.py:790: FutureWarning: The default learning rate in TSNE will change from 200.0 to 'auto' in 1.2.\n",
      "  warnings.warn(\n",
      "C:\\Users\\Jay Sahaym\\anaconda3\\lib\\site-packages\\sklearn\\manifold\\_t_sne.py:982: FutureWarning: The PCA initialization in TSNE will change to have the standard deviation of PC1 equal to 1e-4 in 1.2. This will ensure better convergence.\n",
      "  warnings.warn(\n",
      "C:\\Users\\Jay Sahaym\\anaconda3\\lib\\site-packages\\IPython\\core\\pylabtools.py:151: UserWarning: Glyph 128079 (\\N{CLAPPING HANDS SIGN}) missing from current font.\n",
      "  fig.canvas.print_figure(bytes_io, **kw)\n"
     ]
    },
    {
     "data": {
      "image/png": "[encoded data removed]",
      "text/plain": [
       "<Figure size 1152x1152 with 1 Axes>"
      ]
     },
     "metadata": {
      "needs_background": "light"
     },
     "output_type": "display_data"
    }
   ],
   "source": [
    "# t-SNE plot \n",
    "tsne = TSNE(perplexity=10, n_components=2, init='pca', n_iter=5000, random_state=42)\n",
    "X_tsne = tsne.fit_transform(embs) # X_tsne = [[1,2], [3,4], [5,6]]\n",
    "\n",
    "\n",
    "# split the X and Y coordinates\n",
    "embsx = [x[0] for x in X_tsne]\n",
    "embsy = [x[1] for x in X_tsne]\n",
    "color = ['blue' if i == 0 else 'red' for i in y]\n",
    "\n",
    "plt.figure(figsize=(16, 16)) \n",
    "for i in range(len(embs)):\n",
    "    plt.scatter(embsx[i],embsy[i], c=color[i])\n",
    "    plt.annotate( labels[i],\n",
    "                  xy=(embsx[i],embsy[i]),\n",
    "                  xytext=(6, 3),\n",
    "                  textcoords='offset points',\n",
    "                  ha='right',\n",
    "                  va='bottom')\n",
    "plt.show()"
   ]
  },
  {
   "cell_type": "markdown",
   "metadata": {},
   "source": [
    "The first set of target sets I used was the religion target sets taken from Garg et al. 2018. Here we can see how the discussion of Islam, represented by the blue dots, is conducted on the subreddit. One main cluster relates to the Arab-Israeli conflict. Another deals with some of the most prominent Muslim-majority countries, while yet another deals with issues such as \"terrorist\" and \"suicide\". Contrastingly, the Christian data set has very little controversial topics.\n",
    "\n",
    "This contrast between the treatment of religions shows how the more problematic elements of Islam are most strongly associated with it, while discussion on Christianity is more varied and diverse. In fact, because of the words present for Christianity, it seems there is no strong lean in the subreddit either for or against the religion. However, this lack of bias may be exactly what we are looking for. Islam is treated as a threat; words involving violence as well as countries with less than stellar international reputations (Syria) are among those in the plot. However, Christianity has no such worries perpetuated by the subreddit. The users of the subreddit are likely more comfortable with discussions of Christianity, indicating that the user base is likely majority Western.\n"
   ]
  },
  {
   "cell_type": "markdown",
   "metadata": {},
   "source": [
    "<img src=\"figures/tsneMF.png\" width=\"960\" /> \n",
    "Figure 4: t-SNE using Male and Female target sets\n"
   ]
  },
  {
   "cell_type": "markdown",
   "metadata": {},
   "source": [
    "The second set of target sets I used was the gender target sets taken from Nosek, Banaji, and Greenwald 2002. There is very little overlap here, with clear clusters. Based on the word embedding, one of the main clusters in how women are referenced in the subreddit is their traditional role in war. Historically, women have been rarely involved directly in war. Instead, they have been made victims of many different brutalities. These actions are referenced in the cluster containing \"rape\", \"murder\", \"sexual\", and \"abuse\". The plot indicates two variables of the subreddit's general worldview. Firstly, it focuses on war and conquest. This can be seen in the \"glory\" cluster of words biased towards the male target set, as well as the previous topic models. Secondly, women are often not treated as active participants in history. Many of the words seen in the t-SNE plot are passive and unrelated to historical feats or events involving women. Identity based words such as \"gender\" are also used along with more superficial terms like \"hair\". The usage of these words indicates a lack of historical discussion occurring about women in the comments of r/HistoryMemes, which could perpetuate the stereotype of women being unimportant in historical events."
   ]
  },
  {
   "cell_type": "markdown",
   "metadata": {},
   "source": [
    "## Conclusions\n",
    "\n",
    "The use of topic modeling, word embeddings, and language bias tracking tools on the comments data from r/HistoryMemes has provided several key characteristics of the subreddit. Firstly, the subreddit considers itself to be quite open-minded and seeks to protect minority groups from negative targeted language. Commenters take an active role in showing their disapproval towards comments that pick on specific groups, especially when blurring historical fact as judged by the subreddit. \n",
    "\n",
    "Additionally, the subreddit mythologizes war, possibly to the point of fetishization. So much of the discourse is devoted to war and related topics, despite the vast array of other historical topics to choose from. This issue is also recognized by users of the subreddit, as seen in the below meme that falls under the \"Meta\" category. The subreddit falls under a form of Barthes's tridimensional pattern of myth (113). War signifies glory, and World War II functions as a type of availability heuristic due to its omnipresence in educational systems around the globe.\n",
    "\n",
    "<img src=\"figures/metameme.png\" width=\"800\" /> \n",
    "Figure 5: Meme about the subreddit\n",
    "\n"
   ]
  },
  {
   "cell_type": "markdown",
   "metadata": {},
   "source": [
    "Finally, the subreddit's language biases indicate that the majority of users approach history with a Western perspective, as shown by their familiarity with Christianity and fearful words surrounding Islam. There is a high probability that the majority of users are male as female-biased words often have little to do with history and are more related to history's impact on women.\n",
    "\n",
    "Further research could explore the different angles within the biases. Using more specific topics could allow for better target sets to be created from the word embeddings model. As mentinoed in the Dataset Information section, post data was not integrated into this project. With the use of an image transcriber, data could be obtained that reveals what topics have the most posts made about them. This information could be used to support the conclusions this project had about World War II's role in the subreddit."
   ]
  },
  {
   "cell_type": "markdown",
   "metadata": {},
   "source": [
    "## References\n",
    "\n",
    "\n",
    "Barthes, Roland. Mythologies: Roland Barthes. Hill and Wang, 1972.\n",
    "\n",
    "Davison, Patrick. \"The language of internet memes.\" *The social media reader* (2012): 120-134.\n",
    "\n",
    "Ferrer, Xavier, et al. \"Discovering and Categorising Language Biases in Reddit.\" *ICWSM*. 2021.\n",
    "\n",
    "Garg, Nikhil, et al. \"Word embeddings quantify 100 years of gender and ethnic stereotypes.\" *Proceedings of the National Academy of Sciences* 115.16 (2018): E3635-E3644.\n",
    "\n",
    "Nosek, Brian A., Mahzarin R. Banaji, and Anthony G. Greenwald. \"Harvesting implicit group attitudes and beliefs from a demonstration web site.\" *Group Dynamics: Theory, Research, and Practice* 6.1 (2002): 101.\n",
    "\n",
    "Vidal, Clément. \"What is a worldview?.\" *De wetenschappen en het creatieve aspect van de werkelijkheid*. 2008.\n"
   ]
  }
 ],
 "metadata": {
  "kernelspec": {
   "display_name": "Python 3 (ipykernel)",
   "language": "python",
   "name": "python3"
  },
  "language_info": {
   "codemirror_mode": {
    "name": "ipython",
    "version": 3
   },
   "file_extension": ".py",
   "mimetype": "text/x-python",
   "name": "python",
   "nbconvert_exporter": "python",
   "pygments_lexer": "ipython3",
   "version": "3.9.12"
  }
 },
 "nbformat": 4,
 "nbformat_minor": 4
}
